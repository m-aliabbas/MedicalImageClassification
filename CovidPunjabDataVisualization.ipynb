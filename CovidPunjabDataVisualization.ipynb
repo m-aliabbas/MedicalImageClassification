{
  "nbformat": 4,
  "nbformat_minor": 0,
  "metadata": {
    "colab": {
      "name": "CovidPunjabDataVisualization.ipynb",
      "provenance": [],
      "authorship_tag": "ABX9TyNUpNpzuWuKRKcyeYy3zKmM",
      "include_colab_link": true
    },
    "kernelspec": {
      "name": "python3",
      "display_name": "Python 3"
    }
  },
  "cells": [
    {
      "cell_type": "markdown",
      "metadata": {
        "id": "view-in-github",
        "colab_type": "text"
      },
      "source": [
        "<a href=\"https://colab.research.google.com/github/m-aliabbas/MedicalImageClassification/blob/master/CovidPunjabDataVisualization.ipynb\" target=\"_parent\"><img src=\"https://colab.research.google.com/assets/colab-badge.svg\" alt=\"Open In Colab\"/></a>"
      ]
    },
    {
      "cell_type": "code",
      "metadata": {
        "id": "dpy4fI_fTWOo",
        "colab_type": "code",
        "colab": {}
      },
      "source": [
        ""
      ],
      "execution_count": 0,
      "outputs": []
    },
    {
      "cell_type": "code",
      "metadata": {
        "id": "QSXzygarodL7",
        "colab_type": "code",
        "outputId": "f3446fdc-5166-44b4-e4d8-ee08b5661ae6",
        "colab": {
          "base_uri": "https://localhost:8080/",
          "height": 122
        }
      },
      "source": [
        "# Load the Drive helper and mount\n",
        "from google.colab import drive\n",
        "\n",
        "# This will prompt for authorization.\n",
        "drive.mount('/content/drive')"
      ],
      "execution_count": 0,
      "outputs": [
        {
          "output_type": "stream",
          "text": [
            "Go to this URL in a browser: https://accounts.google.com/o/oauth2/auth?client_id=947318989803-6bn6qk8qdgf4n4g3pfee6491hc0brc4i.apps.googleusercontent.com&redirect_uri=urn%3aietf%3awg%3aoauth%3a2.0%3aoob&response_type=code&scope=email%20https%3a%2f%2fwww.googleapis.com%2fauth%2fdocs.test%20https%3a%2f%2fwww.googleapis.com%2fauth%2fdrive%20https%3a%2f%2fwww.googleapis.com%2fauth%2fdrive.photos.readonly%20https%3a%2f%2fwww.googleapis.com%2fauth%2fpeopleapi.readonly\n",
            "\n",
            "Enter your authorization code:\n",
            "··········\n",
            "Mounted at /content/drive\n"
          ],
          "name": "stdout"
        }
      ]
    },
    {
      "cell_type": "code",
      "metadata": {
        "id": "0R6WyQKBtNIe",
        "colab_type": "code",
        "colab": {}
      },
      "source": [
        "from zipfile import ZipFile \n",
        "def unZip(file_name):\n",
        "  with ZipFile(file_name, 'r') as zip: \n",
        "      zip.extractall() \n",
        "      print('Done!') "
      ],
      "execution_count": 0,
      "outputs": []
    },
    {
      "cell_type": "code",
      "metadata": {
        "id": "l0HwjP_ttweq",
        "colab_type": "code",
        "outputId": "cf2fd357-c59f-491c-b597-ff97b268bd95",
        "colab": {
          "base_uri": "https://localhost:8080/",
          "height": 34
        }
      },
      "source": [
        "!ls 'drive/My Drive/covid/pak_adm_ocha_pco_gaul_20181218_shp.zip'"
      ],
      "execution_count": 0,
      "outputs": [
        {
          "output_type": "stream",
          "text": [
            "'drive/My Drive/covid/pak_adm_ocha_pco_gaul_20181218_shp.zip'\n"
          ],
          "name": "stdout"
        }
      ]
    },
    {
      "cell_type": "code",
      "metadata": {
        "id": "XDXe1rLYtOwY",
        "colab_type": "code",
        "outputId": "9a959693-d09b-40d4-c9c3-3784b6bfea52",
        "colab": {
          "base_uri": "https://localhost:8080/",
          "height": 34
        }
      },
      "source": [
        "unZip('drive/My Drive/covid/pak_adm_ocha_pco_gaul_20181218_shp.zip')"
      ],
      "execution_count": 0,
      "outputs": [
        {
          "output_type": "stream",
          "text": [
            "Done!\n"
          ],
          "name": "stdout"
        }
      ]
    },
    {
      "cell_type": "code",
      "metadata": {
        "id": "n8UonMTHuoJ6",
        "colab_type": "code",
        "outputId": "5e28da2b-59c3-42ce-fd41-38904eb3b9e2",
        "colab": {
          "base_uri": "https://localhost:8080/",
          "height": 901
        }
      },
      "source": [
        "!ls pak_adm_ocha_pco_gaul_20181218_SHP"
      ],
      "execution_count": 0,
      "outputs": [
        {
          "output_type": "stream",
          "text": [
            " pak_admbnda_adm0_ocha_pco_gaul_20181218.cpg\n",
            " pak_admbnda_adm0_ocha_pco_gaul_20181218.dbf\n",
            " pak_admbnda_adm0_ocha_pco_gaul_20181218.prj\n",
            " pak_admbnda_adm0_ocha_pco_gaul_20181218.sbn\n",
            " pak_admbnda_adm0_ocha_pco_gaul_20181218.sbx\n",
            " pak_admbnda_adm0_ocha_pco_gaul_20181218.shp\n",
            " pak_admbnda_adm0_ocha_pco_gaul_20181218.shp.xml\n",
            " pak_admbnda_adm0_ocha_pco_gaul_20181218.shx\n",
            " pak_admbnda_adm1_ocha_pco_gaul_20181218.cpg\n",
            " pak_admbnda_adm1_ocha_pco_gaul_20181218.dbf\n",
            " pak_admbnda_adm1_ocha_pco_gaul_20181218.prj\n",
            " pak_admbnda_adm1_ocha_pco_gaul_20181218.sbn\n",
            " pak_admbnda_adm1_ocha_pco_gaul_20181218.sbx\n",
            " pak_admbnda_adm1_ocha_pco_gaul_20181218.shp\n",
            " pak_admbnda_adm1_ocha_pco_gaul_20181218.shp.xml\n",
            " pak_admbnda_adm1_ocha_pco_gaul_20181218.shx\n",
            " pak_admbnda_adm2_ocha_pco_gaul_20181218.cpg\n",
            " pak_admbnda_adm2_ocha_pco_gaul_20181218.dbf\n",
            " pak_admbnda_adm2_ocha_pco_gaul_20181218.prj\n",
            " pak_admbnda_adm2_ocha_pco_gaul_20181218.sbn\n",
            " pak_admbnda_adm2_ocha_pco_gaul_20181218.sbx\n",
            " pak_admbnda_adm2_ocha_pco_gaul_20181218.shp\n",
            " pak_admbnda_adm2_ocha_pco_gaul_20181218.shp.xml\n",
            " pak_admbnda_adm2_ocha_pco_gaul_20181218.shx\n",
            " pak_admbnda_adm3_ocha_pco_gaul_20181218.cpg\n",
            " pak_admbnda_adm3_ocha_pco_gaul_20181218.dbf\n",
            " pak_admbnda_adm3_ocha_pco_gaul_20181218.prj\n",
            " pak_admbnda_adm3_ocha_pco_gaul_20181218.sbn\n",
            " pak_admbnda_adm3_ocha_pco_gaul_20181218.sbx\n",
            " pak_admbnda_adm3_ocha_pco_gaul_20181218.shp\n",
            " pak_admbnda_adm3_ocha_pco_gaul_20181218.shp.xml\n",
            " pak_admbnda_adm3_ocha_pco_gaul_20181218.shx\n",
            " pak_admbndl_admALL_ocha_pco_gaul_itos_20181218.cpg\n",
            " pak_admbndl_admALL_ocha_pco_gaul_itos_20181218.dbf\n",
            " pak_admbndl_admALL_ocha_pco_gaul_itos_20181218.prj\n",
            " pak_admbndl_admALL_ocha_pco_gaul_itos_20181218.sbn\n",
            " pak_admbndl_admALL_ocha_pco_gaul_itos_20181218.sbx\n",
            " pak_admbndl_admALL_ocha_pco_gaul_itos_20181218.shp\n",
            " pak_admbndl_admALL_ocha_pco_gaul_itos_20181218.shp.xml\n",
            " pak_admbndl_admALL_ocha_pco_gaul_itos_20181218.shx\n",
            " pak_admbndp_admALL_ocha_pco_gaul_itos_20181218.cpg\n",
            " pak_admbndp_admALL_ocha_pco_gaul_itos_20181218.dbf\n",
            " pak_admbndp_admALL_ocha_pco_gaul_itos_20181218.prj\n",
            " pak_admbndp_admALL_ocha_pco_gaul_itos_20181218.sbn\n",
            " pak_admbndp_admALL_ocha_pco_gaul_itos_20181218.sbx\n",
            " pak_admbndp_admALL_ocha_pco_gaul_itos_20181218.shp\n",
            " pak_admbndp_admALL_ocha_pco_gaul_itos_20181218.shp.xml\n",
            " pak_admbndp_admALL_ocha_pco_gaul_itos_20181218.shx\n",
            " pak_admbndt_adminUnitLookup.cpg\n",
            " pak_admbndt_adminUnitLookup.dbf\n",
            " pak_admbndt_adminUnitLookup.dbf.xml\n",
            "'PAK COD-AB 2018 12 26.pdf'\n"
          ],
          "name": "stdout"
        }
      ]
    },
    {
      "cell_type": "code",
      "metadata": {
        "id": "5sREIxzfT4Qk",
        "colab_type": "code",
        "outputId": "2aab2624-68fc-4d37-934c-84c2c94eb50e",
        "colab": {
          "base_uri": "https://localhost:8080/",
          "height": 462
        }
      },
      "source": [
        "!pip install geopandas"
      ],
      "execution_count": 0,
      "outputs": [
        {
          "output_type": "stream",
          "text": [
            "Collecting geopandas\n",
            "\u001b[?25l  Downloading https://files.pythonhosted.org/packages/83/c5/3cf9cdc39a6f2552922f79915f36b45a95b71fd343cfc51170a5b6ddb6e8/geopandas-0.7.0-py2.py3-none-any.whl (928kB)\n",
            "\r\u001b[K     |▍                               | 10kB 18.6MB/s eta 0:00:01\r\u001b[K     |▊                               | 20kB 1.7MB/s eta 0:00:01\r\u001b[K     |█                               | 30kB 2.2MB/s eta 0:00:01\r\u001b[K     |█▍                              | 40kB 2.5MB/s eta 0:00:01\r\u001b[K     |█▊                              | 51kB 2.0MB/s eta 0:00:01\r\u001b[K     |██▏                             | 61kB 2.3MB/s eta 0:00:01\r\u001b[K     |██▌                             | 71kB 2.5MB/s eta 0:00:01\r\u001b[K     |██▉                             | 81kB 2.7MB/s eta 0:00:01\r\u001b[K     |███▏                            | 92kB 2.9MB/s eta 0:00:01\r\u001b[K     |███▌                            | 102kB 2.8MB/s eta 0:00:01\r\u001b[K     |███▉                            | 112kB 2.8MB/s eta 0:00:01\r\u001b[K     |████▎                           | 122kB 2.8MB/s eta 0:00:01\r\u001b[K     |████▋                           | 133kB 2.8MB/s eta 0:00:01\r\u001b[K     |█████                           | 143kB 2.8MB/s eta 0:00:01\r\u001b[K     |█████▎                          | 153kB 2.8MB/s eta 0:00:01\r\u001b[K     |█████▋                          | 163kB 2.8MB/s eta 0:00:01\r\u001b[K     |██████                          | 174kB 2.8MB/s eta 0:00:01\r\u001b[K     |██████▍                         | 184kB 2.8MB/s eta 0:00:01\r\u001b[K     |██████▊                         | 194kB 2.8MB/s eta 0:00:01\r\u001b[K     |███████                         | 204kB 2.8MB/s eta 0:00:01\r\u001b[K     |███████▍                        | 215kB 2.8MB/s eta 0:00:01\r\u001b[K     |███████▊                        | 225kB 2.8MB/s eta 0:00:01\r\u001b[K     |████████▏                       | 235kB 2.8MB/s eta 0:00:01\r\u001b[K     |████████▌                       | 245kB 2.8MB/s eta 0:00:01\r\u001b[K     |████████▉                       | 256kB 2.8MB/s eta 0:00:01\r\u001b[K     |█████████▏                      | 266kB 2.8MB/s eta 0:00:01\r\u001b[K     |█████████▌                      | 276kB 2.8MB/s eta 0:00:01\r\u001b[K     |█████████▉                      | 286kB 2.8MB/s eta 0:00:01\r\u001b[K     |██████████▎                     | 296kB 2.8MB/s eta 0:00:01\r\u001b[K     |██████████▋                     | 307kB 2.8MB/s eta 0:00:01\r\u001b[K     |███████████                     | 317kB 2.8MB/s eta 0:00:01\r\u001b[K     |███████████▎                    | 327kB 2.8MB/s eta 0:00:01\r\u001b[K     |███████████▋                    | 337kB 2.8MB/s eta 0:00:01\r\u001b[K     |████████████                    | 348kB 2.8MB/s eta 0:00:01\r\u001b[K     |████████████▍                   | 358kB 2.8MB/s eta 0:00:01\r\u001b[K     |████████████▊                   | 368kB 2.8MB/s eta 0:00:01\r\u001b[K     |█████████████                   | 378kB 2.8MB/s eta 0:00:01\r\u001b[K     |█████████████▍                  | 389kB 2.8MB/s eta 0:00:01\r\u001b[K     |█████████████▊                  | 399kB 2.8MB/s eta 0:00:01\r\u001b[K     |██████████████▏                 | 409kB 2.8MB/s eta 0:00:01\r\u001b[K     |██████████████▌                 | 419kB 2.8MB/s eta 0:00:01\r\u001b[K     |██████████████▉                 | 430kB 2.8MB/s eta 0:00:01\r\u001b[K     |███████████████▏                | 440kB 2.8MB/s eta 0:00:01\r\u001b[K     |███████████████▌                | 450kB 2.8MB/s eta 0:00:01\r\u001b[K     |███████████████▉                | 460kB 2.8MB/s eta 0:00:01\r\u001b[K     |████████████████▎               | 471kB 2.8MB/s eta 0:00:01\r\u001b[K     |████████████████▋               | 481kB 2.8MB/s eta 0:00:01\r\u001b[K     |█████████████████               | 491kB 2.8MB/s eta 0:00:01\r\u001b[K     |█████████████████▎              | 501kB 2.8MB/s eta 0:00:01\r\u001b[K     |█████████████████▋              | 512kB 2.8MB/s eta 0:00:01\r\u001b[K     |██████████████████              | 522kB 2.8MB/s eta 0:00:01\r\u001b[K     |██████████████████▍             | 532kB 2.8MB/s eta 0:00:01\r\u001b[K     |██████████████████▊             | 542kB 2.8MB/s eta 0:00:01\r\u001b[K     |███████████████████             | 552kB 2.8MB/s eta 0:00:01\r\u001b[K     |███████████████████▍            | 563kB 2.8MB/s eta 0:00:01\r\u001b[K     |███████████████████▊            | 573kB 2.8MB/s eta 0:00:01\r\u001b[K     |████████████████████▏           | 583kB 2.8MB/s eta 0:00:01\r\u001b[K     |████████████████████▌           | 593kB 2.8MB/s eta 0:00:01\r\u001b[K     |████████████████████▉           | 604kB 2.8MB/s eta 0:00:01\r\u001b[K     |█████████████████████▏          | 614kB 2.8MB/s eta 0:00:01\r\u001b[K     |█████████████████████▌          | 624kB 2.8MB/s eta 0:00:01\r\u001b[K     |██████████████████████          | 634kB 2.8MB/s eta 0:00:01\r\u001b[K     |██████████████████████▎         | 645kB 2.8MB/s eta 0:00:01\r\u001b[K     |██████████████████████▋         | 655kB 2.8MB/s eta 0:00:01\r\u001b[K     |███████████████████████         | 665kB 2.8MB/s eta 0:00:01\r\u001b[K     |███████████████████████▎        | 675kB 2.8MB/s eta 0:00:01\r\u001b[K     |███████████████████████▋        | 686kB 2.8MB/s eta 0:00:01\r\u001b[K     |████████████████████████        | 696kB 2.8MB/s eta 0:00:01\r\u001b[K     |████████████████████████▍       | 706kB 2.8MB/s eta 0:00:01\r\u001b[K     |████████████████████████▊       | 716kB 2.8MB/s eta 0:00:01\r\u001b[K     |█████████████████████████       | 727kB 2.8MB/s eta 0:00:01\r\u001b[K     |█████████████████████████▍      | 737kB 2.8MB/s eta 0:00:01\r\u001b[K     |█████████████████████████▊      | 747kB 2.8MB/s eta 0:00:01\r\u001b[K     |██████████████████████████▏     | 757kB 2.8MB/s eta 0:00:01\r\u001b[K     |██████████████████████████▌     | 768kB 2.8MB/s eta 0:00:01\r\u001b[K     |██████████████████████████▉     | 778kB 2.8MB/s eta 0:00:01\r\u001b[K     |███████████████████████████▏    | 788kB 2.8MB/s eta 0:00:01\r\u001b[K     |███████████████████████████▌    | 798kB 2.8MB/s eta 0:00:01\r\u001b[K     |████████████████████████████    | 808kB 2.8MB/s eta 0:00:01\r\u001b[K     |████████████████████████████▎   | 819kB 2.8MB/s eta 0:00:01\r\u001b[K     |████████████████████████████▋   | 829kB 2.8MB/s eta 0:00:01\r\u001b[K     |█████████████████████████████   | 839kB 2.8MB/s eta 0:00:01\r\u001b[K     |█████████████████████████████▎  | 849kB 2.8MB/s eta 0:00:01\r\u001b[K     |█████████████████████████████▋  | 860kB 2.8MB/s eta 0:00:01\r\u001b[K     |██████████████████████████████  | 870kB 2.8MB/s eta 0:00:01\r\u001b[K     |██████████████████████████████▍ | 880kB 2.8MB/s eta 0:00:01\r\u001b[K     |██████████████████████████████▊ | 890kB 2.8MB/s eta 0:00:01\r\u001b[K     |███████████████████████████████ | 901kB 2.8MB/s eta 0:00:01\r\u001b[K     |███████████████████████████████▍| 911kB 2.8MB/s eta 0:00:01\r\u001b[K     |███████████████████████████████▊| 921kB 2.8MB/s eta 0:00:01\r\u001b[K     |████████████████████████████████| 931kB 2.8MB/s \n",
            "\u001b[?25hCollecting pyproj>=2.2.0\n",
            "\u001b[?25l  Downloading https://files.pythonhosted.org/packages/a5/70/d58a104357de4ab7bcff67522ec4f139c6d7955472b55b751e6b4bc1bcea/pyproj-2.6.1-cp36-cp36m-manylinux2010_x86_64.whl (10.9MB)\n",
            "\u001b[K     |████████████████████████████████| 10.9MB 13.2MB/s \n",
            "\u001b[?25hRequirement already satisfied: pandas>=0.23.0 in /usr/local/lib/python3.6/dist-packages (from geopandas) (1.0.3)\n",
            "Requirement already satisfied: shapely in /usr/local/lib/python3.6/dist-packages (from geopandas) (1.7.0)\n",
            "Collecting fiona\n",
            "\u001b[?25l  Downloading https://files.pythonhosted.org/packages/ec/20/4e63bc5c6e62df889297b382c3ccd4a7a488b00946aaaf81a118158c6f09/Fiona-1.8.13.post1-cp36-cp36m-manylinux1_x86_64.whl (14.7MB)\n",
            "\u001b[K     |████████████████████████████████| 14.7MB 330kB/s \n",
            "\u001b[?25hRequirement already satisfied: numpy>=1.13.3 in /usr/local/lib/python3.6/dist-packages (from pandas>=0.23.0->geopandas) (1.18.3)\n",
            "Requirement already satisfied: python-dateutil>=2.6.1 in /usr/local/lib/python3.6/dist-packages (from pandas>=0.23.0->geopandas) (2.8.1)\n",
            "Requirement already satisfied: pytz>=2017.2 in /usr/local/lib/python3.6/dist-packages (from pandas>=0.23.0->geopandas) (2018.9)\n",
            "Collecting munch\n",
            "  Downloading https://files.pythonhosted.org/packages/cc/ab/85d8da5c9a45e072301beb37ad7f833cd344e04c817d97e0cc75681d248f/munch-2.5.0-py2.py3-none-any.whl\n",
            "Collecting cligj>=0.5\n",
            "  Downloading https://files.pythonhosted.org/packages/e4/be/30a58b4b0733850280d01f8bd132591b4668ed5c7046761098d665ac2174/cligj-0.5.0-py3-none-any.whl\n",
            "Collecting click-plugins>=1.0\n",
            "  Downloading https://files.pythonhosted.org/packages/e9/da/824b92d9942f4e472702488857914bdd50f73021efea15b4cad9aca8ecef/click_plugins-1.1.1-py2.py3-none-any.whl\n",
            "Requirement already satisfied: click<8,>=4.0 in /usr/local/lib/python3.6/dist-packages (from fiona->geopandas) (7.1.2)\n",
            "Requirement already satisfied: attrs>=17 in /usr/local/lib/python3.6/dist-packages (from fiona->geopandas) (19.3.0)\n",
            "Requirement already satisfied: six>=1.7 in /usr/local/lib/python3.6/dist-packages (from fiona->geopandas) (1.12.0)\n",
            "Installing collected packages: pyproj, munch, cligj, click-plugins, fiona, geopandas\n",
            "Successfully installed click-plugins-1.1.1 cligj-0.5.0 fiona-1.8.13.post1 geopandas-0.7.0 munch-2.5.0 pyproj-2.6.1\n"
          ],
          "name": "stdout"
        }
      ]
    },
    {
      "cell_type": "code",
      "metadata": {
        "id": "5U0e8AZfvjwf",
        "colab_type": "code",
        "colab": {}
      },
      "source": [
        "import pandas as pd\n",
        "import geopandas as gpd           # importing geopandas\n",
        "import matplotlib.pyplot as plt"
      ],
      "execution_count": 0,
      "outputs": []
    },
    {
      "cell_type": "code",
      "metadata": {
        "id": "WcEgIJ1avyz1",
        "colab_type": "code",
        "outputId": "7ad0fb22-cf20-4fa1-a723-8119fc84e810",
        "colab": {
          "base_uri": "https://localhost:8080/",
          "height": 901
        }
      },
      "source": [
        "!ls pak_adm_ocha_pco_gaul_20181218_SHP/"
      ],
      "execution_count": 0,
      "outputs": [
        {
          "output_type": "stream",
          "text": [
            " pak_admbnda_adm0_ocha_pco_gaul_20181218.cpg\n",
            " pak_admbnda_adm0_ocha_pco_gaul_20181218.dbf\n",
            " pak_admbnda_adm0_ocha_pco_gaul_20181218.prj\n",
            " pak_admbnda_adm0_ocha_pco_gaul_20181218.sbn\n",
            " pak_admbnda_adm0_ocha_pco_gaul_20181218.sbx\n",
            " pak_admbnda_adm0_ocha_pco_gaul_20181218.shp\n",
            " pak_admbnda_adm0_ocha_pco_gaul_20181218.shp.xml\n",
            " pak_admbnda_adm0_ocha_pco_gaul_20181218.shx\n",
            " pak_admbnda_adm1_ocha_pco_gaul_20181218.cpg\n",
            " pak_admbnda_adm1_ocha_pco_gaul_20181218.dbf\n",
            " pak_admbnda_adm1_ocha_pco_gaul_20181218.prj\n",
            " pak_admbnda_adm1_ocha_pco_gaul_20181218.sbn\n",
            " pak_admbnda_adm1_ocha_pco_gaul_20181218.sbx\n",
            " pak_admbnda_adm1_ocha_pco_gaul_20181218.shp\n",
            " pak_admbnda_adm1_ocha_pco_gaul_20181218.shp.xml\n",
            " pak_admbnda_adm1_ocha_pco_gaul_20181218.shx\n",
            " pak_admbnda_adm2_ocha_pco_gaul_20181218.cpg\n",
            " pak_admbnda_adm2_ocha_pco_gaul_20181218.dbf\n",
            " pak_admbnda_adm2_ocha_pco_gaul_20181218.prj\n",
            " pak_admbnda_adm2_ocha_pco_gaul_20181218.sbn\n",
            " pak_admbnda_adm2_ocha_pco_gaul_20181218.sbx\n",
            " pak_admbnda_adm2_ocha_pco_gaul_20181218.shp\n",
            " pak_admbnda_adm2_ocha_pco_gaul_20181218.shp.xml\n",
            " pak_admbnda_adm2_ocha_pco_gaul_20181218.shx\n",
            " pak_admbnda_adm3_ocha_pco_gaul_20181218.cpg\n",
            " pak_admbnda_adm3_ocha_pco_gaul_20181218.dbf\n",
            " pak_admbnda_adm3_ocha_pco_gaul_20181218.prj\n",
            " pak_admbnda_adm3_ocha_pco_gaul_20181218.sbn\n",
            " pak_admbnda_adm3_ocha_pco_gaul_20181218.sbx\n",
            " pak_admbnda_adm3_ocha_pco_gaul_20181218.shp\n",
            " pak_admbnda_adm3_ocha_pco_gaul_20181218.shp.xml\n",
            " pak_admbnda_adm3_ocha_pco_gaul_20181218.shx\n",
            " pak_admbndl_admALL_ocha_pco_gaul_itos_20181218.cpg\n",
            " pak_admbndl_admALL_ocha_pco_gaul_itos_20181218.dbf\n",
            " pak_admbndl_admALL_ocha_pco_gaul_itos_20181218.prj\n",
            " pak_admbndl_admALL_ocha_pco_gaul_itos_20181218.sbn\n",
            " pak_admbndl_admALL_ocha_pco_gaul_itos_20181218.sbx\n",
            " pak_admbndl_admALL_ocha_pco_gaul_itos_20181218.shp\n",
            " pak_admbndl_admALL_ocha_pco_gaul_itos_20181218.shp.xml\n",
            " pak_admbndl_admALL_ocha_pco_gaul_itos_20181218.shx\n",
            " pak_admbndp_admALL_ocha_pco_gaul_itos_20181218.cpg\n",
            " pak_admbndp_admALL_ocha_pco_gaul_itos_20181218.dbf\n",
            " pak_admbndp_admALL_ocha_pco_gaul_itos_20181218.prj\n",
            " pak_admbndp_admALL_ocha_pco_gaul_itos_20181218.sbn\n",
            " pak_admbndp_admALL_ocha_pco_gaul_itos_20181218.sbx\n",
            " pak_admbndp_admALL_ocha_pco_gaul_itos_20181218.shp\n",
            " pak_admbndp_admALL_ocha_pco_gaul_itos_20181218.shp.xml\n",
            " pak_admbndp_admALL_ocha_pco_gaul_itos_20181218.shx\n",
            " pak_admbndt_adminUnitLookup.cpg\n",
            " pak_admbndt_adminUnitLookup.dbf\n",
            " pak_admbndt_adminUnitLookup.dbf.xml\n",
            "'PAK COD-AB 2018 12 26.pdf'\n"
          ],
          "name": "stdout"
        }
      ]
    },
    {
      "cell_type": "code",
      "metadata": {
        "id": "UNjAr6Q2T7KH",
        "colab_type": "code",
        "colab": {}
      },
      "source": [
        "map_pak = gpd.read_file('pak_adm_ocha_pco_gaul_20181218_SHP/pak_admbnda_adm2_ocha_pco_gaul_20181218.shx')"
      ],
      "execution_count": 0,
      "outputs": []
    },
    {
      "cell_type": "code",
      "metadata": {
        "id": "nNWsFr-ZUFfT",
        "colab_type": "code",
        "colab": {}
      },
      "source": [
        "map_pun=map_pak[map_pak['ADM1_EN']=='Punjab']"
      ],
      "execution_count": 0,
      "outputs": []
    },
    {
      "cell_type": "code",
      "metadata": {
        "id": "Vx01qjIJbL3h",
        "colab_type": "code",
        "outputId": "5efaf472-78da-4a97-cec0-f8cb73b3ffce",
        "colab": {
          "base_uri": "https://localhost:8080/",
          "height": 564
        }
      },
      "source": [
        "map_pun.head()"
      ],
      "execution_count": 0,
      "outputs": [
        {
          "output_type": "execute_result",
          "data": {
            "text/html": [
              "<div>\n",
              "<style scoped>\n",
              "    .dataframe tbody tr th:only-of-type {\n",
              "        vertical-align: middle;\n",
              "    }\n",
              "\n",
              "    .dataframe tbody tr th {\n",
              "        vertical-align: top;\n",
              "    }\n",
              "\n",
              "    .dataframe thead th {\n",
              "        text-align: right;\n",
              "    }\n",
              "</style>\n",
              "<table border=\"1\" class=\"dataframe\">\n",
              "  <thead>\n",
              "    <tr style=\"text-align: right;\">\n",
              "      <th></th>\n",
              "      <th>Shape_Leng</th>\n",
              "      <th>Shape_Area</th>\n",
              "      <th>ADM2_EN</th>\n",
              "      <th>ADM2_PCODE</th>\n",
              "      <th>ADM2_REF</th>\n",
              "      <th>ADM2ALT1EN</th>\n",
              "      <th>ADM2ALT2EN</th>\n",
              "      <th>ADM1_EN</th>\n",
              "      <th>ADM1_PCODE</th>\n",
              "      <th>ADM0_EN</th>\n",
              "      <th>ADM0_PCODE</th>\n",
              "      <th>date</th>\n",
              "      <th>validOn</th>\n",
              "      <th>validTo</th>\n",
              "      <th>geometry</th>\n",
              "    </tr>\n",
              "  </thead>\n",
              "  <tbody>\n",
              "    <tr>\n",
              "      <th>1</th>\n",
              "      <td>4.739696</td>\n",
              "      <td>0.662449</td>\n",
              "      <td>Attock</td>\n",
              "      <td>PK601</td>\n",
              "      <td>None</td>\n",
              "      <td>None</td>\n",
              "      <td>None</td>\n",
              "      <td>Punjab</td>\n",
              "      <td>PK6</td>\n",
              "      <td>Pakistan</td>\n",
              "      <td>PK</td>\n",
              "      <td>2018-11-30</td>\n",
              "      <td>2018-12-18</td>\n",
              "      <td>None</td>\n",
              "      <td>POLYGON ((72.44029 34.00367, 72.44692 33.99373...</td>\n",
              "    </tr>\n",
              "    <tr>\n",
              "      <th>4</th>\n",
              "      <td>7.041104</td>\n",
              "      <td>0.795837</td>\n",
              "      <td>Bahawalnagar</td>\n",
              "      <td>PK602</td>\n",
              "      <td>None</td>\n",
              "      <td>None</td>\n",
              "      <td>None</td>\n",
              "      <td>Punjab</td>\n",
              "      <td>PK6</td>\n",
              "      <td>Pakistan</td>\n",
              "      <td>PK</td>\n",
              "      <td>2018-11-30</td>\n",
              "      <td>2018-12-18</td>\n",
              "      <td>None</td>\n",
              "      <td>POLYGON ((73.94623 30.30050, 73.94793 30.29692...</td>\n",
              "    </tr>\n",
              "    <tr>\n",
              "      <th>5</th>\n",
              "      <td>9.209631</td>\n",
              "      <td>2.215948</td>\n",
              "      <td>Bahawalpur</td>\n",
              "      <td>PK603</td>\n",
              "      <td>None</td>\n",
              "      <td>None</td>\n",
              "      <td>None</td>\n",
              "      <td>Punjab</td>\n",
              "      <td>PK6</td>\n",
              "      <td>Pakistan</td>\n",
              "      <td>PK</td>\n",
              "      <td>2018-11-30</td>\n",
              "      <td>2018-12-18</td>\n",
              "      <td>None</td>\n",
              "      <td>POLYGON ((72.42631 29.83978, 72.43404 29.83881...</td>\n",
              "    </tr>\n",
              "    <tr>\n",
              "      <th>10</th>\n",
              "      <td>4.597273</td>\n",
              "      <td>0.810269</td>\n",
              "      <td>Bhakkar</td>\n",
              "      <td>PK604</td>\n",
              "      <td>None</td>\n",
              "      <td>None</td>\n",
              "      <td>None</td>\n",
              "      <td>Punjab</td>\n",
              "      <td>PK6</td>\n",
              "      <td>Pakistan</td>\n",
              "      <td>PK</td>\n",
              "      <td>2018-11-30</td>\n",
              "      <td>2018-12-18</td>\n",
              "      <td>None</td>\n",
              "      <td>POLYGON ((71.58639 32.18415, 71.61048 32.17550...</td>\n",
              "    </tr>\n",
              "    <tr>\n",
              "      <th>13</th>\n",
              "      <td>4.686197</td>\n",
              "      <td>0.640391</td>\n",
              "      <td>Chakwal</td>\n",
              "      <td>PK605</td>\n",
              "      <td>None</td>\n",
              "      <td>None</td>\n",
              "      <td>None</td>\n",
              "      <td>Punjab</td>\n",
              "      <td>PK6</td>\n",
              "      <td>Pakistan</td>\n",
              "      <td>PK</td>\n",
              "      <td>2018-11-30</td>\n",
              "      <td>2018-12-18</td>\n",
              "      <td>None</td>\n",
              "      <td>POLYGON ((72.58409 33.21397, 72.59891 33.20223...</td>\n",
              "    </tr>\n",
              "  </tbody>\n",
              "</table>\n",
              "</div>"
            ],
            "text/plain": [
              "    Shape_Leng  ...                                           geometry\n",
              "1     4.739696  ...  POLYGON ((72.44029 34.00367, 72.44692 33.99373...\n",
              "4     7.041104  ...  POLYGON ((73.94623 30.30050, 73.94793 30.29692...\n",
              "5     9.209631  ...  POLYGON ((72.42631 29.83978, 72.43404 29.83881...\n",
              "10    4.597273  ...  POLYGON ((71.58639 32.18415, 71.61048 32.17550...\n",
              "13    4.686197  ...  POLYGON ((72.58409 33.21397, 72.59891 33.20223...\n",
              "\n",
              "[5 rows x 15 columns]"
            ]
          },
          "metadata": {
            "tags": []
          },
          "execution_count": 11
        }
      ]
    },
    {
      "cell_type": "code",
      "metadata": {
        "id": "QR7ICzIRUckF",
        "colab_type": "code",
        "colab": {}
      },
      "source": [
        "covid_data=pd.read_csv('drive/My Drive/covid/CovidDataFinal.csv')"
      ],
      "execution_count": 0,
      "outputs": []
    },
    {
      "cell_type": "code",
      "metadata": {
        "id": "uS1nw1_AX0EN",
        "colab_type": "code",
        "outputId": "ebd1e3ca-07e7-4dc5-8e8b-0b0bd516a705",
        "colab": {
          "base_uri": "https://localhost:8080/",
          "height": 204
        }
      },
      "source": [
        "covid_data.head()"
      ],
      "execution_count": 0,
      "outputs": [
        {
          "output_type": "execute_result",
          "data": {
            "text/html": [
              "<div>\n",
              "<style scoped>\n",
              "    .dataframe tbody tr th:only-of-type {\n",
              "        vertical-align: middle;\n",
              "    }\n",
              "\n",
              "    .dataframe tbody tr th {\n",
              "        vertical-align: top;\n",
              "    }\n",
              "\n",
              "    .dataframe thead th {\n",
              "        text-align: right;\n",
              "    }\n",
              "</style>\n",
              "<table border=\"1\" class=\"dataframe\">\n",
              "  <thead>\n",
              "    <tr style=\"text-align: right;\">\n",
              "      <th></th>\n",
              "      <th>Gender</th>\n",
              "      <th>District</th>\n",
              "      <th>Prov</th>\n",
              "      <th>TravleHis</th>\n",
              "      <th>Foriegn</th>\n",
              "      <th>Fever</th>\n",
              "      <th>Cough</th>\n",
              "      <th>Irritability</th>\n",
              "      <th>SoreThroat</th>\n",
              "      <th>RunnyNose</th>\n",
              "      <th>ShortBreath</th>\n",
              "      <th>Age</th>\n",
              "      <th>Status</th>\n",
              "      <th>Death</th>\n",
              "    </tr>\n",
              "  </thead>\n",
              "  <tbody>\n",
              "    <tr>\n",
              "      <th>0</th>\n",
              "      <td>Male</td>\n",
              "      <td>Dera Ghazi Khan</td>\n",
              "      <td>Punjab</td>\n",
              "      <td>Yes</td>\n",
              "      <td>NaN</td>\n",
              "      <td>Yes</td>\n",
              "      <td>Yes</td>\n",
              "      <td>Yes</td>\n",
              "      <td>Yes</td>\n",
              "      <td>NaN</td>\n",
              "      <td>NaN</td>\n",
              "      <td>40.0</td>\n",
              "      <td>Negtive</td>\n",
              "      <td>NaN</td>\n",
              "    </tr>\n",
              "    <tr>\n",
              "      <th>1</th>\n",
              "      <td>Male</td>\n",
              "      <td>Dera Ghazi Khan</td>\n",
              "      <td>Punjab</td>\n",
              "      <td>Yes</td>\n",
              "      <td>NaN</td>\n",
              "      <td>Yes</td>\n",
              "      <td>Yes</td>\n",
              "      <td>NaN</td>\n",
              "      <td>Yes</td>\n",
              "      <td>NaN</td>\n",
              "      <td>NaN</td>\n",
              "      <td>9.0</td>\n",
              "      <td>Negtive</td>\n",
              "      <td>NaN</td>\n",
              "    </tr>\n",
              "    <tr>\n",
              "      <th>2</th>\n",
              "      <td>Male</td>\n",
              "      <td>Dera Ghazi Khan</td>\n",
              "      <td>Punjab</td>\n",
              "      <td>Yes</td>\n",
              "      <td>NaN</td>\n",
              "      <td>Yes</td>\n",
              "      <td>Yes</td>\n",
              "      <td>NaN</td>\n",
              "      <td>Yes</td>\n",
              "      <td>NaN</td>\n",
              "      <td>NaN</td>\n",
              "      <td>56.0</td>\n",
              "      <td>Negtive</td>\n",
              "      <td>NaN</td>\n",
              "    </tr>\n",
              "    <tr>\n",
              "      <th>3</th>\n",
              "      <td>Female</td>\n",
              "      <td>Dera Ghazi Khan</td>\n",
              "      <td>Punjab</td>\n",
              "      <td>Yes</td>\n",
              "      <td>NaN</td>\n",
              "      <td>Yes</td>\n",
              "      <td>Yes</td>\n",
              "      <td>NaN</td>\n",
              "      <td>Yes</td>\n",
              "      <td>NaN</td>\n",
              "      <td>NaN</td>\n",
              "      <td>39.0</td>\n",
              "      <td>Positive</td>\n",
              "      <td>NaN</td>\n",
              "    </tr>\n",
              "    <tr>\n",
              "      <th>4</th>\n",
              "      <td>Female</td>\n",
              "      <td>Dera Ghazi Khan</td>\n",
              "      <td>Punjab</td>\n",
              "      <td>Yes</td>\n",
              "      <td>NaN</td>\n",
              "      <td>Yes</td>\n",
              "      <td>Yes</td>\n",
              "      <td>NaN</td>\n",
              "      <td>Yes</td>\n",
              "      <td>NaN</td>\n",
              "      <td>NaN</td>\n",
              "      <td>52.0</td>\n",
              "      <td>Positive</td>\n",
              "      <td>NaN</td>\n",
              "    </tr>\n",
              "  </tbody>\n",
              "</table>\n",
              "</div>"
            ],
            "text/plain": [
              "   Gender         District    Prov TravleHis  ... ShortBreath   Age    Status Death\n",
              "0    Male  Dera Ghazi Khan  Punjab       Yes  ...         NaN  40.0   Negtive   NaN\n",
              "1    Male  Dera Ghazi Khan  Punjab       Yes  ...         NaN   9.0   Negtive   NaN\n",
              "2    Male  Dera Ghazi Khan  Punjab       Yes  ...         NaN  56.0   Negtive   NaN\n",
              "3  Female  Dera Ghazi Khan  Punjab       Yes  ...         NaN  39.0  Positive   NaN\n",
              "4  Female  Dera Ghazi Khan  Punjab       Yes  ...         NaN  52.0  Positive   NaN\n",
              "\n",
              "[5 rows x 14 columns]"
            ]
          },
          "metadata": {
            "tags": []
          },
          "execution_count": 13
        }
      ]
    },
    {
      "cell_type": "code",
      "metadata": {
        "id": "-JsgmT6WkRnv",
        "colab_type": "code",
        "colab": {}
      },
      "source": [
        ""
      ],
      "execution_count": 0,
      "outputs": []
    },
    {
      "cell_type": "code",
      "metadata": {
        "id": "ddGjdjHRYj_0",
        "colab_type": "code",
        "outputId": "321372e9-e7bb-467e-f4ba-e1431cb0ad5c",
        "colab": {
          "base_uri": "https://localhost:8080/",
          "height": 85
        }
      },
      "source": [
        "covid_data['Status'].value_counts()"
      ],
      "execution_count": 0,
      "outputs": [
        {
          "output_type": "execute_result",
          "data": {
            "text/plain": [
              "Positive    4771\n",
              "Negtive     1361\n",
              "Death         16\n",
              "Name: Status, dtype: int64"
            ]
          },
          "metadata": {
            "tags": []
          },
          "execution_count": 14
        }
      ]
    },
    {
      "cell_type": "code",
      "metadata": {
        "id": "DJqsuXfUZWwc",
        "colab_type": "code",
        "colab": {}
      },
      "source": [
        "death=covid_data[covid_data['Status']=='Death']"
      ],
      "execution_count": 0,
      "outputs": []
    },
    {
      "cell_type": "code",
      "metadata": {
        "id": "cX5LXCrrnREr",
        "colab_type": "code",
        "colab": {}
      },
      "source": [
        "pos_data=covid_data[covid_data['Status']=='Positive']"
      ],
      "execution_count": 0,
      "outputs": []
    },
    {
      "cell_type": "code",
      "metadata": {
        "id": "m41HJPeAYgUm",
        "colab_type": "code",
        "colab": {}
      },
      "source": [
        "pos_data=pos_data.append(death)"
      ],
      "execution_count": 0,
      "outputs": []
    },
    {
      "cell_type": "code",
      "metadata": {
        "id": "vRGPPzpOZ7lg",
        "colab_type": "code",
        "outputId": "5bf92ade-f838-4cd5-f25c-2513d8bd536a",
        "colab": {
          "base_uri": "https://localhost:8080/",
          "height": 419
        }
      },
      "source": [
        "pos_data"
      ],
      "execution_count": 0,
      "outputs": [
        {
          "output_type": "execute_result",
          "data": {
            "text/html": [
              "<div>\n",
              "<style scoped>\n",
              "    .dataframe tbody tr th:only-of-type {\n",
              "        vertical-align: middle;\n",
              "    }\n",
              "\n",
              "    .dataframe tbody tr th {\n",
              "        vertical-align: top;\n",
              "    }\n",
              "\n",
              "    .dataframe thead th {\n",
              "        text-align: right;\n",
              "    }\n",
              "</style>\n",
              "<table border=\"1\" class=\"dataframe\">\n",
              "  <thead>\n",
              "    <tr style=\"text-align: right;\">\n",
              "      <th></th>\n",
              "      <th>Gender</th>\n",
              "      <th>District</th>\n",
              "      <th>Prov</th>\n",
              "      <th>TravleHis</th>\n",
              "      <th>Foriegn</th>\n",
              "      <th>Fever</th>\n",
              "      <th>Cough</th>\n",
              "      <th>Irritability</th>\n",
              "      <th>SoreThroat</th>\n",
              "      <th>RunnyNose</th>\n",
              "      <th>ShortBreath</th>\n",
              "      <th>Age</th>\n",
              "      <th>Status</th>\n",
              "      <th>Death</th>\n",
              "    </tr>\n",
              "  </thead>\n",
              "  <tbody>\n",
              "    <tr>\n",
              "      <th>3</th>\n",
              "      <td>Female</td>\n",
              "      <td>Dera Ghazi Khan</td>\n",
              "      <td>Punjab</td>\n",
              "      <td>Yes</td>\n",
              "      <td>NaN</td>\n",
              "      <td>Yes</td>\n",
              "      <td>Yes</td>\n",
              "      <td>NaN</td>\n",
              "      <td>Yes</td>\n",
              "      <td>NaN</td>\n",
              "      <td>NaN</td>\n",
              "      <td>39.0</td>\n",
              "      <td>Positive</td>\n",
              "      <td>NaN</td>\n",
              "    </tr>\n",
              "    <tr>\n",
              "      <th>4</th>\n",
              "      <td>Female</td>\n",
              "      <td>Dera Ghazi Khan</td>\n",
              "      <td>Punjab</td>\n",
              "      <td>Yes</td>\n",
              "      <td>NaN</td>\n",
              "      <td>Yes</td>\n",
              "      <td>Yes</td>\n",
              "      <td>NaN</td>\n",
              "      <td>Yes</td>\n",
              "      <td>NaN</td>\n",
              "      <td>NaN</td>\n",
              "      <td>52.0</td>\n",
              "      <td>Positive</td>\n",
              "      <td>NaN</td>\n",
              "    </tr>\n",
              "    <tr>\n",
              "      <th>9</th>\n",
              "      <td>Female</td>\n",
              "      <td>Dera Ghazi Khan</td>\n",
              "      <td>Punjab</td>\n",
              "      <td>Yes</td>\n",
              "      <td>NaN</td>\n",
              "      <td>Yes</td>\n",
              "      <td>NaN</td>\n",
              "      <td>Yes</td>\n",
              "      <td>Yes</td>\n",
              "      <td>NaN</td>\n",
              "      <td>NaN</td>\n",
              "      <td>27.0</td>\n",
              "      <td>Positive</td>\n",
              "      <td>NaN</td>\n",
              "    </tr>\n",
              "    <tr>\n",
              "      <th>29</th>\n",
              "      <td>Female</td>\n",
              "      <td>Dera Ghazi Khan</td>\n",
              "      <td>Punjab</td>\n",
              "      <td>Yes</td>\n",
              "      <td>NaN</td>\n",
              "      <td>Yes</td>\n",
              "      <td>Yes</td>\n",
              "      <td>Yes</td>\n",
              "      <td>Yes</td>\n",
              "      <td>NaN</td>\n",
              "      <td>NaN</td>\n",
              "      <td>21.0</td>\n",
              "      <td>Positive</td>\n",
              "      <td>NaN</td>\n",
              "    </tr>\n",
              "    <tr>\n",
              "      <th>52</th>\n",
              "      <td>Female</td>\n",
              "      <td>Dera Ghazi Khan</td>\n",
              "      <td>Punjab</td>\n",
              "      <td>Yes</td>\n",
              "      <td>NaN</td>\n",
              "      <td>Yes</td>\n",
              "      <td>Yes</td>\n",
              "      <td>NaN</td>\n",
              "      <td>Yes</td>\n",
              "      <td>NaN</td>\n",
              "      <td>NaN</td>\n",
              "      <td>54.0</td>\n",
              "      <td>Positive</td>\n",
              "      <td>NaN</td>\n",
              "    </tr>\n",
              "    <tr>\n",
              "      <th>...</th>\n",
              "      <td>...</td>\n",
              "      <td>...</td>\n",
              "      <td>...</td>\n",
              "      <td>...</td>\n",
              "      <td>...</td>\n",
              "      <td>...</td>\n",
              "      <td>...</td>\n",
              "      <td>...</td>\n",
              "      <td>...</td>\n",
              "      <td>...</td>\n",
              "      <td>...</td>\n",
              "      <td>...</td>\n",
              "      <td>...</td>\n",
              "      <td>...</td>\n",
              "    </tr>\n",
              "    <tr>\n",
              "      <th>8104</th>\n",
              "      <td>Male</td>\n",
              "      <td>Lahore</td>\n",
              "      <td>Punjab</td>\n",
              "      <td>NaN</td>\n",
              "      <td>NaN</td>\n",
              "      <td>NaN</td>\n",
              "      <td>NaN</td>\n",
              "      <td>NaN</td>\n",
              "      <td>NaN</td>\n",
              "      <td>NaN</td>\n",
              "      <td>NaN</td>\n",
              "      <td>80.0</td>\n",
              "      <td>Death</td>\n",
              "      <td>NaN</td>\n",
              "    </tr>\n",
              "    <tr>\n",
              "      <th>8189</th>\n",
              "      <td>Female</td>\n",
              "      <td>Lahore</td>\n",
              "      <td>Punjab</td>\n",
              "      <td>NaN</td>\n",
              "      <td>NaN</td>\n",
              "      <td>NaN</td>\n",
              "      <td>NaN</td>\n",
              "      <td>NaN</td>\n",
              "      <td>NaN</td>\n",
              "      <td>NaN</td>\n",
              "      <td>NaN</td>\n",
              "      <td>24.0</td>\n",
              "      <td>Death</td>\n",
              "      <td>NaN</td>\n",
              "    </tr>\n",
              "    <tr>\n",
              "      <th>8353</th>\n",
              "      <td>Male</td>\n",
              "      <td>Muzaffargarh</td>\n",
              "      <td>Punjab</td>\n",
              "      <td>NaN</td>\n",
              "      <td>NaN</td>\n",
              "      <td>NaN</td>\n",
              "      <td>NaN</td>\n",
              "      <td>NaN</td>\n",
              "      <td>NaN</td>\n",
              "      <td>NaN</td>\n",
              "      <td>NaN</td>\n",
              "      <td>62.0</td>\n",
              "      <td>Death</td>\n",
              "      <td>NaN</td>\n",
              "    </tr>\n",
              "    <tr>\n",
              "      <th>8513</th>\n",
              "      <td>Male</td>\n",
              "      <td>Lahore</td>\n",
              "      <td>Punjab</td>\n",
              "      <td>NaN</td>\n",
              "      <td>NaN</td>\n",
              "      <td>NaN</td>\n",
              "      <td>NaN</td>\n",
              "      <td>NaN</td>\n",
              "      <td>NaN</td>\n",
              "      <td>NaN</td>\n",
              "      <td>NaN</td>\n",
              "      <td>65.0</td>\n",
              "      <td>Death</td>\n",
              "      <td>NaN</td>\n",
              "    </tr>\n",
              "    <tr>\n",
              "      <th>8620</th>\n",
              "      <td>Male</td>\n",
              "      <td>Lahore</td>\n",
              "      <td>Punjab</td>\n",
              "      <td>NaN</td>\n",
              "      <td>NaN</td>\n",
              "      <td>NaN</td>\n",
              "      <td>NaN</td>\n",
              "      <td>NaN</td>\n",
              "      <td>NaN</td>\n",
              "      <td>NaN</td>\n",
              "      <td>NaN</td>\n",
              "      <td>43.0</td>\n",
              "      <td>Death</td>\n",
              "      <td>NaN</td>\n",
              "    </tr>\n",
              "  </tbody>\n",
              "</table>\n",
              "<p>4787 rows × 14 columns</p>\n",
              "</div>"
            ],
            "text/plain": [
              "      Gender         District    Prov  ...   Age    Status Death\n",
              "3     Female  Dera Ghazi Khan  Punjab  ...  39.0  Positive   NaN\n",
              "4     Female  Dera Ghazi Khan  Punjab  ...  52.0  Positive   NaN\n",
              "9     Female  Dera Ghazi Khan  Punjab  ...  27.0  Positive   NaN\n",
              "29    Female  Dera Ghazi Khan  Punjab  ...  21.0  Positive   NaN\n",
              "52    Female  Dera Ghazi Khan  Punjab  ...  54.0  Positive   NaN\n",
              "...      ...              ...     ...  ...   ...       ...   ...\n",
              "8104    Male           Lahore  Punjab  ...  80.0     Death   NaN\n",
              "8189  Female           Lahore  Punjab  ...  24.0     Death   NaN\n",
              "8353    Male     Muzaffargarh  Punjab  ...  62.0     Death   NaN\n",
              "8513    Male           Lahore  Punjab  ...  65.0     Death   NaN\n",
              "8620    Male           Lahore  Punjab  ...  43.0     Death   NaN\n",
              "\n",
              "[4787 rows x 14 columns]"
            ]
          },
          "metadata": {
            "tags": []
          },
          "execution_count": 18
        }
      ]
    },
    {
      "cell_type": "code",
      "metadata": {
        "id": "CfvlnwoXZovW",
        "colab_type": "code",
        "colab": {}
      },
      "source": [
        "dist_wisecase = pos_data['District'].value_counts()"
      ],
      "execution_count": 0,
      "outputs": []
    },
    {
      "cell_type": "code",
      "metadata": {
        "id": "yuI-E-Cam9jj",
        "colab_type": "code",
        "outputId": "d7a1f80f-e8d2-416b-ca28-ef377bf5d799",
        "colab": {
          "base_uri": "https://localhost:8080/",
          "height": 34
        }
      },
      "source": [
        "dist_wisecase.sum()"
      ],
      "execution_count": 0,
      "outputs": [
        {
          "output_type": "execute_result",
          "data": {
            "text/plain": [
              "4641"
            ]
          },
          "metadata": {
            "tags": []
          },
          "execution_count": 20
        }
      ]
    },
    {
      "cell_type": "code",
      "metadata": {
        "id": "GFnsMjWpbGIj",
        "colab_type": "code",
        "colab": {}
      },
      "source": [
        "data={'ADM2_EN':dist_wisecase.index}"
      ],
      "execution_count": 0,
      "outputs": []
    },
    {
      "cell_type": "code",
      "metadata": {
        "id": "0ktn70bZbZDX",
        "colab_type": "code",
        "colab": {}
      },
      "source": [
        "data['Cases']=dist_wisecase.values.flatten()"
      ],
      "execution_count": 0,
      "outputs": []
    },
    {
      "cell_type": "code",
      "metadata": {
        "id": "HxaHgCTGbqyi",
        "colab_type": "code",
        "outputId": "807e15b0-40c0-4484-de1a-03c409dc3ace",
        "colab": {
          "base_uri": "https://localhost:8080/",
          "height": 238
        }
      },
      "source": [
        "data"
      ],
      "execution_count": 0,
      "outputs": [
        {
          "output_type": "execute_result",
          "data": {
            "text/plain": [
              "{'ADM2_EN': Index(['Lahore', 'Bahawalnagar', 'Sargodha', 'Gujrat', 'Rawalpindi', 'Multan',\n",
              "        'Gujranwala', 'Outside Punjab', 'Muzaffargarh', 'Faisalabad',\n",
              "        'Dera Ghazi Khan', 'Jhelum', 'Sialkot', 'Rahim Yar Khan', 'Kasur',\n",
              "        'Hafizabad', 'Vehari', 'Other', 'Narowal', 'Lodhran', 'Khushab',\n",
              "        'Mianwali', 'Layyah', 'Bahawalpur', 'Sheikhupura', 'Attock',\n",
              "        'Islamabad', 'Bhakkar', 'Jhang', 'Nankana Sahib', 'Mandi Bahauddin',\n",
              "        'Toba Tek Singh', 'Chiniot', 'Chakwal', 'Khanewal', 'Rajanpur', 'Okara',\n",
              "        'Sahiwal', 'Pakpattan'],\n",
              "       dtype='object'),\n",
              " 'Cases': array([1476,  458,  397,  360,  265,  166,  165,  136,  130,   94,   92,\n",
              "          89,   80,   80,   75,   61,   57,   47,   45,   33,   32,   30,\n",
              "          28,   28,   27,   23,   22,   20,   20,   19,   18,   18,   14,\n",
              "           9,    9,    7,    5,    4,    2])}"
            ]
          },
          "metadata": {
            "tags": []
          },
          "execution_count": 23
        }
      ]
    },
    {
      "cell_type": "code",
      "metadata": {
        "id": "OUp_81xpaHb8",
        "colab_type": "code",
        "colab": {}
      },
      "source": [
        "dist_wisecase=pd.DataFrame(data)"
      ],
      "execution_count": 0,
      "outputs": []
    },
    {
      "cell_type": "code",
      "metadata": {
        "id": "czeACxXqaLGK",
        "colab_type": "code",
        "outputId": "ff212ddd-ab8e-4d85-9a48-ba50f3d7ad59",
        "colab": {
          "base_uri": "https://localhost:8080/",
          "height": 1000
        }
      },
      "source": [
        "dist_wisecase"
      ],
      "execution_count": 0,
      "outputs": [
        {
          "output_type": "execute_result",
          "data": {
            "text/html": [
              "<div>\n",
              "<style scoped>\n",
              "    .dataframe tbody tr th:only-of-type {\n",
              "        vertical-align: middle;\n",
              "    }\n",
              "\n",
              "    .dataframe tbody tr th {\n",
              "        vertical-align: top;\n",
              "    }\n",
              "\n",
              "    .dataframe thead th {\n",
              "        text-align: right;\n",
              "    }\n",
              "</style>\n",
              "<table border=\"1\" class=\"dataframe\">\n",
              "  <thead>\n",
              "    <tr style=\"text-align: right;\">\n",
              "      <th></th>\n",
              "      <th>ADM2_EN</th>\n",
              "      <th>Cases</th>\n",
              "    </tr>\n",
              "  </thead>\n",
              "  <tbody>\n",
              "    <tr>\n",
              "      <th>0</th>\n",
              "      <td>Lahore</td>\n",
              "      <td>1476</td>\n",
              "    </tr>\n",
              "    <tr>\n",
              "      <th>1</th>\n",
              "      <td>Bahawalnagar</td>\n",
              "      <td>458</td>\n",
              "    </tr>\n",
              "    <tr>\n",
              "      <th>2</th>\n",
              "      <td>Sargodha</td>\n",
              "      <td>397</td>\n",
              "    </tr>\n",
              "    <tr>\n",
              "      <th>3</th>\n",
              "      <td>Gujrat</td>\n",
              "      <td>360</td>\n",
              "    </tr>\n",
              "    <tr>\n",
              "      <th>4</th>\n",
              "      <td>Rawalpindi</td>\n",
              "      <td>265</td>\n",
              "    </tr>\n",
              "    <tr>\n",
              "      <th>5</th>\n",
              "      <td>Multan</td>\n",
              "      <td>166</td>\n",
              "    </tr>\n",
              "    <tr>\n",
              "      <th>6</th>\n",
              "      <td>Gujranwala</td>\n",
              "      <td>165</td>\n",
              "    </tr>\n",
              "    <tr>\n",
              "      <th>7</th>\n",
              "      <td>Outside Punjab</td>\n",
              "      <td>136</td>\n",
              "    </tr>\n",
              "    <tr>\n",
              "      <th>8</th>\n",
              "      <td>Muzaffargarh</td>\n",
              "      <td>130</td>\n",
              "    </tr>\n",
              "    <tr>\n",
              "      <th>9</th>\n",
              "      <td>Faisalabad</td>\n",
              "      <td>94</td>\n",
              "    </tr>\n",
              "    <tr>\n",
              "      <th>10</th>\n",
              "      <td>Dera Ghazi Khan</td>\n",
              "      <td>92</td>\n",
              "    </tr>\n",
              "    <tr>\n",
              "      <th>11</th>\n",
              "      <td>Jhelum</td>\n",
              "      <td>89</td>\n",
              "    </tr>\n",
              "    <tr>\n",
              "      <th>12</th>\n",
              "      <td>Sialkot</td>\n",
              "      <td>80</td>\n",
              "    </tr>\n",
              "    <tr>\n",
              "      <th>13</th>\n",
              "      <td>Rahim Yar Khan</td>\n",
              "      <td>80</td>\n",
              "    </tr>\n",
              "    <tr>\n",
              "      <th>14</th>\n",
              "      <td>Kasur</td>\n",
              "      <td>75</td>\n",
              "    </tr>\n",
              "    <tr>\n",
              "      <th>15</th>\n",
              "      <td>Hafizabad</td>\n",
              "      <td>61</td>\n",
              "    </tr>\n",
              "    <tr>\n",
              "      <th>16</th>\n",
              "      <td>Vehari</td>\n",
              "      <td>57</td>\n",
              "    </tr>\n",
              "    <tr>\n",
              "      <th>17</th>\n",
              "      <td>Other</td>\n",
              "      <td>47</td>\n",
              "    </tr>\n",
              "    <tr>\n",
              "      <th>18</th>\n",
              "      <td>Narowal</td>\n",
              "      <td>45</td>\n",
              "    </tr>\n",
              "    <tr>\n",
              "      <th>19</th>\n",
              "      <td>Lodhran</td>\n",
              "      <td>33</td>\n",
              "    </tr>\n",
              "    <tr>\n",
              "      <th>20</th>\n",
              "      <td>Khushab</td>\n",
              "      <td>32</td>\n",
              "    </tr>\n",
              "    <tr>\n",
              "      <th>21</th>\n",
              "      <td>Mianwali</td>\n",
              "      <td>30</td>\n",
              "    </tr>\n",
              "    <tr>\n",
              "      <th>22</th>\n",
              "      <td>Layyah</td>\n",
              "      <td>28</td>\n",
              "    </tr>\n",
              "    <tr>\n",
              "      <th>23</th>\n",
              "      <td>Bahawalpur</td>\n",
              "      <td>28</td>\n",
              "    </tr>\n",
              "    <tr>\n",
              "      <th>24</th>\n",
              "      <td>Sheikhupura</td>\n",
              "      <td>27</td>\n",
              "    </tr>\n",
              "    <tr>\n",
              "      <th>25</th>\n",
              "      <td>Attock</td>\n",
              "      <td>23</td>\n",
              "    </tr>\n",
              "    <tr>\n",
              "      <th>26</th>\n",
              "      <td>Islamabad</td>\n",
              "      <td>22</td>\n",
              "    </tr>\n",
              "    <tr>\n",
              "      <th>27</th>\n",
              "      <td>Bhakkar</td>\n",
              "      <td>20</td>\n",
              "    </tr>\n",
              "    <tr>\n",
              "      <th>28</th>\n",
              "      <td>Jhang</td>\n",
              "      <td>20</td>\n",
              "    </tr>\n",
              "    <tr>\n",
              "      <th>29</th>\n",
              "      <td>Nankana Sahib</td>\n",
              "      <td>19</td>\n",
              "    </tr>\n",
              "    <tr>\n",
              "      <th>30</th>\n",
              "      <td>Mandi Bahauddin</td>\n",
              "      <td>18</td>\n",
              "    </tr>\n",
              "    <tr>\n",
              "      <th>31</th>\n",
              "      <td>Toba Tek Singh</td>\n",
              "      <td>18</td>\n",
              "    </tr>\n",
              "    <tr>\n",
              "      <th>32</th>\n",
              "      <td>Chiniot</td>\n",
              "      <td>14</td>\n",
              "    </tr>\n",
              "    <tr>\n",
              "      <th>33</th>\n",
              "      <td>Chakwal</td>\n",
              "      <td>9</td>\n",
              "    </tr>\n",
              "    <tr>\n",
              "      <th>34</th>\n",
              "      <td>Khanewal</td>\n",
              "      <td>9</td>\n",
              "    </tr>\n",
              "    <tr>\n",
              "      <th>35</th>\n",
              "      <td>Rajanpur</td>\n",
              "      <td>7</td>\n",
              "    </tr>\n",
              "    <tr>\n",
              "      <th>36</th>\n",
              "      <td>Okara</td>\n",
              "      <td>5</td>\n",
              "    </tr>\n",
              "    <tr>\n",
              "      <th>37</th>\n",
              "      <td>Sahiwal</td>\n",
              "      <td>4</td>\n",
              "    </tr>\n",
              "    <tr>\n",
              "      <th>38</th>\n",
              "      <td>Pakpattan</td>\n",
              "      <td>2</td>\n",
              "    </tr>\n",
              "  </tbody>\n",
              "</table>\n",
              "</div>"
            ],
            "text/plain": [
              "            ADM2_EN  Cases\n",
              "0            Lahore   1476\n",
              "1      Bahawalnagar    458\n",
              "2          Sargodha    397\n",
              "3            Gujrat    360\n",
              "4        Rawalpindi    265\n",
              "5            Multan    166\n",
              "6        Gujranwala    165\n",
              "7    Outside Punjab    136\n",
              "8      Muzaffargarh    130\n",
              "9        Faisalabad     94\n",
              "10  Dera Ghazi Khan     92\n",
              "11           Jhelum     89\n",
              "12          Sialkot     80\n",
              "13   Rahim Yar Khan     80\n",
              "14            Kasur     75\n",
              "15        Hafizabad     61\n",
              "16           Vehari     57\n",
              "17            Other     47\n",
              "18          Narowal     45\n",
              "19          Lodhran     33\n",
              "20          Khushab     32\n",
              "21         Mianwali     30\n",
              "22           Layyah     28\n",
              "23       Bahawalpur     28\n",
              "24      Sheikhupura     27\n",
              "25           Attock     23\n",
              "26        Islamabad     22\n",
              "27          Bhakkar     20\n",
              "28            Jhang     20\n",
              "29    Nankana Sahib     19\n",
              "30  Mandi Bahauddin     18\n",
              "31   Toba Tek Singh     18\n",
              "32          Chiniot     14\n",
              "33          Chakwal      9\n",
              "34         Khanewal      9\n",
              "35         Rajanpur      7\n",
              "36            Okara      5\n",
              "37          Sahiwal      4\n",
              "38        Pakpattan      2"
            ]
          },
          "metadata": {
            "tags": []
          },
          "execution_count": 25
        }
      ]
    },
    {
      "cell_type": "code",
      "metadata": {
        "id": "SY6FrFHta9RZ",
        "colab_type": "code",
        "colab": {}
      },
      "source": [
        "mapped = map_pun.set_index('ADM2_EN').join(dist_wisecase.set_index('ADM2_EN')).reset_index()"
      ],
      "execution_count": 0,
      "outputs": []
    },
    {
      "cell_type": "code",
      "metadata": {
        "id": "R7JtUCTxcUHk",
        "colab_type": "code",
        "outputId": "045e459f-a9a5-4caf-bde2-a0d783d272ab",
        "colab": {
          "base_uri": "https://localhost:8080/",
          "height": 1000
        }
      },
      "source": [
        "mapped"
      ],
      "execution_count": 0,
      "outputs": [
        {
          "output_type": "execute_result",
          "data": {
            "text/html": [
              "<div>\n",
              "<style scoped>\n",
              "    .dataframe tbody tr th:only-of-type {\n",
              "        vertical-align: middle;\n",
              "    }\n",
              "\n",
              "    .dataframe tbody tr th {\n",
              "        vertical-align: top;\n",
              "    }\n",
              "\n",
              "    .dataframe thead th {\n",
              "        text-align: right;\n",
              "    }\n",
              "</style>\n",
              "<table border=\"1\" class=\"dataframe\">\n",
              "  <thead>\n",
              "    <tr style=\"text-align: right;\">\n",
              "      <th></th>\n",
              "      <th>ADM2_EN</th>\n",
              "      <th>Shape_Leng</th>\n",
              "      <th>Shape_Area</th>\n",
              "      <th>ADM2_PCODE</th>\n",
              "      <th>ADM2_REF</th>\n",
              "      <th>ADM2ALT1EN</th>\n",
              "      <th>ADM2ALT2EN</th>\n",
              "      <th>ADM1_EN</th>\n",
              "      <th>ADM1_PCODE</th>\n",
              "      <th>ADM0_EN</th>\n",
              "      <th>ADM0_PCODE</th>\n",
              "      <th>date</th>\n",
              "      <th>validOn</th>\n",
              "      <th>validTo</th>\n",
              "      <th>geometry</th>\n",
              "      <th>Cases</th>\n",
              "    </tr>\n",
              "  </thead>\n",
              "  <tbody>\n",
              "    <tr>\n",
              "      <th>0</th>\n",
              "      <td>Attock</td>\n",
              "      <td>4.739696</td>\n",
              "      <td>0.662449</td>\n",
              "      <td>PK601</td>\n",
              "      <td>None</td>\n",
              "      <td>None</td>\n",
              "      <td>None</td>\n",
              "      <td>Punjab</td>\n",
              "      <td>PK6</td>\n",
              "      <td>Pakistan</td>\n",
              "      <td>PK</td>\n",
              "      <td>2018-11-30</td>\n",
              "      <td>2018-12-18</td>\n",
              "      <td>None</td>\n",
              "      <td>POLYGON ((72.44029 34.00367, 72.44692 33.99373...</td>\n",
              "      <td>23</td>\n",
              "    </tr>\n",
              "    <tr>\n",
              "      <th>1</th>\n",
              "      <td>Bahawalnagar</td>\n",
              "      <td>7.041104</td>\n",
              "      <td>0.795837</td>\n",
              "      <td>PK602</td>\n",
              "      <td>None</td>\n",
              "      <td>None</td>\n",
              "      <td>None</td>\n",
              "      <td>Punjab</td>\n",
              "      <td>PK6</td>\n",
              "      <td>Pakistan</td>\n",
              "      <td>PK</td>\n",
              "      <td>2018-11-30</td>\n",
              "      <td>2018-12-18</td>\n",
              "      <td>None</td>\n",
              "      <td>POLYGON ((73.94623 30.30050, 73.94793 30.29692...</td>\n",
              "      <td>458</td>\n",
              "    </tr>\n",
              "    <tr>\n",
              "      <th>2</th>\n",
              "      <td>Bahawalpur</td>\n",
              "      <td>9.209631</td>\n",
              "      <td>2.215948</td>\n",
              "      <td>PK603</td>\n",
              "      <td>None</td>\n",
              "      <td>None</td>\n",
              "      <td>None</td>\n",
              "      <td>Punjab</td>\n",
              "      <td>PK6</td>\n",
              "      <td>Pakistan</td>\n",
              "      <td>PK</td>\n",
              "      <td>2018-11-30</td>\n",
              "      <td>2018-12-18</td>\n",
              "      <td>None</td>\n",
              "      <td>POLYGON ((72.42631 29.83978, 72.43404 29.83881...</td>\n",
              "      <td>28</td>\n",
              "    </tr>\n",
              "    <tr>\n",
              "      <th>3</th>\n",
              "      <td>Bhakkar</td>\n",
              "      <td>4.597273</td>\n",
              "      <td>0.810269</td>\n",
              "      <td>PK604</td>\n",
              "      <td>None</td>\n",
              "      <td>None</td>\n",
              "      <td>None</td>\n",
              "      <td>Punjab</td>\n",
              "      <td>PK6</td>\n",
              "      <td>Pakistan</td>\n",
              "      <td>PK</td>\n",
              "      <td>2018-11-30</td>\n",
              "      <td>2018-12-18</td>\n",
              "      <td>None</td>\n",
              "      <td>POLYGON ((71.58639 32.18415, 71.61048 32.17550...</td>\n",
              "      <td>20</td>\n",
              "    </tr>\n",
              "    <tr>\n",
              "      <th>4</th>\n",
              "      <td>Chakwal</td>\n",
              "      <td>4.686197</td>\n",
              "      <td>0.640391</td>\n",
              "      <td>PK605</td>\n",
              "      <td>None</td>\n",
              "      <td>None</td>\n",
              "      <td>None</td>\n",
              "      <td>Punjab</td>\n",
              "      <td>PK6</td>\n",
              "      <td>Pakistan</td>\n",
              "      <td>PK</td>\n",
              "      <td>2018-11-30</td>\n",
              "      <td>2018-12-18</td>\n",
              "      <td>None</td>\n",
              "      <td>POLYGON ((72.58409 33.21397, 72.59891 33.20223...</td>\n",
              "      <td>9</td>\n",
              "    </tr>\n",
              "    <tr>\n",
              "      <th>5</th>\n",
              "      <td>Chiniot</td>\n",
              "      <td>2.652801</td>\n",
              "      <td>0.248209</td>\n",
              "      <td>PK606</td>\n",
              "      <td>None</td>\n",
              "      <td>None</td>\n",
              "      <td>None</td>\n",
              "      <td>Punjab</td>\n",
              "      <td>PK6</td>\n",
              "      <td>Pakistan</td>\n",
              "      <td>PK</td>\n",
              "      <td>2018-11-30</td>\n",
              "      <td>2018-12-18</td>\n",
              "      <td>None</td>\n",
              "      <td>POLYGON ((72.96465 31.96237, 72.97796 31.95600...</td>\n",
              "      <td>14</td>\n",
              "    </tr>\n",
              "    <tr>\n",
              "      <th>6</th>\n",
              "      <td>Dera Ghazi Khan</td>\n",
              "      <td>5.561221</td>\n",
              "      <td>1.097541</td>\n",
              "      <td>PK607</td>\n",
              "      <td>None</td>\n",
              "      <td>None</td>\n",
              "      <td>None</td>\n",
              "      <td>Punjab</td>\n",
              "      <td>PK6</td>\n",
              "      <td>Pakistan</td>\n",
              "      <td>PK</td>\n",
              "      <td>2018-11-30</td>\n",
              "      <td>2018-12-18</td>\n",
              "      <td>None</td>\n",
              "      <td>POLYGON ((70.60411 31.32394, 70.61207 31.31798...</td>\n",
              "      <td>92</td>\n",
              "    </tr>\n",
              "    <tr>\n",
              "      <th>7</th>\n",
              "      <td>Faisalabad</td>\n",
              "      <td>4.232734</td>\n",
              "      <td>0.564362</td>\n",
              "      <td>PK608</td>\n",
              "      <td>None</td>\n",
              "      <td>None</td>\n",
              "      <td>None</td>\n",
              "      <td>Punjab</td>\n",
              "      <td>PK6</td>\n",
              "      <td>Pakistan</td>\n",
              "      <td>PK</td>\n",
              "      <td>2018-11-30</td>\n",
              "      <td>2018-12-18</td>\n",
              "      <td>None</td>\n",
              "      <td>POLYGON ((73.24592 31.76373, 73.25320 31.76155...</td>\n",
              "      <td>94</td>\n",
              "    </tr>\n",
              "    <tr>\n",
              "      <th>8</th>\n",
              "      <td>Gujranwala</td>\n",
              "      <td>3.011248</td>\n",
              "      <td>0.346324</td>\n",
              "      <td>PK609</td>\n",
              "      <td>None</td>\n",
              "      <td>None</td>\n",
              "      <td>None</td>\n",
              "      <td>Punjab</td>\n",
              "      <td>PK6</td>\n",
              "      <td>Pakistan</td>\n",
              "      <td>PK</td>\n",
              "      <td>2018-11-30</td>\n",
              "      <td>2018-12-18</td>\n",
              "      <td>None</td>\n",
              "      <td>POLYGON ((74.21087 32.54196, 74.20214 32.52267...</td>\n",
              "      <td>165</td>\n",
              "    </tr>\n",
              "    <tr>\n",
              "      <th>9</th>\n",
              "      <td>Gujrat</td>\n",
              "      <td>2.474891</td>\n",
              "      <td>0.305606</td>\n",
              "      <td>PK610</td>\n",
              "      <td>None</td>\n",
              "      <td>None</td>\n",
              "      <td>None</td>\n",
              "      <td>Punjab</td>\n",
              "      <td>PK6</td>\n",
              "      <td>Pakistan</td>\n",
              "      <td>PK</td>\n",
              "      <td>2018-11-30</td>\n",
              "      <td>2018-12-18</td>\n",
              "      <td>None</td>\n",
              "      <td>POLYGON ((73.95062 33.01158, 73.95170 33.00995...</td>\n",
              "      <td>360</td>\n",
              "    </tr>\n",
              "    <tr>\n",
              "      <th>10</th>\n",
              "      <td>Hafizabad</td>\n",
              "      <td>2.149366</td>\n",
              "      <td>0.217068</td>\n",
              "      <td>PK611</td>\n",
              "      <td>None</td>\n",
              "      <td>None</td>\n",
              "      <td>None</td>\n",
              "      <td>Punjab</td>\n",
              "      <td>PK6</td>\n",
              "      <td>Pakistan</td>\n",
              "      <td>PK</td>\n",
              "      <td>2018-11-30</td>\n",
              "      <td>2018-12-18</td>\n",
              "      <td>None</td>\n",
              "      <td>POLYGON ((73.71366 32.24421, 73.72239 32.23584...</td>\n",
              "      <td>61</td>\n",
              "    </tr>\n",
              "    <tr>\n",
              "      <th>11</th>\n",
              "      <td>Jhang</td>\n",
              "      <td>5.091759</td>\n",
              "      <td>0.600934</td>\n",
              "      <td>PK612</td>\n",
              "      <td>None</td>\n",
              "      <td>None</td>\n",
              "      <td>None</td>\n",
              "      <td>Punjab</td>\n",
              "      <td>PK6</td>\n",
              "      <td>Pakistan</td>\n",
              "      <td>PK</td>\n",
              "      <td>2018-11-30</td>\n",
              "      <td>2018-12-18</td>\n",
              "      <td>None</td>\n",
              "      <td>POLYGON ((72.30018 31.75342, 72.31581 31.74474...</td>\n",
              "      <td>20</td>\n",
              "    </tr>\n",
              "    <tr>\n",
              "      <th>12</th>\n",
              "      <td>Jhelum</td>\n",
              "      <td>3.970046</td>\n",
              "      <td>0.348111</td>\n",
              "      <td>PK613</td>\n",
              "      <td>None</td>\n",
              "      <td>None</td>\n",
              "      <td>None</td>\n",
              "      <td>Punjab</td>\n",
              "      <td>PK6</td>\n",
              "      <td>Pakistan</td>\n",
              "      <td>PK</td>\n",
              "      <td>2018-11-30</td>\n",
              "      <td>2018-12-18</td>\n",
              "      <td>None</td>\n",
              "      <td>POLYGON ((73.64488 33.23419, 73.64714 33.22288...</td>\n",
              "      <td>89</td>\n",
              "    </tr>\n",
              "    <tr>\n",
              "      <th>13</th>\n",
              "      <td>Kasur</td>\n",
              "      <td>3.412111</td>\n",
              "      <td>0.373351</td>\n",
              "      <td>PK614</td>\n",
              "      <td>None</td>\n",
              "      <td>None</td>\n",
              "      <td>None</td>\n",
              "      <td>Punjab</td>\n",
              "      <td>PK6</td>\n",
              "      <td>Pakistan</td>\n",
              "      <td>PK</td>\n",
              "      <td>2018-11-30</td>\n",
              "      <td>2018-12-18</td>\n",
              "      <td>None</td>\n",
              "      <td>POLYGON ((74.49372 31.35837, 74.49725 31.34524...</td>\n",
              "      <td>75</td>\n",
              "    </tr>\n",
              "    <tr>\n",
              "      <th>14</th>\n",
              "      <td>Khanewal</td>\n",
              "      <td>4.164045</td>\n",
              "      <td>0.409264</td>\n",
              "      <td>PK615</td>\n",
              "      <td>None</td>\n",
              "      <td>None</td>\n",
              "      <td>None</td>\n",
              "      <td>Punjab</td>\n",
              "      <td>PK6</td>\n",
              "      <td>Pakistan</td>\n",
              "      <td>PK</td>\n",
              "      <td>2018-11-30</td>\n",
              "      <td>2018-12-18</td>\n",
              "      <td>None</td>\n",
              "      <td>POLYGON ((72.07676 30.72604, 72.09297 30.72372...</td>\n",
              "      <td>9</td>\n",
              "    </tr>\n",
              "    <tr>\n",
              "      <th>15</th>\n",
              "      <td>Khushab</td>\n",
              "      <td>4.037488</td>\n",
              "      <td>0.633369</td>\n",
              "      <td>PK616</td>\n",
              "      <td>None</td>\n",
              "      <td>None</td>\n",
              "      <td>None</td>\n",
              "      <td>Punjab</td>\n",
              "      <td>PK6</td>\n",
              "      <td>Pakistan</td>\n",
              "      <td>PK</td>\n",
              "      <td>2018-11-30</td>\n",
              "      <td>2018-12-18</td>\n",
              "      <td>None</td>\n",
              "      <td>POLYGON ((72.25237 32.69803, 72.27887 32.69013...</td>\n",
              "      <td>32</td>\n",
              "    </tr>\n",
              "    <tr>\n",
              "      <th>16</th>\n",
              "      <td>Lahore</td>\n",
              "      <td>2.153982</td>\n",
              "      <td>0.164002</td>\n",
              "      <td>PK617</td>\n",
              "      <td>None</td>\n",
              "      <td>None</td>\n",
              "      <td>None</td>\n",
              "      <td>Punjab</td>\n",
              "      <td>PK6</td>\n",
              "      <td>Pakistan</td>\n",
              "      <td>PK</td>\n",
              "      <td>2018-11-30</td>\n",
              "      <td>2018-12-18</td>\n",
              "      <td>None</td>\n",
              "      <td>POLYGON ((74.53558 31.68984, 74.54149 31.68073...</td>\n",
              "      <td>1476</td>\n",
              "    </tr>\n",
              "    <tr>\n",
              "      <th>17</th>\n",
              "      <td>Layyah</td>\n",
              "      <td>3.998346</td>\n",
              "      <td>0.602269</td>\n",
              "      <td>PK618</td>\n",
              "      <td>None</td>\n",
              "      <td>None</td>\n",
              "      <td>None</td>\n",
              "      <td>Punjab</td>\n",
              "      <td>PK6</td>\n",
              "      <td>Pakistan</td>\n",
              "      <td>PK</td>\n",
              "      <td>2018-11-30</td>\n",
              "      <td>2018-12-18</td>\n",
              "      <td>None</td>\n",
              "      <td>POLYGON ((70.92426 31.35149, 70.93593 31.34682...</td>\n",
              "      <td>28</td>\n",
              "    </tr>\n",
              "    <tr>\n",
              "      <th>18</th>\n",
              "      <td>Lodhran</td>\n",
              "      <td>3.492218</td>\n",
              "      <td>0.248059</td>\n",
              "      <td>PK619</td>\n",
              "      <td>None</td>\n",
              "      <td>None</td>\n",
              "      <td>None</td>\n",
              "      <td>Punjab</td>\n",
              "      <td>PK6</td>\n",
              "      <td>Pakistan</td>\n",
              "      <td>PK</td>\n",
              "      <td>2018-11-30</td>\n",
              "      <td>2018-12-18</td>\n",
              "      <td>None</td>\n",
              "      <td>POLYGON ((71.62491 29.91329, 71.64184 29.90652...</td>\n",
              "      <td>33</td>\n",
              "    </tr>\n",
              "    <tr>\n",
              "      <th>19</th>\n",
              "      <td>Mandi Bahauddin</td>\n",
              "      <td>2.634602</td>\n",
              "      <td>0.264605</td>\n",
              "      <td>PK620</td>\n",
              "      <td>None</td>\n",
              "      <td>None</td>\n",
              "      <td>None</td>\n",
              "      <td>Punjab</td>\n",
              "      <td>PK6</td>\n",
              "      <td>Pakistan</td>\n",
              "      <td>PK</td>\n",
              "      <td>2018-11-30</td>\n",
              "      <td>2018-12-18</td>\n",
              "      <td>None</td>\n",
              "      <td>POLYGON ((73.62507 32.70382, 73.62970 32.69803...</td>\n",
              "      <td>18</td>\n",
              "    </tr>\n",
              "    <tr>\n",
              "      <th>20</th>\n",
              "      <td>Mianwali</td>\n",
              "      <td>4.194989</td>\n",
              "      <td>0.579591</td>\n",
              "      <td>PK621</td>\n",
              "      <td>None</td>\n",
              "      <td>None</td>\n",
              "      <td>None</td>\n",
              "      <td>Punjab</td>\n",
              "      <td>PK6</td>\n",
              "      <td>Pakistan</td>\n",
              "      <td>PK</td>\n",
              "      <td>2018-11-30</td>\n",
              "      <td>2018-12-18</td>\n",
              "      <td>None</td>\n",
              "      <td>POLYGON ((71.50666 33.19979, 71.52519 33.19856...</td>\n",
              "      <td>30</td>\n",
              "    </tr>\n",
              "    <tr>\n",
              "      <th>21</th>\n",
              "      <td>Multan</td>\n",
              "      <td>4.037524</td>\n",
              "      <td>0.340657</td>\n",
              "      <td>PK622</td>\n",
              "      <td>None</td>\n",
              "      <td>None</td>\n",
              "      <td>None</td>\n",
              "      <td>Punjab</td>\n",
              "      <td>PK6</td>\n",
              "      <td>Pakistan</td>\n",
              "      <td>PK</td>\n",
              "      <td>2018-11-30</td>\n",
              "      <td>2018-12-18</td>\n",
              "      <td>None</td>\n",
              "      <td>POLYGON ((71.57026 30.42837, 71.57558 30.42063...</td>\n",
              "      <td>166</td>\n",
              "    </tr>\n",
              "    <tr>\n",
              "      <th>22</th>\n",
              "      <td>Muzaffargarh</td>\n",
              "      <td>6.060796</td>\n",
              "      <td>0.717349</td>\n",
              "      <td>PK623</td>\n",
              "      <td>None</td>\n",
              "      <td>None</td>\n",
              "      <td>None</td>\n",
              "      <td>Punjab</td>\n",
              "      <td>PK6</td>\n",
              "      <td>Pakistan</td>\n",
              "      <td>PK</td>\n",
              "      <td>2018-11-30</td>\n",
              "      <td>2018-12-18</td>\n",
              "      <td>None</td>\n",
              "      <td>POLYGON ((71.23419 30.76402, 71.26333 30.75856...</td>\n",
              "      <td>130</td>\n",
              "    </tr>\n",
              "    <tr>\n",
              "      <th>23</th>\n",
              "      <td>Nankana Sahib</td>\n",
              "      <td>4.272415</td>\n",
              "      <td>0.263365</td>\n",
              "      <td>PK624</td>\n",
              "      <td>None</td>\n",
              "      <td>None</td>\n",
              "      <td>None</td>\n",
              "      <td>Punjab</td>\n",
              "      <td>PK6</td>\n",
              "      <td>Pakistan</td>\n",
              "      <td>PK</td>\n",
              "      <td>2018-11-30</td>\n",
              "      <td>2018-12-18</td>\n",
              "      <td>None</td>\n",
              "      <td>POLYGON ((73.73378 31.89023, 73.73845 31.88322...</td>\n",
              "      <td>19</td>\n",
              "    </tr>\n",
              "    <tr>\n",
              "      <th>24</th>\n",
              "      <td>Narowal</td>\n",
              "      <td>2.422402</td>\n",
              "      <td>0.225868</td>\n",
              "      <td>PK625</td>\n",
              "      <td>None</td>\n",
              "      <td>None</td>\n",
              "      <td>None</td>\n",
              "      <td>Punjab</td>\n",
              "      <td>PK6</td>\n",
              "      <td>Pakistan</td>\n",
              "      <td>PK</td>\n",
              "      <td>2018-11-30</td>\n",
              "      <td>2018-12-18</td>\n",
              "      <td>None</td>\n",
              "      <td>POLYGON ((75.09391 32.47255, 75.12078 32.44261...</td>\n",
              "      <td>45</td>\n",
              "    </tr>\n",
              "    <tr>\n",
              "      <th>25</th>\n",
              "      <td>Okara</td>\n",
              "      <td>4.068353</td>\n",
              "      <td>0.416256</td>\n",
              "      <td>PK626</td>\n",
              "      <td>None</td>\n",
              "      <td>None</td>\n",
              "      <td>None</td>\n",
              "      <td>Punjab</td>\n",
              "      <td>PK6</td>\n",
              "      <td>Pakistan</td>\n",
              "      <td>PK</td>\n",
              "      <td>2018-11-30</td>\n",
              "      <td>2018-12-18</td>\n",
              "      <td>None</td>\n",
              "      <td>POLYGON ((73.68155 31.08855, 73.67691 31.08817...</td>\n",
              "      <td>5</td>\n",
              "    </tr>\n",
              "    <tr>\n",
              "      <th>26</th>\n",
              "      <td>Pakpattan</td>\n",
              "      <td>3.771243</td>\n",
              "      <td>0.270911</td>\n",
              "      <td>PK627</td>\n",
              "      <td>None</td>\n",
              "      <td>None</td>\n",
              "      <td>None</td>\n",
              "      <td>Punjab</td>\n",
              "      <td>PK6</td>\n",
              "      <td>Pakistan</td>\n",
              "      <td>PK</td>\n",
              "      <td>2018-11-30</td>\n",
              "      <td>2018-12-18</td>\n",
              "      <td>None</td>\n",
              "      <td>POLYGON ((73.48873 30.59578, 73.49031 30.58787...</td>\n",
              "      <td>2</td>\n",
              "    </tr>\n",
              "    <tr>\n",
              "      <th>27</th>\n",
              "      <td>Rahim Yar Khan</td>\n",
              "      <td>7.048713</td>\n",
              "      <td>1.186232</td>\n",
              "      <td>PK628</td>\n",
              "      <td>None</td>\n",
              "      <td>None</td>\n",
              "      <td>None</td>\n",
              "      <td>Punjab</td>\n",
              "      <td>PK6</td>\n",
              "      <td>Pakistan</td>\n",
              "      <td>PK</td>\n",
              "      <td>2018-11-30</td>\n",
              "      <td>2018-12-18</td>\n",
              "      <td>None</td>\n",
              "      <td>MULTIPOLYGON (((69.55326 28.13298, 69.55127 28...</td>\n",
              "      <td>80</td>\n",
              "    </tr>\n",
              "    <tr>\n",
              "      <th>28</th>\n",
              "      <td>Rajanpur</td>\n",
              "      <td>6.248362</td>\n",
              "      <td>1.162056</td>\n",
              "      <td>PK629</td>\n",
              "      <td>None</td>\n",
              "      <td>None</td>\n",
              "      <td>None</td>\n",
              "      <td>Punjab</td>\n",
              "      <td>PK6</td>\n",
              "      <td>Pakistan</td>\n",
              "      <td>PK</td>\n",
              "      <td>2018-11-30</td>\n",
              "      <td>2018-12-18</td>\n",
              "      <td>None</td>\n",
              "      <td>POLYGON ((69.98477 29.84039, 70.00802 29.83355...</td>\n",
              "      <td>7</td>\n",
              "    </tr>\n",
              "    <tr>\n",
              "      <th>29</th>\n",
              "      <td>Rawalpindi</td>\n",
              "      <td>5.445047</td>\n",
              "      <td>0.505411</td>\n",
              "      <td>PK630</td>\n",
              "      <td>None</td>\n",
              "      <td>None</td>\n",
              "      <td>None</td>\n",
              "      <td>Punjab</td>\n",
              "      <td>PK6</td>\n",
              "      <td>Pakistan</td>\n",
              "      <td>PK</td>\n",
              "      <td>2018-11-30</td>\n",
              "      <td>2018-12-18</td>\n",
              "      <td>None</td>\n",
              "      <td>POLYGON ((73.53635 33.97354, 73.54370 33.95432...</td>\n",
              "      <td>265</td>\n",
              "    </tr>\n",
              "    <tr>\n",
              "      <th>30</th>\n",
              "      <td>Sahiwal</td>\n",
              "      <td>4.258483</td>\n",
              "      <td>0.303047</td>\n",
              "      <td>PK631</td>\n",
              "      <td>None</td>\n",
              "      <td>None</td>\n",
              "      <td>None</td>\n",
              "      <td>Punjab</td>\n",
              "      <td>PK6</td>\n",
              "      <td>Pakistan</td>\n",
              "      <td>PK</td>\n",
              "      <td>2018-11-30</td>\n",
              "      <td>2018-12-18</td>\n",
              "      <td>None</td>\n",
              "      <td>POLYGON ((73.27075 30.91008, 73.27026 30.89606...</td>\n",
              "      <td>4</td>\n",
              "    </tr>\n",
              "    <tr>\n",
              "      <th>31</th>\n",
              "      <td>Sargodha</td>\n",
              "      <td>4.658210</td>\n",
              "      <td>0.552087</td>\n",
              "      <td>PK632</td>\n",
              "      <td>None</td>\n",
              "      <td>None</td>\n",
              "      <td>None</td>\n",
              "      <td>Punjab</td>\n",
              "      <td>PK6</td>\n",
              "      <td>Pakistan</td>\n",
              "      <td>PK</td>\n",
              "      <td>2018-11-30</td>\n",
              "      <td>2018-12-18</td>\n",
              "      <td>None</td>\n",
              "      <td>POLYGON ((73.20544 32.54349, 73.20544 32.53481...</td>\n",
              "      <td>397</td>\n",
              "    </tr>\n",
              "    <tr>\n",
              "      <th>32</th>\n",
              "      <td>Sheikhupura</td>\n",
              "      <td>4.038063</td>\n",
              "      <td>0.288587</td>\n",
              "      <td>PK633</td>\n",
              "      <td>None</td>\n",
              "      <td>None</td>\n",
              "      <td>None</td>\n",
              "      <td>Punjab</td>\n",
              "      <td>PK6</td>\n",
              "      <td>Pakistan</td>\n",
              "      <td>PK</td>\n",
              "      <td>2018-11-30</td>\n",
              "      <td>2018-12-18</td>\n",
              "      <td>None</td>\n",
              "      <td>POLYGON ((74.67857 31.90902, 74.64772 31.88481...</td>\n",
              "      <td>27</td>\n",
              "    </tr>\n",
              "    <tr>\n",
              "      <th>33</th>\n",
              "      <td>Sialkot</td>\n",
              "      <td>2.887316</td>\n",
              "      <td>0.293672</td>\n",
              "      <td>PK634</td>\n",
              "      <td>None</td>\n",
              "      <td>None</td>\n",
              "      <td>None</td>\n",
              "      <td>Punjab</td>\n",
              "      <td>PK6</td>\n",
              "      <td>Pakistan</td>\n",
              "      <td>PK</td>\n",
              "      <td>2018-11-30</td>\n",
              "      <td>2018-12-18</td>\n",
              "      <td>None</td>\n",
              "      <td>POLYGON ((74.69855 32.83396, 74.69779 32.82262...</td>\n",
              "      <td>80</td>\n",
              "    </tr>\n",
              "    <tr>\n",
              "      <th>34</th>\n",
              "      <td>Toba Tek Singh</td>\n",
              "      <td>3.719636</td>\n",
              "      <td>0.289912</td>\n",
              "      <td>PK635</td>\n",
              "      <td>None</td>\n",
              "      <td>None</td>\n",
              "      <td>None</td>\n",
              "      <td>Punjab</td>\n",
              "      <td>PK6</td>\n",
              "      <td>Pakistan</td>\n",
              "      <td>PK</td>\n",
              "      <td>2018-11-30</td>\n",
              "      <td>2018-12-18</td>\n",
              "      <td>None</td>\n",
              "      <td>POLYGON ((72.83740 31.24041, 72.82434 31.22251...</td>\n",
              "      <td>18</td>\n",
              "    </tr>\n",
              "    <tr>\n",
              "      <th>35</th>\n",
              "      <td>Vehari</td>\n",
              "      <td>4.945328</td>\n",
              "      <td>0.419417</td>\n",
              "      <td>PK636</td>\n",
              "      <td>None</td>\n",
              "      <td>None</td>\n",
              "      <td>None</td>\n",
              "      <td>Punjab</td>\n",
              "      <td>PK6</td>\n",
              "      <td>Pakistan</td>\n",
              "      <td>PK</td>\n",
              "      <td>2018-11-30</td>\n",
              "      <td>2018-12-18</td>\n",
              "      <td>None</td>\n",
              "      <td>POLYGON ((72.84562 30.32923, 72.84708 30.32294...</td>\n",
              "      <td>57</td>\n",
              "    </tr>\n",
              "  </tbody>\n",
              "</table>\n",
              "</div>"
            ],
            "text/plain": [
              "            ADM2_EN  ...  Cases\n",
              "0            Attock  ...     23\n",
              "1      Bahawalnagar  ...    458\n",
              "2        Bahawalpur  ...     28\n",
              "3           Bhakkar  ...     20\n",
              "4           Chakwal  ...      9\n",
              "5           Chiniot  ...     14\n",
              "6   Dera Ghazi Khan  ...     92\n",
              "7        Faisalabad  ...     94\n",
              "8        Gujranwala  ...    165\n",
              "9            Gujrat  ...    360\n",
              "10        Hafizabad  ...     61\n",
              "11            Jhang  ...     20\n",
              "12           Jhelum  ...     89\n",
              "13            Kasur  ...     75\n",
              "14         Khanewal  ...      9\n",
              "15          Khushab  ...     32\n",
              "16           Lahore  ...   1476\n",
              "17           Layyah  ...     28\n",
              "18          Lodhran  ...     33\n",
              "19  Mandi Bahauddin  ...     18\n",
              "20         Mianwali  ...     30\n",
              "21           Multan  ...    166\n",
              "22     Muzaffargarh  ...    130\n",
              "23    Nankana Sahib  ...     19\n",
              "24          Narowal  ...     45\n",
              "25            Okara  ...      5\n",
              "26        Pakpattan  ...      2\n",
              "27   Rahim Yar Khan  ...     80\n",
              "28         Rajanpur  ...      7\n",
              "29       Rawalpindi  ...    265\n",
              "30          Sahiwal  ...      4\n",
              "31         Sargodha  ...    397\n",
              "32      Sheikhupura  ...     27\n",
              "33          Sialkot  ...     80\n",
              "34   Toba Tek Singh  ...     18\n",
              "35           Vehari  ...     57\n",
              "\n",
              "[36 rows x 16 columns]"
            ]
          },
          "metadata": {
            "tags": []
          },
          "execution_count": 162
        }
      ]
    },
    {
      "cell_type": "code",
      "metadata": {
        "id": "kjczage-cVsN",
        "colab_type": "code",
        "colab": {}
      },
      "source": [
        "to_be_mapped = 'Cases'"
      ],
      "execution_count": 0,
      "outputs": []
    },
    {
      "cell_type": "code",
      "metadata": {
        "id": "A2wu5sGKntdk",
        "colab_type": "code",
        "colab": {}
      },
      "source": [
        "vmin, vmax = mapped['Cases'].min(),mapped['Cases'].max()"
      ],
      "execution_count": 0,
      "outputs": []
    },
    {
      "cell_type": "code",
      "metadata": {
        "id": "cUgkrMMbn6s7",
        "colab_type": "code",
        "outputId": "0c30ff13-66e8-438a-9458-02d7922af3d0",
        "colab": {
          "base_uri": "https://localhost:8080/",
          "height": 1000
        }
      },
      "source": [
        "fig, ax = plt.subplots(1, figsize=(20,20))\n",
        "mapped.plot(column=to_be_mapped, cmap='OrRd', linewidth=0.8, ax=ax, edgecolors='0.2')\n",
        "ax.set_title('Number of Covid 19 Cases in Punjab Districts', fontdict={'fontsize':30})\n",
        "ax.set_axis_off()\n",
        "sm = plt.cm.ScalarMappable(cmap='OrRd', norm=plt.Normalize(vmin=vmin, vmax=vmax))\n",
        "sm._A = []\n",
        "cbar = fig.colorbar(sm, orientation='vertical')\n",
        "mapped.apply(lambda x: ax.annotate(s=x.ADM2_EN, xy=x.geometry.centroid.coords[0], ha='center'),axis=1);\n",
        "fig.savefig('map1.png', dpi=600)"
      ],
      "execution_count": 0,
      "outputs": [
        {
          "output_type": "display_data",
          "data": {
            "image/png": "[encoded data removed]",
            "text/plain": [
              "<Figure size 1440x1440 with 2 Axes>"
            ]
          },
          "metadata": {
            "tags": [],
            "needs_background": "light"
          }
        }
      ]
    },
    {
      "cell_type": "code",
      "metadata": {
        "id": "6hXCJn1rvZl-",
        "colab_type": "code",
        "colab": {}
      },
      "source": [
        "pos_data['Age']=pos_data['Age'].fillna(pos_data['Age'].mean())"
      ],
      "execution_count": 0,
      "outputs": []
    },
    {
      "cell_type": "code",
      "metadata": {
        "id": "7vybwdFAgV-h",
        "colab_type": "code",
        "colab": {}
      },
      "source": [
        "pos_data['Gender']=pos_data['Gender'].fillna('Male')"
      ],
      "execution_count": 0,
      "outputs": []
    },
    {
      "cell_type": "code",
      "metadata": {
        "id": "KI2azsWjw-Pa",
        "colab_type": "code",
        "colab": {}
      },
      "source": [
        "malePos=pos_data[pos_data['Gender']==\"Male\"]"
      ],
      "execution_count": 0,
      "outputs": []
    },
    {
      "cell_type": "code",
      "metadata": {
        "id": "wGNWJVk4xVoZ",
        "colab_type": "code",
        "colab": {}
      },
      "source": [
        "femalePos=pos_data[pos_data['Gender']==\"Female\"]"
      ],
      "execution_count": 0,
      "outputs": []
    },
    {
      "cell_type": "code",
      "metadata": {
        "id": "Rf6LSqYy0kat",
        "colab_type": "code",
        "colab": {}
      },
      "source": [
        "ageMaleGroup={'0-10':0,'11-20':0,'21-30':0,'31-40':0,'41-50':0,'51-60':0,'61-70':0,'71-80':0,'80+':0}\n",
        "ageFemaleGroup={'0-10':0,'11-20':0,'21-30':0,'31-40':0,'41-50':0,'51-60':0,'61-70':0,'71-80':0,'80+':0}"
      ],
      "execution_count": 0,
      "outputs": []
    },
    {
      "cell_type": "code",
      "metadata": {
        "id": "Qub21ruj1DC4",
        "colab_type": "code",
        "colab": {}
      },
      "source": [
        "for age in malePos['Age'].values:\n",
        "  if age>=0 and age<=10:\n",
        "    ageMaleGroup['0-10']=ageMaleGroup['0-10']+1\n",
        "  elif age>=11 and age<=20:\n",
        "    ageMaleGroup['11-20']=ageMaleGroup['11-20']+1\n",
        "  elif age>=21 and age<=30:\n",
        "    ageMaleGroup['21-30']=ageMaleGroup['21-30']+1\n",
        "  elif age>=31 and age<=40:\n",
        "    ageMaleGroup['31-40']=ageMaleGroup['31-40']+1\n",
        "  elif age>=41 and age<=50:\n",
        "    ageMaleGroup['41-50']=ageMaleGroup['41-50']+1\n",
        "  elif age>=51 and age<=60:\n",
        "    ageMaleGroup['51-60']=ageMaleGroup['51-60']+1\n",
        "  elif age>=61 and age<=70:\n",
        "    ageMaleGroup['61-70']=ageMaleGroup['61-70']+1\n",
        "  elif age>=71 and age<=80:\n",
        "    ageMaleGroup['71-80']=ageMaleGroup['71-80']+1\n",
        "  elif age>=81:\n",
        "    ageMaleGroup['80+']=ageMaleGroup['80+']+1\n",
        "\n",
        "  \n",
        "  "
      ],
      "execution_count": 0,
      "outputs": []
    },
    {
      "cell_type": "code",
      "metadata": {
        "id": "fp3v-9FSk8Qk",
        "colab_type": "code",
        "outputId": "bcd35932-0b7c-4268-dafa-d0a0f4c25055",
        "colab": {
          "base_uri": "https://localhost:8080/",
          "height": 170
        }
      },
      "source": [
        "ageMaleGroup"
      ],
      "execution_count": 0,
      "outputs": [
        {
          "output_type": "execute_result",
          "data": {
            "text/plain": [
              "{'0-10': 775,\n",
              " '11-20': 252,\n",
              " '21-30': 880,\n",
              " '31-40': 674,\n",
              " '41-50': 448,\n",
              " '51-60': 475,\n",
              " '61-70': 369,\n",
              " '71-80': 73,\n",
              " '80+': 25}"
            ]
          },
          "metadata": {
            "tags": []
          },
          "execution_count": 92
        }
      ]
    },
    {
      "cell_type": "code",
      "metadata": {
        "id": "0lNMqan0iYEv",
        "colab_type": "code",
        "colab": {}
      },
      "source": [
        "for age in femalePos['Age'].values:\n",
        "  if age>=0 and age<=10:\n",
        "    ageFemaleGroup['0-10']=ageFemaleGroup['0-10']+1\n",
        "  elif age>=11 and age<=20:\n",
        "    ageFemaleGroup['11-20']=ageFemaleGroup['11-20']+1\n",
        "  elif age>=21 and age<=30:\n",
        "    ageFemaleGroup['21-30']=ageFemaleGroup['21-30']+1\n",
        "  elif age>=31 and age<=40:\n",
        "    ageFemaleGroup['31-40']=ageFemaleGroup['31-40']+1\n",
        "  elif age>=41 and age<=50:\n",
        "    ageFemaleGroup['41-50']=ageFemaleGroup['41-50']+1\n",
        "  elif age>=51 and age<=60:\n",
        "    ageFemaleGroup['51-60']=ageFemaleGroup['51-60']+1\n",
        "  elif age>=61 and age<=70:\n",
        "    ageFemaleGroup['61-70']=ageFemaleGroup['61-70']+1\n",
        "  elif age>=71 and age<=80:\n",
        "    ageFemaleGroup['71-80']=ageFemaleGroup['71-80']+1\n",
        "  elif age>=81:\n",
        "    ageFemaleGroup['80+']=ageFemaleGroup['80+']+1\n",
        "\n",
        "  \n",
        "  "
      ],
      "execution_count": 0,
      "outputs": []
    },
    {
      "cell_type": "code",
      "metadata": {
        "id": "sDY7VYeOjPoz",
        "colab_type": "code",
        "outputId": "a06714e5-a0ab-48d2-952a-25012047cac9",
        "colab": {
          "base_uri": "https://localhost:8080/",
          "height": 170
        }
      },
      "source": [
        "ageFemaleGroup"
      ],
      "execution_count": 0,
      "outputs": [
        {
          "output_type": "execute_result",
          "data": {
            "text/plain": [
              "{'0-10': 128,\n",
              " '11-20': 73,\n",
              " '21-30': 199,\n",
              " '31-40': 141,\n",
              " '41-50': 105,\n",
              " '51-60': 91,\n",
              " '61-70': 56,\n",
              " '71-80': 12,\n",
              " '80+': 7}"
            ]
          },
          "metadata": {
            "tags": []
          },
          "execution_count": 94
        }
      ]
    },
    {
      "cell_type": "code",
      "metadata": {
        "id": "E8YNkWEhmfUA",
        "colab_type": "code",
        "colab": {}
      },
      "source": [
        "ageGro={'Male':ageMaleGroup,'Female':ageFemaleGroup}"
      ],
      "execution_count": 0,
      "outputs": []
    },
    {
      "cell_type": "code",
      "metadata": {
        "id": "_sEGMXnEjuzy",
        "colab_type": "code",
        "colab": {}
      },
      "source": [
        "ageG=pd.DataFrame(ageGro)"
      ],
      "execution_count": 0,
      "outputs": []
    },
    {
      "cell_type": "code",
      "metadata": {
        "id": "mjILqPm_m1Ia",
        "colab_type": "code",
        "outputId": "fe5a947d-bc39-448c-957f-f14475c40f10",
        "colab": {
          "base_uri": "https://localhost:8080/",
          "height": 328
        }
      },
      "source": [
        "ageG"
      ],
      "execution_count": 0,
      "outputs": [
        {
          "output_type": "execute_result",
          "data": {
            "text/html": [
              "<div>\n",
              "<style scoped>\n",
              "    .dataframe tbody tr th:only-of-type {\n",
              "        vertical-align: middle;\n",
              "    }\n",
              "\n",
              "    .dataframe tbody tr th {\n",
              "        vertical-align: top;\n",
              "    }\n",
              "\n",
              "    .dataframe thead th {\n",
              "        text-align: right;\n",
              "    }\n",
              "</style>\n",
              "<table border=\"1\" class=\"dataframe\">\n",
              "  <thead>\n",
              "    <tr style=\"text-align: right;\">\n",
              "      <th></th>\n",
              "      <th>Male</th>\n",
              "      <th>Female</th>\n",
              "    </tr>\n",
              "  </thead>\n",
              "  <tbody>\n",
              "    <tr>\n",
              "      <th>0-10</th>\n",
              "      <td>775</td>\n",
              "      <td>128</td>\n",
              "    </tr>\n",
              "    <tr>\n",
              "      <th>11-20</th>\n",
              "      <td>252</td>\n",
              "      <td>73</td>\n",
              "    </tr>\n",
              "    <tr>\n",
              "      <th>21-30</th>\n",
              "      <td>880</td>\n",
              "      <td>199</td>\n",
              "    </tr>\n",
              "    <tr>\n",
              "      <th>31-40</th>\n",
              "      <td>674</td>\n",
              "      <td>141</td>\n",
              "    </tr>\n",
              "    <tr>\n",
              "      <th>41-50</th>\n",
              "      <td>448</td>\n",
              "      <td>105</td>\n",
              "    </tr>\n",
              "    <tr>\n",
              "      <th>51-60</th>\n",
              "      <td>475</td>\n",
              "      <td>91</td>\n",
              "    </tr>\n",
              "    <tr>\n",
              "      <th>61-70</th>\n",
              "      <td>369</td>\n",
              "      <td>56</td>\n",
              "    </tr>\n",
              "    <tr>\n",
              "      <th>71-80</th>\n",
              "      <td>73</td>\n",
              "      <td>12</td>\n",
              "    </tr>\n",
              "    <tr>\n",
              "      <th>80+</th>\n",
              "      <td>25</td>\n",
              "      <td>7</td>\n",
              "    </tr>\n",
              "  </tbody>\n",
              "</table>\n",
              "</div>"
            ],
            "text/plain": [
              "       Male  Female\n",
              "0-10    775     128\n",
              "11-20   252      73\n",
              "21-30   880     199\n",
              "31-40   674     141\n",
              "41-50   448     105\n",
              "51-60   475      91\n",
              "61-70   369      56\n",
              "71-80    73      12\n",
              "80+      25       7"
            ]
          },
          "metadata": {
            "tags": []
          },
          "execution_count": 97
        }
      ]
    },
    {
      "cell_type": "code",
      "metadata": {
        "id": "TU3K-3wRlqEZ",
        "colab_type": "code",
        "outputId": "984905e6-2aea-4f90-eaf2-985fd88d0c28",
        "colab": {
          "base_uri": "https://localhost:8080/",
          "height": 649
        }
      },
      "source": [
        "import matplotlib.pyplot as plt\n",
        "ax = ageG[['Male','Female']].plot(kind='bar', title =\"Agewise Cases\", figsize=(15, 10), legend=True, fontsize=12)\n",
        "ax.set_xlabel(\"Age Groups\", fontsize=12)\n",
        "ax.set_ylabel(\"Number of Cases\", fontsize=12)\n",
        "plt.show()"
      ],
      "execution_count": 0,
      "outputs": [
        {
          "output_type": "display_data",
          "data": {
            "image/png": "[encoded data removed]",
            "text/plain": [
              "<Figure size 1080x720 with 1 Axes>"
            ]
          },
          "metadata": {
            "tags": [],
            "needs_background": "light"
          }
        }
      ]
    },
    {
      "cell_type": "code",
      "metadata": {
        "id": "uNfWi95PmFXN",
        "colab_type": "code",
        "outputId": "ad9207f0-a30c-484f-e814-e563c9bd4afe",
        "colab": {
          "base_uri": "https://localhost:8080/",
          "height": 51
        }
      },
      "source": [
        ""
      ],
      "execution_count": 0,
      "outputs": [
        {
          "output_type": "execute_result",
          "data": {
            "text/plain": [
              "Yes    754\n",
              "Name: Fever, dtype: int64"
            ]
          },
          "metadata": {
            "tags": []
          },
          "execution_count": 106
        }
      ]
    },
    {
      "cell_type": "code",
      "metadata": {
        "id": "PG0ntAzIpt0y",
        "colab_type": "code",
        "outputId": "538bce97-661c-4ef6-bfba-878dd12ecb69",
        "colab": {
          "base_uri": "https://localhost:8080/",
          "height": 51
        }
      },
      "source": [
        ""
      ],
      "execution_count": 0,
      "outputs": [
        {
          "output_type": "execute_result",
          "data": {
            "text/plain": [
              "Yes    66\n",
              "Name: Irritability, dtype: int64"
            ]
          },
          "metadata": {
            "tags": []
          },
          "execution_count": 110
        }
      ]
    },
    {
      "cell_type": "code",
      "metadata": {
        "id": "NfpIeukQqGZf",
        "colab_type": "code",
        "outputId": "a684d15e-5a4e-486d-c3cd-21f277da5753",
        "colab": {
          "base_uri": "https://localhost:8080/",
          "height": 34
        }
      },
      "source": [
        "pos_data.shape"
      ],
      "execution_count": 0,
      "outputs": [
        {
          "output_type": "execute_result",
          "data": {
            "text/plain": [
              "(4787, 14)"
            ]
          },
          "metadata": {
            "tags": []
          },
          "execution_count": 112
        }
      ]
    },
    {
      "cell_type": "code",
      "metadata": {
        "id": "ozzv1Po1p1-3",
        "colab_type": "code",
        "outputId": "fb76caf5-cfb5-4737-9b79-bfaac0b39bdf",
        "colab": {
          "base_uri": "https://localhost:8080/",
          "height": 136
        }
      },
      "source": [
        "pos_data['Cough'].value_counts(),pos_data['SoreThroat'].value_counts(),pos_data['RunnyNose'].value_counts(),pos_data['ShortBreath'].value_counts(),pos_data['Irritability'].value_counts(),pos_data['Fever'].value_counts()\n"
      ],
      "execution_count": 0,
      "outputs": [
        {
          "output_type": "execute_result",
          "data": {
            "text/plain": [
              "(Yes    672\n",
              " Name: Cough, dtype: int64, Yes    262\n",
              " Name: SoreThroat, dtype: int64, Yes    150\n",
              " Name: RunnyNose, dtype: int64, Yes    195\n",
              " Name: ShortBreath, dtype: int64, Yes    66\n",
              " Name: Irritability, dtype: int64, Yes    754\n",
              " Name: Fever, dtype: int64)"
            ]
          },
          "metadata": {
            "tags": []
          },
          "execution_count": 114
        }
      ]
    },
    {
      "cell_type": "code",
      "metadata": {
        "id": "mgWDA0XQrYEf",
        "colab_type": "code",
        "colab": {}
      },
      "source": [
        "import numpy as np"
      ],
      "execution_count": 0,
      "outputs": []
    },
    {
      "cell_type": "code",
      "metadata": {
        "id": "V3qrBGrppfHl",
        "colab_type": "code",
        "colab": {}
      },
      "source": [
        "per=np.array([672,262,150,195,66,754])"
      ],
      "execution_count": 0,
      "outputs": []
    },
    {
      "cell_type": "code",
      "metadata": {
        "id": "Rx8LjybfrPC9",
        "colab_type": "code",
        "colab": {}
      },
      "source": [
        "per=(per/sum(per))*100"
      ],
      "execution_count": 0,
      "outputs": []
    },
    {
      "cell_type": "code",
      "metadata": {
        "id": "B7lKOpCLriAG",
        "colab_type": "code",
        "outputId": "a27d04da-fe10-49c6-a984-64613b235197",
        "colab": {
          "base_uri": "https://localhost:8080/",
          "height": 51
        }
      },
      "source": [
        "per"
      ],
      "execution_count": 0,
      "outputs": [
        {
          "output_type": "execute_result",
          "data": {
            "text/plain": [
              "array([32.01524535, 12.48213435,  7.14626012,  9.29013816,  3.14435445,\n",
              "       35.92186756])"
            ]
          },
          "metadata": {
            "tags": []
          },
          "execution_count": 129
        }
      ]
    },
    {
      "cell_type": "code",
      "metadata": {
        "id": "5ocRxOLKrlAE",
        "colab_type": "code",
        "colab": {}
      },
      "source": [
        "labels = 'Fever', 'Cough', 'SoreThroat', 'RunnyNose','ShortBreath','Irritability'"
      ],
      "execution_count": 0,
      "outputs": []
    },
    {
      "cell_type": "code",
      "metadata": {
        "id": "ZnfYlZUjr-6w",
        "colab_type": "code",
        "outputId": "c06e7ae2-67b3-46c6-b966-fbc8fe4ef290",
        "colab": {
          "base_uri": "https://localhost:8080/",
          "height": 683
        }
      },
      "source": [
        "fig1, ax1 = plt.subplots()\n",
        "\n",
        "ax1.pie(per, labels=labels, autopct='%1.1f%%',\n",
        "        shadow=True, startangle=90)\n",
        "ax1.axis('equal')  # Equal aspect ratio ensures that pie is drawn as a circle.\n",
        "fig1.set_size_inches(10,12)\n",
        "plt.show()"
      ],
      "execution_count": 0,
      "outputs": [
        {
          "output_type": "display_data",
          "data": {
            "image/png": "[encoded data removed]",
            "text/plain": [
              "<Figure size 720x864 with 1 Axes>"
            ]
          },
          "metadata": {
            "tags": []
          }
        }
      ]
    },
    {
      "cell_type": "code",
      "metadata": {
        "id": "9v5H5gkOtmKU",
        "colab_type": "code",
        "colab": {}
      },
      "source": [
        "map_pak = gpd.read_file('pak_adm_ocha_pco_gaul_20181218_SHP/pak_admbnda_adm1_ocha_pco_gaul_20181218.shp')\n"
      ],
      "execution_count": 0,
      "outputs": []
    },
    {
      "cell_type": "code",
      "metadata": {
        "id": "fCtUO56fuSbW",
        "colab_type": "code",
        "outputId": "195e96e9-43e5-43ef-d856-ab6dec8aafe1",
        "colab": {
          "base_uri": "https://localhost:8080/",
          "height": 340
        }
      },
      "source": [
        "map_pak"
      ],
      "execution_count": 0,
      "outputs": [
        {
          "output_type": "execute_result",
          "data": {
            "text/html": [
              "<div>\n",
              "<style scoped>\n",
              "    .dataframe tbody tr th:only-of-type {\n",
              "        vertical-align: middle;\n",
              "    }\n",
              "\n",
              "    .dataframe tbody tr th {\n",
              "        vertical-align: top;\n",
              "    }\n",
              "\n",
              "    .dataframe thead th {\n",
              "        text-align: right;\n",
              "    }\n",
              "</style>\n",
              "<table border=\"1\" class=\"dataframe\">\n",
              "  <thead>\n",
              "    <tr style=\"text-align: right;\">\n",
              "      <th></th>\n",
              "      <th>Shape_Leng</th>\n",
              "      <th>Shape_Area</th>\n",
              "      <th>ADM1_EN</th>\n",
              "      <th>ADM1_PCODE</th>\n",
              "      <th>ADM1_REF</th>\n",
              "      <th>ADM1ALT1EN</th>\n",
              "      <th>ADM1ALT2EN</th>\n",
              "      <th>ADM0_EN</th>\n",
              "      <th>ADM0_PCODE</th>\n",
              "      <th>date</th>\n",
              "      <th>validOn</th>\n",
              "      <th>validTo</th>\n",
              "      <th>geometry</th>\n",
              "    </tr>\n",
              "  </thead>\n",
              "  <tbody>\n",
              "    <tr>\n",
              "      <th>0</th>\n",
              "      <td>41.407021</td>\n",
              "      <td>31.910371</td>\n",
              "      <td>Balochistan</td>\n",
              "      <td>PK7</td>\n",
              "      <td>None</td>\n",
              "      <td>None</td>\n",
              "      <td>None</td>\n",
              "      <td>Pakistan</td>\n",
              "      <td>PK</td>\n",
              "      <td>2018-11-30</td>\n",
              "      <td>2018-12-18</td>\n",
              "      <td>None</td>\n",
              "      <td>POLYGON ((69.87863 31.96020, 69.87382 31.94636...</td>\n",
              "    </tr>\n",
              "    <tr>\n",
              "      <th>1</th>\n",
              "      <td>1.659222</td>\n",
              "      <td>0.087285</td>\n",
              "      <td>Federal Capital Territory</td>\n",
              "      <td>PK5</td>\n",
              "      <td>None</td>\n",
              "      <td>None</td>\n",
              "      <td>None</td>\n",
              "      <td>Pakistan</td>\n",
              "      <td>PK</td>\n",
              "      <td>2018-11-30</td>\n",
              "      <td>2018-12-18</td>\n",
              "      <td>None</td>\n",
              "      <td>POLYGON ((73.19828 33.79771, 73.22183 33.79422...</td>\n",
              "    </tr>\n",
              "    <tr>\n",
              "      <th>2</th>\n",
              "      <td>27.479368</td>\n",
              "      <td>9.901186</td>\n",
              "      <td>Khyber Pakhtunkhwa</td>\n",
              "      <td>PK2</td>\n",
              "      <td>None</td>\n",
              "      <td>None</td>\n",
              "      <td>None</td>\n",
              "      <td>Pakistan</td>\n",
              "      <td>PK</td>\n",
              "      <td>2018-11-30</td>\n",
              "      <td>2018-12-18</td>\n",
              "      <td>None</td>\n",
              "      <td>POLYGON ((73.65503 36.90857, 73.66257 36.89641...</td>\n",
              "    </tr>\n",
              "    <tr>\n",
              "      <th>3</th>\n",
              "      <td>27.408452</td>\n",
              "      <td>19.362386</td>\n",
              "      <td>Punjab</td>\n",
              "      <td>PK6</td>\n",
              "      <td>None</td>\n",
              "      <td>None</td>\n",
              "      <td>None</td>\n",
              "      <td>Pakistan</td>\n",
              "      <td>PK</td>\n",
              "      <td>2018-11-30</td>\n",
              "      <td>2018-12-18</td>\n",
              "      <td>None</td>\n",
              "      <td>MULTIPOLYGON (((69.55326 28.13298, 69.55127 28...</td>\n",
              "    </tr>\n",
              "    <tr>\n",
              "      <th>4</th>\n",
              "      <td>30.150964</td>\n",
              "      <td>12.725140</td>\n",
              "      <td>Sindh</td>\n",
              "      <td>PK8</td>\n",
              "      <td>None</td>\n",
              "      <td>None</td>\n",
              "      <td>None</td>\n",
              "      <td>Pakistan</td>\n",
              "      <td>PK</td>\n",
              "      <td>2018-11-30</td>\n",
              "      <td>2018-12-18</td>\n",
              "      <td>None</td>\n",
              "      <td>MULTIPOLYGON (((68.18577 23.83741, 68.19128 23...</td>\n",
              "    </tr>\n",
              "  </tbody>\n",
              "</table>\n",
              "</div>"
            ],
            "text/plain": [
              "   Shape_Leng  ...                                           geometry\n",
              "0   41.407021  ...  POLYGON ((69.87863 31.96020, 69.87382 31.94636...\n",
              "1    1.659222  ...  POLYGON ((73.19828 33.79771, 73.22183 33.79422...\n",
              "2   27.479368  ...  POLYGON ((73.65503 36.90857, 73.66257 36.89641...\n",
              "3   27.408452  ...  MULTIPOLYGON (((69.55326 28.13298, 69.55127 28...\n",
              "4   30.150964  ...  MULTIPOLYGON (((68.18577 23.83741, 68.19128 23...\n",
              "\n",
              "[5 rows x 13 columns]"
            ]
          },
          "metadata": {
            "tags": []
          },
          "execution_count": 151
        }
      ]
    },
    {
      "cell_type": "code",
      "metadata": {
        "id": "DK5MVuoBuWY7",
        "colab_type": "code",
        "colab": {}
      },
      "source": [
        "prov=['Punjab','Sindh','Balochistan','Federal Capital Territory','Khyber Pakhtunkhwa']\n",
        "cases=[7495,7465,1218,840,3129]"
      ],
      "execution_count": 0,
      "outputs": []
    },
    {
      "cell_type": "code",
      "metadata": {
        "id": "FMCt0Am8vTFW",
        "colab_type": "code",
        "colab": {}
      },
      "source": [
        "dataPak={'ADM1_EN':prov,'Cases':cases}"
      ],
      "execution_count": 0,
      "outputs": []
    },
    {
      "cell_type": "code",
      "metadata": {
        "id": "nspnKI0gvfq3",
        "colab_type": "code",
        "colab": {}
      },
      "source": [
        "dataPal=pd.DataFrame(dataPak)"
      ],
      "execution_count": 0,
      "outputs": []
    },
    {
      "cell_type": "code",
      "metadata": {
        "id": "Yny_tiLMvrgf",
        "colab_type": "code",
        "outputId": "135cf702-d48e-49a9-965f-650c30aa8b8f",
        "colab": {
          "base_uri": "https://localhost:8080/",
          "height": 204
        }
      },
      "source": [
        "dataPal"
      ],
      "execution_count": 0,
      "outputs": [
        {
          "output_type": "execute_result",
          "data": {
            "text/html": [
              "<div>\n",
              "<style scoped>\n",
              "    .dataframe tbody tr th:only-of-type {\n",
              "        vertical-align: middle;\n",
              "    }\n",
              "\n",
              "    .dataframe tbody tr th {\n",
              "        vertical-align: top;\n",
              "    }\n",
              "\n",
              "    .dataframe thead th {\n",
              "        text-align: right;\n",
              "    }\n",
              "</style>\n",
              "<table border=\"1\" class=\"dataframe\">\n",
              "  <thead>\n",
              "    <tr style=\"text-align: right;\">\n",
              "      <th></th>\n",
              "      <th>ADM1_EN</th>\n",
              "      <th>Cases</th>\n",
              "    </tr>\n",
              "  </thead>\n",
              "  <tbody>\n",
              "    <tr>\n",
              "      <th>0</th>\n",
              "      <td>Punjab</td>\n",
              "      <td>7495</td>\n",
              "    </tr>\n",
              "    <tr>\n",
              "      <th>1</th>\n",
              "      <td>Sindh</td>\n",
              "      <td>7465</td>\n",
              "    </tr>\n",
              "    <tr>\n",
              "      <th>2</th>\n",
              "      <td>Balochistan</td>\n",
              "      <td>1218</td>\n",
              "    </tr>\n",
              "    <tr>\n",
              "      <th>3</th>\n",
              "      <td>Federal Capital Territory</td>\n",
              "      <td>840</td>\n",
              "    </tr>\n",
              "    <tr>\n",
              "      <th>4</th>\n",
              "      <td>Khyber Pakhtunkhwa</td>\n",
              "      <td>3129</td>\n",
              "    </tr>\n",
              "  </tbody>\n",
              "</table>\n",
              "</div>"
            ],
            "text/plain": [
              "                     ADM1_EN  Cases\n",
              "0                     Punjab   7495\n",
              "1                      Sindh   7465\n",
              "2                Balochistan   1218\n",
              "3  Federal Capital Territory    840\n",
              "4         Khyber Pakhtunkhwa   3129"
            ]
          },
          "metadata": {
            "tags": []
          },
          "execution_count": 156
        }
      ]
    },
    {
      "cell_type": "code",
      "metadata": {
        "id": "7168_Ipbvt67",
        "colab_type": "code",
        "colab": {}
      },
      "source": [
        "mapped = map_pak.set_index('ADM1_EN').join(dataPal.set_index('ADM1_EN')).reset_index()"
      ],
      "execution_count": 0,
      "outputs": []
    },
    {
      "cell_type": "code",
      "metadata": {
        "id": "cUcTelWEv7Ur",
        "colab_type": "code",
        "outputId": "d63e41d8-b149-43b0-c3af-e363ae43bd74",
        "colab": {
          "base_uri": "https://localhost:8080/",
          "height": 374
        }
      },
      "source": [
        "mapped"
      ],
      "execution_count": 0,
      "outputs": [
        {
          "output_type": "execute_result",
          "data": {
            "text/html": [
              "<div>\n",
              "<style scoped>\n",
              "    .dataframe tbody tr th:only-of-type {\n",
              "        vertical-align: middle;\n",
              "    }\n",
              "\n",
              "    .dataframe tbody tr th {\n",
              "        vertical-align: top;\n",
              "    }\n",
              "\n",
              "    .dataframe thead th {\n",
              "        text-align: right;\n",
              "    }\n",
              "</style>\n",
              "<table border=\"1\" class=\"dataframe\">\n",
              "  <thead>\n",
              "    <tr style=\"text-align: right;\">\n",
              "      <th></th>\n",
              "      <th>ADM1_EN</th>\n",
              "      <th>Shape_Leng</th>\n",
              "      <th>Shape_Area</th>\n",
              "      <th>ADM1_PCODE</th>\n",
              "      <th>ADM1_REF</th>\n",
              "      <th>ADM1ALT1EN</th>\n",
              "      <th>ADM1ALT2EN</th>\n",
              "      <th>ADM0_EN</th>\n",
              "      <th>ADM0_PCODE</th>\n",
              "      <th>date</th>\n",
              "      <th>validOn</th>\n",
              "      <th>validTo</th>\n",
              "      <th>geometry</th>\n",
              "      <th>Cases</th>\n",
              "    </tr>\n",
              "  </thead>\n",
              "  <tbody>\n",
              "    <tr>\n",
              "      <th>0</th>\n",
              "      <td>Balochistan</td>\n",
              "      <td>41.407021</td>\n",
              "      <td>31.910371</td>\n",
              "      <td>PK7</td>\n",
              "      <td>None</td>\n",
              "      <td>None</td>\n",
              "      <td>None</td>\n",
              "      <td>Pakistan</td>\n",
              "      <td>PK</td>\n",
              "      <td>2018-11-30</td>\n",
              "      <td>2018-12-18</td>\n",
              "      <td>None</td>\n",
              "      <td>POLYGON ((69.87863 31.96020, 69.87382 31.94636...</td>\n",
              "      <td>1218</td>\n",
              "    </tr>\n",
              "    <tr>\n",
              "      <th>1</th>\n",
              "      <td>Federal Capital Territory</td>\n",
              "      <td>1.659222</td>\n",
              "      <td>0.087285</td>\n",
              "      <td>PK5</td>\n",
              "      <td>None</td>\n",
              "      <td>None</td>\n",
              "      <td>None</td>\n",
              "      <td>Pakistan</td>\n",
              "      <td>PK</td>\n",
              "      <td>2018-11-30</td>\n",
              "      <td>2018-12-18</td>\n",
              "      <td>None</td>\n",
              "      <td>POLYGON ((73.19828 33.79771, 73.22183 33.79422...</td>\n",
              "      <td>840</td>\n",
              "    </tr>\n",
              "    <tr>\n",
              "      <th>2</th>\n",
              "      <td>Khyber Pakhtunkhwa</td>\n",
              "      <td>27.479368</td>\n",
              "      <td>9.901186</td>\n",
              "      <td>PK2</td>\n",
              "      <td>None</td>\n",
              "      <td>None</td>\n",
              "      <td>None</td>\n",
              "      <td>Pakistan</td>\n",
              "      <td>PK</td>\n",
              "      <td>2018-11-30</td>\n",
              "      <td>2018-12-18</td>\n",
              "      <td>None</td>\n",
              "      <td>POLYGON ((73.65503 36.90857, 73.66257 36.89641...</td>\n",
              "      <td>3129</td>\n",
              "    </tr>\n",
              "    <tr>\n",
              "      <th>3</th>\n",
              "      <td>Punjab</td>\n",
              "      <td>27.408452</td>\n",
              "      <td>19.362386</td>\n",
              "      <td>PK6</td>\n",
              "      <td>None</td>\n",
              "      <td>None</td>\n",
              "      <td>None</td>\n",
              "      <td>Pakistan</td>\n",
              "      <td>PK</td>\n",
              "      <td>2018-11-30</td>\n",
              "      <td>2018-12-18</td>\n",
              "      <td>None</td>\n",
              "      <td>MULTIPOLYGON (((69.55326 28.13298, 69.55127 28...</td>\n",
              "      <td>7495</td>\n",
              "    </tr>\n",
              "    <tr>\n",
              "      <th>4</th>\n",
              "      <td>Sindh</td>\n",
              "      <td>30.150964</td>\n",
              "      <td>12.725140</td>\n",
              "      <td>PK8</td>\n",
              "      <td>None</td>\n",
              "      <td>None</td>\n",
              "      <td>None</td>\n",
              "      <td>Pakistan</td>\n",
              "      <td>PK</td>\n",
              "      <td>2018-11-30</td>\n",
              "      <td>2018-12-18</td>\n",
              "      <td>None</td>\n",
              "      <td>MULTIPOLYGON (((68.18577 23.83741, 68.19128 23...</td>\n",
              "      <td>7465</td>\n",
              "    </tr>\n",
              "  </tbody>\n",
              "</table>\n",
              "</div>"
            ],
            "text/plain": [
              "                     ADM1_EN  ...  Cases\n",
              "0                Balochistan  ...   1218\n",
              "1  Federal Capital Territory  ...    840\n",
              "2         Khyber Pakhtunkhwa  ...   3129\n",
              "3                     Punjab  ...   7495\n",
              "4                      Sindh  ...   7465\n",
              "\n",
              "[5 rows x 14 columns]"
            ]
          },
          "metadata": {
            "tags": []
          },
          "execution_count": 163
        }
      ]
    },
    {
      "cell_type": "markdown",
      "metadata": {
        "id": "yCv5Q3MAub45",
        "colab_type": "text"
      },
      "source": [
        ""
      ]
    },
    {
      "cell_type": "code",
      "metadata": {
        "id": "dNGKrOqKwCF3",
        "colab_type": "code",
        "colab": {}
      },
      "source": [
        ""
      ],
      "execution_count": 0,
      "outputs": []
    },
    {
      "cell_type": "code",
      "metadata": {
        "colab_type": "code",
        "id": "OGZMU444wCSG",
        "colab": {}
      },
      "source": [
        "to_be_mapped = 'Cases'"
      ],
      "execution_count": 0,
      "outputs": []
    },
    {
      "cell_type": "code",
      "metadata": {
        "colab_type": "code",
        "id": "gsRzAc5rwCSO",
        "colab": {}
      },
      "source": [
        "vmin, vmax = mapped['Cases'].min(),mapped['Cases'].max()"
      ],
      "execution_count": 0,
      "outputs": []
    },
    {
      "cell_type": "code",
      "metadata": {
        "colab_type": "code",
        "outputId": "7a587ac5-5ce1-46ab-bf7b-110be176fbf4",
        "id": "PQpKYGfcwCSS",
        "colab": {
          "base_uri": "https://localhost:8080/",
          "height": 567
        }
      },
      "source": [
        "fig, ax = plt.subplots(1, figsize=(10,10))\n",
        "mapped.plot(column=to_be_mapped, cmap='PuBu', linewidth=0.8, ax=ax, edgecolors='0.2')\n",
        "ax.set_title('Number of Covid 19 Cases in The Province of Pakistan', fontdict={'fontsize':30})\n",
        "ax.set_axis_off()\n",
        "sm = plt.cm.ScalarMappable(cmap='PuBu', norm=plt.Normalize(vmin=vmin, vmax=vmax))\n",
        "sm._A = []\n",
        "cbar = fig.colorbar(sm, orientation='horizontal')\n",
        "mapped.apply(lambda x: ax.annotate(s=x.ADM1_EN, xy=x.geometry.centroid.coords[0], ha='center'),axis=1);\n",
        "fig.savefig('map2.png', dpi=600)"
      ],
      "execution_count": 0,
      "outputs": [
        {
          "output_type": "display_data",
          "data": {
            "image/png": "[encoded data removed]",
            "text/plain": [
              "<Figure size 720x720 with 2 Axes>"
            ]
          },
          "metadata": {
            "tags": [],
            "needs_background": "light"
          }
        }
      ]
    },
    {
      "cell_type": "code",
      "metadata": {
        "id": "sjCdqwZnwRBy",
        "colab_type": "code",
        "colab": {}
      },
      "source": [
        ""
      ],
      "execution_count": 0,
      "outputs": []
    }
  ]
}