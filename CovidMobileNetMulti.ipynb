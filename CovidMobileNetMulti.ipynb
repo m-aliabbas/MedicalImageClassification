{
  "nbformat": 4,
  "nbformat_minor": 0,
  "metadata": {
    "colab": {
      "name": "CovidMobileNetMulti.ipynb",
      "provenance": [],
      "include_colab_link": true
    },
    "kernelspec": {
      "name": "python3",
      "display_name": "Python 3"
    },
    "accelerator": "GPU",
    "widgets": {
      "application/vnd.jupyter.widget-state+json": {
        "71e028fbdbc74fe8802dcff98cba38ad": {
          "model_module": "@jupyter-widgets/controls",
          "model_name": "HBoxModel",
          "state": {
            "_view_name": "HBoxView",
            "_dom_classes": [],
            "_model_name": "HBoxModel",
            "_view_module": "@jupyter-widgets/controls",
            "_model_module_version": "1.5.0",
            "_view_count": null,
            "_view_module_version": "1.5.0",
            "box_style": "",
            "layout": "IPY_MODEL_6d03712e56554c918a6ea86dd4ba1405",
            "_model_module": "@jupyter-widgets/controls",
            "children": [
              "IPY_MODEL_39714764143548d7a0afb59dec465a06",
              "IPY_MODEL_ccc323a3683e4123ae1472153d349fc2"
            ]
          }
        },
        "6d03712e56554c918a6ea86dd4ba1405": {
          "model_module": "@jupyter-widgets/base",
          "model_name": "LayoutModel",
          "state": {
            "_view_name": "LayoutView",
            "grid_template_rows": null,
            "right": null,
            "justify_content": null,
            "_view_module": "@jupyter-widgets/base",
            "overflow": null,
            "_model_module_version": "1.2.0",
            "_view_count": null,
            "flex_flow": null,
            "width": null,
            "min_width": null,
            "border": null,
            "align_items": null,
            "bottom": null,
            "_model_module": "@jupyter-widgets/base",
            "top": null,
            "grid_column": null,
            "overflow_y": null,
            "overflow_x": null,
            "grid_auto_flow": null,
            "grid_area": null,
            "grid_template_columns": null,
            "flex": null,
            "_model_name": "LayoutModel",
            "justify_items": null,
            "grid_row": null,
            "max_height": null,
            "align_content": null,
            "visibility": null,
            "align_self": null,
            "height": null,
            "min_height": null,
            "padding": null,
            "grid_auto_rows": null,
            "grid_gap": null,
            "max_width": null,
            "order": null,
            "_view_module_version": "1.2.0",
            "grid_template_areas": null,
            "object_position": null,
            "object_fit": null,
            "grid_auto_columns": null,
            "margin": null,
            "display": null,
            "left": null
          }
        },
        "39714764143548d7a0afb59dec465a06": {
          "model_module": "@jupyter-widgets/controls",
          "model_name": "FloatProgressModel",
          "state": {
            "_view_name": "ProgressView",
            "style": "IPY_MODEL_906fa01019094ab082f728f30a2d7385",
            "_dom_classes": [],
            "description": "100%",
            "_model_name": "FloatProgressModel",
            "bar_style": "success",
            "max": 14212972,
            "_view_module": "@jupyter-widgets/controls",
            "_model_module_version": "1.5.0",
            "value": 14212972,
            "_view_count": null,
            "_view_module_version": "1.5.0",
            "orientation": "horizontal",
            "min": 0,
            "description_tooltip": null,
            "_model_module": "@jupyter-widgets/controls",
            "layout": "IPY_MODEL_4cdc6604133d4aaabc29e43acdc72a06"
          }
        },
        "ccc323a3683e4123ae1472153d349fc2": {
          "model_module": "@jupyter-widgets/controls",
          "model_name": "HTMLModel",
          "state": {
            "_view_name": "HTMLView",
            "style": "IPY_MODEL_9ad2c546609a4fe09464eccf9092651c",
            "_dom_classes": [],
            "description": "",
            "_model_name": "HTMLModel",
            "placeholder": "​",
            "_view_module": "@jupyter-widgets/controls",
            "_model_module_version": "1.5.0",
            "value": " 13.6M/13.6M [00:00&lt;00:00, 74.1MB/s]",
            "_view_count": null,
            "_view_module_version": "1.5.0",
            "description_tooltip": null,
            "_model_module": "@jupyter-widgets/controls",
            "layout": "IPY_MODEL_09de92c98caf4aa684ebb35640b8990c"
          }
        },
        "906fa01019094ab082f728f30a2d7385": {
          "model_module": "@jupyter-widgets/controls",
          "model_name": "ProgressStyleModel",
          "state": {
            "_view_name": "StyleView",
            "_model_name": "ProgressStyleModel",
            "description_width": "initial",
            "_view_module": "@jupyter-widgets/base",
            "_model_module_version": "1.5.0",
            "_view_count": null,
            "_view_module_version": "1.2.0",
            "bar_color": null,
            "_model_module": "@jupyter-widgets/controls"
          }
        },
        "4cdc6604133d4aaabc29e43acdc72a06": {
          "model_module": "@jupyter-widgets/base",
          "model_name": "LayoutModel",
          "state": {
            "_view_name": "LayoutView",
            "grid_template_rows": null,
            "right": null,
            "justify_content": null,
            "_view_module": "@jupyter-widgets/base",
            "overflow": null,
            "_model_module_version": "1.2.0",
            "_view_count": null,
            "flex_flow": null,
            "width": null,
            "min_width": null,
            "border": null,
            "align_items": null,
            "bottom": null,
            "_model_module": "@jupyter-widgets/base",
            "top": null,
            "grid_column": null,
            "overflow_y": null,
            "overflow_x": null,
            "grid_auto_flow": null,
            "grid_area": null,
            "grid_template_columns": null,
            "flex": null,
            "_model_name": "LayoutModel",
            "justify_items": null,
            "grid_row": null,
            "max_height": null,
            "align_content": null,
            "visibility": null,
            "align_self": null,
            "height": null,
            "min_height": null,
            "padding": null,
            "grid_auto_rows": null,
            "grid_gap": null,
            "max_width": null,
            "order": null,
            "_view_module_version": "1.2.0",
            "grid_template_areas": null,
            "object_position": null,
            "object_fit": null,
            "grid_auto_columns": null,
            "margin": null,
            "display": null,
            "left": null
          }
        },
        "9ad2c546609a4fe09464eccf9092651c": {
          "model_module": "@jupyter-widgets/controls",
          "model_name": "DescriptionStyleModel",
          "state": {
            "_view_name": "StyleView",
            "_model_name": "DescriptionStyleModel",
            "description_width": "",
            "_view_module": "@jupyter-widgets/base",
            "_model_module_version": "1.5.0",
            "_view_count": null,
            "_view_module_version": "1.2.0",
            "_model_module": "@jupyter-widgets/controls"
          }
        },
        "09de92c98caf4aa684ebb35640b8990c": {
          "model_module": "@jupyter-widgets/base",
          "model_name": "LayoutModel",
          "state": {
            "_view_name": "LayoutView",
            "grid_template_rows": null,
            "right": null,
            "justify_content": null,
            "_view_module": "@jupyter-widgets/base",
            "overflow": null,
            "_model_module_version": "1.2.0",
            "_view_count": null,
            "flex_flow": null,
            "width": null,
            "min_width": null,
            "border": null,
            "align_items": null,
            "bottom": null,
            "_model_module": "@jupyter-widgets/base",
            "top": null,
            "grid_column": null,
            "overflow_y": null,
            "overflow_x": null,
            "grid_auto_flow": null,
            "grid_area": null,
            "grid_template_columns": null,
            "flex": null,
            "_model_name": "LayoutModel",
            "justify_items": null,
            "grid_row": null,
            "max_height": null,
            "align_content": null,
            "visibility": null,
            "align_self": null,
            "height": null,
            "min_height": null,
            "padding": null,
            "grid_auto_rows": null,
            "grid_gap": null,
            "max_width": null,
            "order": null,
            "_view_module_version": "1.2.0",
            "grid_template_areas": null,
            "object_position": null,
            "object_fit": null,
            "grid_auto_columns": null,
            "margin": null,
            "display": null,
            "left": null
          }
        }
      }
    }
  },
  "cells": [
    {
      "cell_type": "markdown",
      "metadata": {
        "id": "view-in-github",
        "colab_type": "text"
      },
      "source": [
        "<a href=\"https://colab.research.google.com/github/m-aliabbas/MedicalImageClassification/blob/master/CovidMobileNetMulti.ipynb\" target=\"_parent\"><img src=\"https://colab.research.google.com/assets/colab-badge.svg\" alt=\"Open In Colab\"/></a>"
      ]
    },
    {
      "cell_type": "code",
      "metadata": {
        "id": "pw6VjP9ZxI_8",
        "colab_type": "code",
        "colab": {}
      },
      "source": [
        "from zipfile import ZipFile \n",
        "def unZip(file_name):\n",
        "  with ZipFile(file_name, 'r') as zip: \n",
        "      zip.extractall() \n",
        "      print('Done!') "
      ],
      "execution_count": 0,
      "outputs": []
    },
    {
      "cell_type": "code",
      "metadata": {
        "id": "im5mbA2FxWU0",
        "colab_type": "code",
        "outputId": "4bbc91db-cb62-4623-9c93-0965cd57b87c",
        "colab": {
          "base_uri": "https://localhost:8080/",
          "height": 34
        }
      },
      "source": [
        "import numpy as np # linear algebra\n",
        "import pandas as pd # data processing, CSV file I/O (e.g. pd.read_csv)\n",
        "import matplotlib.pyplot as plt # basic plotting\n",
        "import seaborn as sns # additional plotting functionality\n",
        "\n",
        "import os\n",
        "from cv2 import imread, createCLAHE\n",
        "import os\n",
        "import cv2\n",
        "import matplotlib.pyplot as plt\n",
        "import matplotlib.patches as patches\n",
        "import random\n",
        "from sklearn.utils import shuffle\n",
        "import scipy as sp\n",
        "from tqdm import tqdm_notebook\n",
        "from sklearn.model_selection import train_test_split\n",
        "import skimage\n",
        "\n",
        "# Ignore  the warnings\n",
        "import warnings\n",
        "warnings.filterwarnings('always')\n",
        "warnings.filterwarnings('ignore')\n",
        "\n",
        "\n",
        "import fastai\n",
        "from fastai import *\n",
        "from fastai.vision import *\n",
        "from fastai.callbacks import *\n",
        "\n",
        "print(fastai.__version__)"
      ],
      "execution_count": 0,
      "outputs": [
        {
          "output_type": "stream",
          "text": [
            "1.0.61\n"
          ],
          "name": "stdout"
        }
      ]
    },
    {
      "cell_type": "code",
      "metadata": {
        "id": "tcrpjAyXxYe3",
        "colab_type": "code",
        "colab": {}
      },
      "source": [
        "def set_seed(seed=42):\n",
        "    \n",
        "    import random\n",
        "    random.seed(seed)\n",
        "\n",
        "    # pytorch RNGs\n",
        "    import torch\n",
        "    torch.manual_seed(seed)\n",
        "    torch.backends.cudnn.deterministic = True\n",
        "    if torch.cuda.is_available(): torch.cuda.manual_seed_all(seed)\n",
        "\n",
        "    # numpy RNG\n",
        "    import numpy as np\n",
        "    np.random.seed(seed)\n",
        "    \n",
        "set_seed()"
      ],
      "execution_count": 0,
      "outputs": []
    },
    {
      "cell_type": "code",
      "metadata": {
        "id": "Gyini70mxagt",
        "colab_type": "code",
        "outputId": "4e83ad0a-c07b-4ef4-e71f-9950d8e2c035",
        "colab": {
          "base_uri": "https://localhost:8080/",
          "height": 122
        }
      },
      "source": [
        "# Load the Drive helper and mount\n",
        "from google.colab import drive\n",
        "\n",
        "# This will prompt for authorization.\n",
        "drive.mount('/content/drive')"
      ],
      "execution_count": 0,
      "outputs": [
        {
          "output_type": "stream",
          "text": [
            "Go to this URL in a browser: https://accounts.google.com/o/oauth2/auth?client_id=947318989803-6bn6qk8qdgf4n4g3pfee6491hc0brc4i.apps.googleusercontent.com&redirect_uri=urn%3aietf%3awg%3aoauth%3a2.0%3aoob&response_type=code&scope=email%20https%3a%2f%2fwww.googleapis.com%2fauth%2fdocs.test%20https%3a%2f%2fwww.googleapis.com%2fauth%2fdrive%20https%3a%2f%2fwww.googleapis.com%2fauth%2fdrive.photos.readonly%20https%3a%2f%2fwww.googleapis.com%2fauth%2fpeopleapi.readonly\n",
            "\n",
            "Enter your authorization code:\n",
            "··········\n",
            "Mounted at /content/drive\n"
          ],
          "name": "stdout"
        }
      ]
    },
    {
      "cell_type": "code",
      "metadata": {
        "id": "hJqxmszKxlB5",
        "colab_type": "code",
        "outputId": "4ad3113b-646d-4ba0-8f9a-3ac41bdfcf84",
        "colab": {
          "base_uri": "https://localhost:8080/",
          "height": 34
        }
      },
      "source": [
        "unZip('/content/drive/My Drive/dataCov.zip')"
      ],
      "execution_count": 0,
      "outputs": [
        {
          "output_type": "stream",
          "text": [
            "Done!\n"
          ],
          "name": "stdout"
        }
      ]
    },
    {
      "cell_type": "code",
      "metadata": {
        "id": "5-fo3HFwx1FV",
        "colab_type": "code",
        "outputId": "9cde5c47-47b1-4abc-c40f-e7db7262888b",
        "colab": {
          "base_uri": "https://localhost:8080/",
          "height": 1000
        }
      },
      "source": [
        "!ls dataCov/Covid"
      ],
      "execution_count": 0,
      "outputs": [
        {
          "output_type": "stream",
          "text": [
            " 01E392EE-69F9-4E33-BFCE-E5C968654078.jpeg\n",
            " 03BF7561-A9BA-4C3C-B8A0-D3E585F73F3C.jpeg\n",
            " 1312A392-67A3-4EBF-9319-810CF6DA5EF6.jpeg\n",
            " 16654_1_1.png\n",
            " 16654_2_1.jpg\n",
            " 16654_4_1.jpg\n",
            " 16660_1_1.jpg\n",
            " 16660_2_1.jpg\n",
            " 16660_3_1.jpg\n",
            " 16660_4_1.jpg\n",
            " 16660_5_1.jpg\n",
            " 16663_1_1.jpg\n",
            " 16663_1_2.jpg\n",
            " 16664_1_1.jpg\n",
            " 16664_2_1.jpg\n",
            " 16669_1_1.jpeg\n",
            " 16669_3_1.jpeg\n",
            " 16672_1_1.jpg\n",
            " 16673_2_1.jpg\n",
            " 16674_1_1.jpg\n",
            " 16691_1_1.jpg\n",
            " 16706_1_1.png\n",
            " 16708_1_1.jpg\n",
            " 16708_4_1.jpg\n",
            " 16708_5_1.jpg\n",
            " 16724_1_1.jpg\n",
            " 171CB377-62FF-4B76-906C-F3787A01CB2E.jpeg\n",
            " 1B734A89-A1BF-49A8-A1D3-66FAFA4FAC5D.jpeg\n",
            " 1.CXRCTThoraximagesofCOVID-19fromSingapore.pdf-000-fig1a.png\n",
            " 1.CXRCTThoraximagesofCOVID-19fromSingapore.pdf-000-fig1b.png\n",
            " 1.CXRCTThoraximagesofCOVID-19fromSingapore.pdf-001-fig2a.png\n",
            " 1.CXRCTThoraximagesofCOVID-19fromSingapore.pdf-001-fig2b.png\n",
            " 1.CXRCTThoraximagesofCOVID-19fromSingapore.pdf-002-fig3a.png\n",
            " 1.CXRCTThoraximagesofCOVID-19fromSingapore.pdf-002-fig3b.png\n",
            " 1.CXRCTThoraximagesofCOVID-19fromSingapore.pdf-003-fig4a.png\n",
            " 1.CXRCTThoraximagesofCOVID-19fromSingapore.pdf-003-fig4b.png\n",
            " 1F6343EE-AFEC-4B7D-97F5-62797EE18767.jpeg\n",
            " 1-s2.0-S0140673620303706-fx1_lrg.jpg\n",
            " 1-s2.0-S0929664620300449-gr2_lrg-a.jpg\n",
            " 1-s2.0-S0929664620300449-gr2_lrg-b.jpg\n",
            " 1-s2.0-S0929664620300449-gr2_lrg-c.jpg\n",
            " 1-s2.0-S0929664620300449-gr2_lrg-d.jpg\n",
            " 1-s2.0-S1684118220300608-main.pdf-001.jpg\n",
            " 1-s2.0-S1684118220300608-main.pdf-002.jpg\n",
            " 1-s2.0-S1684118220300682-main.pdf-002-a1.png\n",
            " 1-s2.0-S1684118220300682-main.pdf-002-a2.png\n",
            " 1-s2.0-S1684118220300682-main.pdf-003-b1.png\n",
            " 1-s2.0-S1684118220300682-main.pdf-003-b2.png\n",
            " 23E99E2E-447C-46E5-8EB2-D35D12473C39.png\n",
            " 254B82FC-817D-4E2F-AB6E-1351341F0E38.jpeg\n",
            " 2966893D-5DDF-4B68-9E2B-4979D5956C8E.jpeg\n",
            " 2B8649B2-00C4-4233-85D5-1CE240CF233B.jpeg\n",
            " 2C10A413-AABE-4807-8CCE-6A2025594067.jpeg\n",
            " 2C26F453-AF3B-4517-BB9E-802CF2179543.jpeg\n",
            " 2-chest-filmc.jpg\n",
            " 31BA3780-2323-493F-8AED-62081B9C383B.jpeg\n",
            " 353889E0-A1E8-4F9E-A0B8-F24F36BCFBFB.jpeg\n",
            " 35AF5C3B-D04D-4B4B-92B7-CB1F67D83085.jpeg\n",
            " 39EE8E69-5801-48DE-B6E3-BE7D1BCF3092.jpeg\n",
            " 41591_2020_819_Fig1_HTML.webp-day10.png\n",
            " 41591_2020_819_Fig1_HTML.webp-day5.png\n",
            " 446B2CB6-B572-40AB-B01F-1910CA07086A.jpeg\n",
            " 44C8E3D6-20DA-42E9-B33B-96FA6D6DE12F.jpeg\n",
            " 4ad30bc6-2da0-4f84-bc9b-62acabfd518a.annot.original.png\n",
            " 4C4DEFD8-F55D-4588-AAD6-C59017F55966.jpeg\n",
            " 4e43e48d52c9e2d4c6c1fb9bc1544f_jumbo.jpeg\n",
            " 4-x-day13.jpg\n",
            " 4-x-day1.jpg\n",
            " 4-x-day4.jpg\n",
            " 4-x-day8.jpg\n",
            " 53EC07C9-5CC6-4BE4-9B6F-D7B0D72AAA7E.jpeg\n",
            " 58cb9263f16e94305c730685358e4e_jumbo.jpeg\n",
            " 5931B64A-7B97-485D-BE60-3F1EA76BC4F0.jpeg\n",
            " 5A78BCA9-5B7A-440D-8A4E-AE7710EA6EAD.jpeg\n",
            " 5CBC2E94-D358-401E-8928-965CCD965C5C.jpeg\n",
            " 5e6dd879fde9502400e58b2f.jpeg\n",
            " 67d668e570c242404ba82c7cbe2ca8f2-0015-0.jpg\n",
            " 67d668e570c242404ba82c7cbe2ca8f2-05be-0.jpg\n",
            " 6b3bdbc31f65230b8cdcc3cef5f8ba8a-40ac-0.jpg\n",
            " 6b44464d-73a7-4cf3-bbb6-ffe7168300e3.annot.original.jpeg\n",
            " 6C94A287-C059-46A0-8600-AFB95F4727B7.jpeg\n",
            " 6CB4EFC6-68FA-4CD5-940C-BEFA8DAFE9A7.jpeg\n",
            " 7AF6C1AF-D249-4BD2-8C26-449304105D03.jpeg\n",
            " 7C69C012-7479-493F-8722-ABC29C60A2DD.jpeg\n",
            " 7D2CF6CE-F529-4470-8356-D33FFAF98600.jpeg\n",
            " 7E335538-2F86-424E-A0AB-6397783A38D0.jpeg\n",
            " 7EF28E12-F628-4BEC-A8C5-E6277C2E4F60.png\n",
            " 7-fatal-covid19.jpg\n",
            " 80446565-E090-4187-A031-9D3CEAA586C8.jpeg\n",
            " 85E52EB3-56E9-4D67-82DA-DEA247C82886.jpeg\n",
            " 88de9d8c39e946abd495b37cd07d89e5-0666-0.jpg\n",
            " 88de9d8c39e946abd495b37cd07d89e5-2ee6-0.jpg\n",
            " 88de9d8c39e946abd495b37cd07d89e5-6531-0.jpg\n",
            " 8FDE8DBA-CFBD-4B4C-B1A4-6F36A93B7E87.jpeg\n",
            " 93FE0BB1-022D-4F24-9727-987A07975FFB.jpeg\n",
            " 9C34AF49-E589-44D5-92D3-168B3B04E4A6.jpeg\n",
            " 9fdd3c3032296fd04d2cad5d9070d4_jumbo.jpeg\n",
            " a1a7d22e66f6570df523e0077c6a5a_jumbo.jpeg\n",
            " A7E260CE-8A00-4C5F-A7F5-27336527A981.jpeg\n",
            " ae6c954c0039de4b5edee53865ffee43-e6c8-0.jpg\n",
            " ajr.20.23034.pdf-001.png\n",
            " ajr.20.23034.pdf-003.png\n",
            " all14238-fig-0001-m-b.jpg\n",
            " all14238-fig-0001-m-c.jpg\n",
            " all14238-fig-0002-m-d.jpg\n",
            " all14238-fig-0002-m-e.jpg\n",
            " all14238-fig-0002-m-f.jpg\n",
            " AR-1.jpg\n",
            " AR-2.jpg\n",
            " auntminnie-a-2020_01_28_23_51_6665_2020_01_28_Vietnam_coronavirus.jpeg\n",
            " auntminnie-b-2020_01_28_23_51_6665_2020_01_28_Vietnam_coronavirus.jpeg\n",
            " auntminnie-c-2020_01_28_23_51_6665_2020_01_28_Vietnam_coronavirus.jpeg\n",
            " auntminnie-d-2020_01_28_23_51_6665_2020_01_28_Vietnam_coronavirus.jpeg\n",
            " B2D20576-00B7-4519-A415-72DE29C90C34.jpeg\n",
            " B59DD164-51D5-40DF-A926-6A42DD52EBE8.jpeg\n",
            " C6EA0BE5-B01E-4113-B194-18D956675E25.jpeg\n",
            " case_71_figura1.png\n",
            " case_72_RX-TORACE1.jpg\n",
            " case_76_1-3.png\n",
            " CD50BA96-6982-4C80-AE7B-5F67ACDBFA56.jpeg\n",
            " ciaa199.pdf-001-a.png\n",
            " ciaa199.pdf-001-b.png\n",
            " ciaa199.pdf-001-c.png\n",
            "'COVID-19 (100).png'\n",
            "'COVID-19 (101).png'\n",
            "'COVID-19 (102).png'\n",
            "'COVID-19 (103).png'\n",
            "'COVID-19 (104).png'\n",
            "'COVID-19 (105).png'\n",
            "'COVID-19 (106).png'\n",
            "'COVID-19 (107).png'\n",
            "'COVID-19 (108).png'\n",
            "'COVID-19 (109).png'\n",
            "'COVID-19 (10).png'\n",
            "'COVID-19 (110).png'\n",
            "'COVID-19 (111).png'\n",
            "'COVID-19 (112).png'\n",
            "'COVID-19 (113).png'\n",
            "'COVID-19 (114).png'\n",
            "'COVID-19 (115).png'\n",
            "'COVID-19 (116).png'\n",
            "'COVID-19 (117).png'\n",
            "'COVID-19 (118).png'\n",
            "'COVID-19 (119).png'\n",
            "'COVID-19 (11).png'\n",
            "'COVID-19 (120).png'\n",
            "'COVID-19 (121).png'\n",
            "'COVID-19 (122).png'\n",
            "'COVID-19 (123).png'\n",
            "'COVID-19 (124).png'\n",
            "'COVID-19 (125).png'\n",
            "'COVID-19 (126).png'\n",
            "'COVID-19 (127).png'\n",
            "'COVID-19 (128).png'\n",
            "'COVID-19 (129).png'\n",
            "'COVID-19 (12).png'\n",
            "'COVID-19 (130).png'\n",
            "'COVID-19 (131).png'\n",
            "'COVID-19 (132).png'\n",
            "'COVID-19 (133).png'\n",
            "'COVID-19(134).png'\n",
            "'COVID-19(135).png'\n",
            "'COVID-19(136).png'\n",
            "'COVID-19(137).png'\n",
            "'COVID-19(138).png'\n",
            "'COVID-19(139).png'\n",
            "'COVID-19 (13).png'\n",
            "'COVID-19(140).png'\n",
            "'COVID-19(141).png'\n",
            "'COVID-19(142).png'\n",
            "'COVID-19(143).png'\n",
            "'COVID-19(144).png'\n",
            "'COVID-19(145).png'\n",
            "'COVID-19(146).png'\n",
            "'COVID-19(147).png'\n",
            "'COVID-19(148).png'\n",
            "'COVID-19(149).png'\n",
            "'COVID-19 (14).png'\n",
            "'COVID-19(150).png'\n",
            "'COVID-19(151).png'\n",
            "'COVID-19(152).png'\n",
            "'COVID-19(153).png'\n",
            "'COVID-19(154).png'\n",
            "'COVID-19(155).png'\n",
            "'COVID-19(156).png'\n",
            "'COVID-19(157).png'\n",
            "'COVID-19(158).png'\n",
            "'COVID-19(159).png'\n",
            "'COVID-19 (15).png'\n",
            "'COVID-19(160).png'\n",
            "'COVID-19(161).png'\n",
            "'COVID-19(162).png'\n",
            "'COVID-19(163).png'\n",
            "'COVID-19(164).png'\n",
            "'COVID-19(165).png'\n",
            "'COVID-19(166).png'\n",
            "'COVID-19(167).png'\n",
            "'COVID-19(168).png'\n",
            "'COVID-19(169).png'\n",
            "'COVID-19 (16).png'\n",
            "'COVID-19(170).png'\n",
            "'COVID-19(171).png'\n",
            "'COVID-19(172).png'\n",
            "'COVID-19(173).png'\n",
            "'COVID-19(174).png'\n",
            "'COVID-19(175).png'\n",
            "'COVID-19(176).png'\n",
            "'COVID-19(177).png'\n",
            "'COVID-19(178).png'\n",
            "'COVID-19(179).png'\n",
            "'COVID-19 (17).png'\n",
            "'COVID-19(180).png'\n",
            "'COVID-19(181).png'\n",
            "'COVID-19(182).png'\n",
            "'COVID-19(183).png'\n",
            "'COVID-19(184).png'\n",
            "'COVID-19(185).png'\n",
            "'COVID-19(186).png'\n",
            "'COVID-19(187).png'\n",
            "'COVID-19(188).png'\n",
            "'COVID-19(189).png'\n",
            "'COVID-19 (18).png'\n",
            "'COVID-19(190).png'\n",
            "'COVID-19(191).png'\n",
            "'COVID-19(192).png'\n",
            "'COVID-19(193).png'\n",
            "'COVID-19(194).png'\n",
            "'COVID-19(195).png'\n",
            "'COVID-19(196).png'\n",
            "'COVID-19(197).png'\n",
            "'COVID-19(198).png'\n",
            "'COVID-19(199).png'\n",
            "'COVID-19 (19).png'\n",
            "'COVID-19 (1).png'\n",
            "'COVID-19(200).png'\n",
            "'COVID-19(201).png'\n",
            "'COVID-19(202).png'\n",
            "'COVID-19(203).png'\n",
            "'COVID-19(204).png'\n",
            "'COVID-19(205).png'\n",
            "'COVID-19(206).png'\n",
            "'COVID-19(207).png'\n",
            "'COVID-19(208).png'\n",
            "'COVID-19(209).png'\n",
            "'COVID-19 (20).png'\n",
            "'COVID-19(210).png'\n",
            "'COVID-19(211).png'\n",
            "'COVID-19(212).png'\n",
            "'COVID-19(213).png'\n",
            "'COVID-19(214).png'\n",
            "'COVID-19(215).png'\n",
            "'COVID-19(216).png'\n",
            "'COVID-19(217).png'\n",
            "'COVID-19(218).png'\n",
            "'COVID-19(219).png'\n",
            "'COVID-19 (21).png'\n",
            "'COVID-19 (22).png'\n",
            "'COVID-19 (23).png'\n",
            "'COVID-19 (24).png'\n",
            "'COVID-19 (25).png'\n",
            "'COVID-19 (26).png'\n",
            "'COVID-19 (27).png'\n",
            "'COVID-19 (28).png'\n",
            "'COVID-19 (29).png'\n",
            "'COVID-19 (2).png'\n",
            "'COVID-19 (30).png'\n",
            "'COVID-19 (31).png'\n",
            "'COVID-19 (32).png'\n",
            "'COVID-19 (33).png'\n",
            "'COVID-19 (34).png'\n",
            "'COVID-19 (35).png'\n",
            "'COVID-19 (36).png'\n",
            "'COVID-19 (37).png'\n",
            "'COVID-19 (38).png'\n",
            "'COVID-19 (39).png'\n",
            "'COVID-19 (3).png'\n",
            "'COVID-19 (40).png'\n",
            "'COVID-19 (41).png'\n",
            "'COVID-19 (42).png'\n",
            "'COVID-19 (43).png'\n",
            "'COVID-19 (44).png'\n",
            "'COVID-19 (45).png'\n",
            "'COVID-19 (46).png'\n",
            "'COVID-19 (47).png'\n",
            "'COVID-19 (48).png'\n",
            "'COVID-19 (49).png'\n",
            "'COVID-19 (4).png'\n",
            "'COVID-19 (50).png'\n",
            "'COVID-19 (51).png'\n",
            "'COVID-19 (52).png'\n",
            "'COVID-19 (53).png'\n",
            "'COVID-19 (54).png'\n",
            "'COVID-19 (55).png'\n",
            "'COVID-19 (56).png'\n",
            "'COVID-19 (57).png'\n",
            "'COVID-19 (58).png'\n",
            "'COVID-19 (59).png'\n",
            "'COVID-19 (5).png'\n",
            "'COVID-19 (60).png'\n",
            "'COVID-19 (61).png'\n",
            "'COVID-19 (62).png'\n",
            "'COVID-19 (63).png'\n",
            "'COVID-19 (64).png'\n",
            "'COVID-19 (65).png'\n",
            "'COVID-19 (66).png'\n",
            "'COVID-19 (67).png'\n",
            "'COVID-19 (68).png'\n",
            "'COVID-19 (69).png'\n",
            "'COVID-19 (6).png'\n",
            "'COVID-19 (70).png'\n",
            "'COVID-19 (71).png'\n",
            "'COVID-19 (72).png'\n",
            "'COVID-19 (73).png'\n",
            "'COVID-19 (74).png'\n",
            "'COVID-19 (75).png'\n",
            "'COVID-19 (76).png'\n",
            "'COVID-19 (77).png'\n",
            "'COVID-19 (78).png'\n",
            "'COVID-19 (79).png'\n",
            "'COVID-19 (7).png'\n",
            "'COVID-19 (80).png'\n",
            "'COVID-19 (81).png'\n",
            "'COVID-19 (82).png'\n",
            "'COVID-19 (83).png'\n",
            "'COVID-19 (84).png'\n",
            "'COVID-19 (85).png'\n",
            "'COVID-19 (86).png'\n",
            "'COVID-19 (87).png'\n",
            "'COVID-19 (88).png'\n",
            "'COVID-19 (89).png'\n",
            "'COVID-19 (8).png'\n",
            "'COVID-19 (90).png'\n",
            "'COVID-19 (91).png'\n",
            "'COVID-19 (92).png'\n",
            "'COVID-19 (93).png'\n",
            "'COVID-19 (94).png'\n",
            "'COVID-19 (95).png'\n",
            "'COVID-19 (96).png'\n",
            "'COVID-19 (97).png'\n",
            "'COVID-19 (98).png'\n",
            "'COVID-19 (99).png'\n",
            "'COVID-19 (9).png'\n",
            " covid-19-caso-70-1-L.jpg\n",
            " covid-19-caso-70-1-PA.jpg\n",
            " covid-19-caso-70-2-APS.jpg\n",
            " covid-19-infection-exclusive-gastrointestinal-symptoms-l.png\n",
            " covid-19-infection-exclusive-gastrointestinal-symptoms-pa.png\n",
            " covid-19-pneumonia-101.png\n",
            " covid-19-pneumonia-12.jpg\n",
            " covid-19-pneumonia-14-L.png\n",
            " covid-19-pneumonia-14-PA.png\n",
            " covid-19-pneumonia-15-L.jpg\n",
            " covid-19-pneumonia-15-PA.jpg\n",
            " covid-19-pneumonia-19.jpg\n",
            " covid-19-pneumonia-20.jpg\n",
            " covid-19-pneumonia-20-l-on-admission.jpg\n",
            " covid-19-pneumonia-20-pa-on-admission.jpg\n",
            " covid-19-pneumonia-22-day1-l.png\n",
            " covid-19-pneumonia-22-day1-pa.png\n",
            " covid-19-pneumonia-22-day2-pa.png\n",
            " covid-19-pneumonia-23-day1.jpg\n",
            " covid-19-pneumonia-23-day3.jpg\n",
            " covid-19-pneumonia-23-day9.jpg\n",
            " covid-19-pneumonia-24-day12.jpg\n",
            " covid-19-pneumonia-24-day6.jpg\n",
            " covid-19-pneumonia-24-day7.jpg\n",
            " covid-19-pneumonia-28.png\n",
            " covid-19-pneumonia-2.jpg\n",
            " covid-19-pneumonia-30-L.jpg\n",
            " covid-19-pneumonia-30-PA.jpg\n",
            " covid-19-pneumonia-34.png\n",
            " covid-19-pneumonia-35-1.jpg\n",
            " covid-19-pneumonia-35-2.jpg\n",
            " covid-19-pneumonia-38-l.jpg\n",
            " covid-19-pneumonia-38-pa.jpg\n",
            " covid-19-pneumonia-40.jpg\n",
            " covid-19-pneumonia-41-day-0.jpg\n",
            " covid-19-pneumonia-41-day-2.jpg\n",
            " covid-19-pneumonia-42.jpeg\n",
            " covid-19-pneumonia-43-day0.jpeg\n",
            " covid-19-pneumonia-43-day2.jpeg\n",
            " covid-19-pneumonia-44-day-0.jpeg\n",
            " covid-19-pneumonia-44-day-8.jpeg\n",
            " covid-19-pneumonia-49-day4.jpg\n",
            " covid-19-pneumonia-49-day8.jpg\n",
            " covid-19-pneumonia-53.jpg\n",
            " covid-19-pneumonia-58-day-10.jpg\n",
            " covid-19-pneumonia-58-day-3.jpg\n",
            " covid-19-pneumonia-58-day-7.jpg\n",
            " covid-19-pneumonia-58-day-9.jpg\n",
            " covid-19-pneumonia-67.jpeg\n",
            " covid-19-pneumonia-7-L.jpg\n",
            " covid-19-pneumonia-7-PA.jpg\n",
            " covid-19-pneumonia-8.jpg\n",
            " covid-19-pneumonia-93.png\n",
            " covid-19-pneumonia-bilateral.jpg\n",
            " covid-19-pneumonia-evolution-over-a-week-1-day0-L.jpg\n",
            " covid-19-pneumonia-evolution-over-a-week-1-day0-PA.jpg\n",
            " covid-19-pneumonia-evolution-over-a-week-1-day3.jpg\n",
            " covid-19-pneumonia-evolution-over-a-week-1-day4.jpg\n",
            " covid-19-pneumonia-evolution-over-a-week-1-day6.jpg\n",
            " covid-19-pneumonia-progression-and-regression-day11.jpg\n",
            " covid-19-pneumonia-progression-and-regression-day13.jpg\n",
            " covid-19-pneumonia-progression-and-regression-day1.jpg\n",
            " covid-19-pneumonia-progression-and-regression-day20.jpg\n",
            " covid-19-pneumonia-progression-and-regression-day24.jpg\n",
            " covid-19-pneumonia-progression-and-regression-day28.jpg\n",
            " covid-19-pneumonia-progression-and-regression-day6.jpg\n",
            " covid-19-pneumonia-rapidly-progressive-12-hours.jpg\n",
            " covid-19-pneumonia-rapidly-progressive-3-days.jpg\n",
            " covid-19-pneumonia-rapidly-progressive-admission.jpg\n",
            " covid-19-rapidly-progressive-acute-respiratory-distress-syndrome-ards-admission.jpg\n",
            " covid-19-rapidly-progressive-acute-respiratory-distress-syndrome-ards-day-1.jpg\n",
            " covid-19-rapidly-progressive-acute-respiratory-distress-syndrome-ards-day-2.jpg\n",
            " covid-19-rapidly-progressive-acute-respiratory-distress-syndrome-ards-day-3.jpg\n",
            " D5ACAA93-C779-4E22-ADFA-6A220489F840.jpeg\n",
            " D7AF463C-2369-492D-908D-BE1911CCD74C.jpeg\n",
            " da9e9aac-de8c-44c7-ba57-e7cc8e4caaba.annot.original.jpeg\n",
            " E1724330-1866-4581-8CD8-CEC9B8AFEDDE.jpeg\n",
            " E63574A7-4188-4C8D-8D17-9D67A18A1AFA.jpeg\n",
            " extubation-13.jpg\n",
            " extubation-1.jpg\n",
            " extubation-4.jpg\n",
            " extubation-8.jpg\n",
            " F2DE909F-E19C-4900-92F5-8F435B031AC6.jpeg\n",
            " F4341CE7-73C9-45C6-99C8-8567A5484B63.jpeg\n",
            " F63AB6CE-1968-4154-A70F-913AF154F53D.jpeg\n",
            " FE9F9A5D-2830-46F9-851B-1FF4534959BE.jpeg\n",
            " fff49165-b22d-4bb4-b9d1-d5d62c52436c.annot.original.png\n",
            " figure1-5e71be566aa8714a04de3386-98-left.jpeg\n",
            " figure1-5e73d7ae897e27ff066a30cb-98.jpeg\n",
            " figure1-5e75d0940b71e1b702629659-98-right.jpeg\n",
            " figure1-5e7c1b8d98c29ab001275405-98.jpeg\n",
            " figure1-5e7c1b8d98c29ab001275405-98-later.jpeg\n",
            " gr1_lrg-a.jpg\n",
            " gr1_lrg-b.jpg\n",
            " jkms-35-e79-g001-l-a.jpg\n",
            " jkms-35-e79-g001-l-b.jpg\n",
            " jkms-35-e79-g001-l-c.jpg\n",
            " kjr-21-e24-g001-l-a.jpg\n",
            " kjr-21-e24-g002-l-a.jpg\n",
            " kjr-21-e24-g003-l-a.jpg\n",
            " kjr-21-e25-g001-l-a.jpg\n",
            " lancet-case2a.jpg\n",
            " lancet-case2b.jpg\n",
            " nCoV-radiol.2020200269.fig1-day7.jpeg\n",
            " nejmc2001573_f1a.jpeg\n",
            " nejmc2001573_f1b.jpeg\n",
            " nejmoa2001191_f1-L.jpeg\n",
            " nejmoa2001191_f1-PA.jpeg\n",
            " nejmoa2001191_f3-L.jpeg\n",
            " nejmoa2001191_f3-PA.jpeg\n",
            " nejmoa2001191_f4.jpeg\n",
            " nejmoa2001191_f5-L.jpeg\n",
            " nejmoa2001191_f5-PA.jpeg\n",
            " paving.jpg\n",
            " post-intubuation-pneumomediastium-and-pneumothorax-background-covid-19-pneumonia-day1.jpg\n",
            " post-intubuation-pneumomediastium-and-pneumothorax-background-covid-19-pneumonia-day6-1.jpg\n",
            " post-intubuation-pneumomediastium-and-pneumothorax-background-covid-19-pneumonia-day6-2.jpg\n",
            " post-intubuation-pneumomediastium-and-pneumothorax-background-covid-19-pneumonia-day7.jpg\n",
            " radiol.2020200274.fig3d.png\n",
            " radiol.2020200490.fig3.jpeg\n",
            " radiol.2020201160.fig2a.jpeg\n",
            " radiol.2020201160.fig2b.jpeg\n",
            " radiol.2020201160.fig2c.jpeg\n",
            " radiol.2020201160.fig2d.jpeg\n",
            " radiol.2020201160.fig3a.jpeg\n",
            " radiol.2020201160.fig3b.jpeg\n",
            " radiol.2020201160.fig3c.jpeg\n",
            " radiol.2020201160.fig3d.jpeg\n",
            " radiol.2020201160.fig6b.jpeg\n",
            " RX-torace-a-letto-del-paziente-in-unica-proiezione-AP-1-1.jpeg\n",
            " ryct.2020003.fig2-a.png\n",
            " ryct.2020003.fig2-b.png\n",
            " ryct.2020003.fig2-c.png\n",
            " ryct.2020200028.fig1a.jpeg\n",
            " ryct.2020200034.fig2.jpeg\n",
            " ryct.2020200034.fig5-day0.jpeg\n",
            " ryct.2020200034.fig5-day4.jpeg\n",
            " ryct.2020200034.fig5-day7.jpeg\n",
            " yxppt-2020-02-19_00-51-27_287214-day10.jpg\n",
            " yxppt-2020-02-19_00-51-27_287214-day12.jpg\n",
            " yxppt-2020-02-19_00-51-27_287214-day8.jpg\n"
          ],
          "name": "stdout"
        }
      ]
    },
    {
      "cell_type": "code",
      "metadata": {
        "id": "R6sII30_yz9t",
        "colab_type": "code",
        "colab": {}
      },
      "source": [
        ""
      ],
      "execution_count": 0,
      "outputs": []
    },
    {
      "cell_type": "code",
      "metadata": {
        "id": "lWwVb1J9xc3d",
        "colab_type": "code",
        "colab": {}
      },
      "source": [
        "import glob\n",
        "filesPos= sorted(glob.glob('dataCov/Covid/*.png'))\n",
        "filesPos+= sorted(glob.glob('dataCov/Covid/*.jpeg'))\n",
        "filesPos+= sorted(glob.glob('dataCov/Covid/*.jpg'))\n",
        "filesNeg=sorted(glob.glob('dataCov/Normal/*.png'))[:500]\n",
        "filesPnuemonia=sorted(glob.glob('dataCov/ViralPnuemonia/*.png'))[:500]"
      ],
      "execution_count": 0,
      "outputs": []
    },
    {
      "cell_type": "code",
      "metadata": {
        "id": "7AP1xlWSyQua",
        "colab_type": "code",
        "colab": {}
      },
      "source": [
        "pos_labels=[[i,1] for i in filesPos] #have Pnuemonia\n",
        "neg_labels=[[i,0] for i in filesNeg] #dont have pnuemonia\n",
        "filesPnuemonia=[[i,2] for i in filesPnuemonia] #dont have pnuemonia\n",
        "ds=pos_labels+neg_labels+filesPnuemonia"
      ],
      "execution_count": 0,
      "outputs": []
    },
    {
      "cell_type": "code",
      "metadata": {
        "id": "xfsollsr6xyL",
        "colab_type": "code",
        "colab": {}
      },
      "source": [
        "np.random.seed(4200)\n",
        "import pandas as pd \n",
        "df = pd.DataFrame(ds,columns =['path', 'label']) \n",
        "def Randomizing(df):\n",
        "    df2 = df.reindex(np.random.permutation(df.index))\n",
        "    return df2\n",
        "df=Randomizing(df)"
      ],
      "execution_count": 0,
      "outputs": []
    },
    {
      "cell_type": "code",
      "metadata": {
        "id": "8H4qmU9iy50j",
        "colab_type": "code",
        "outputId": "d19861e3-92a5-45c7-e966-34810a106bc6",
        "colab": {
          "base_uri": "https://localhost:8080/",
          "height": 419
        }
      },
      "source": [
        "df"
      ],
      "execution_count": 0,
      "outputs": [
        {
          "output_type": "execute_result",
          "data": {
            "text/html": [
              "<div>\n",
              "<style scoped>\n",
              "    .dataframe tbody tr th:only-of-type {\n",
              "        vertical-align: middle;\n",
              "    }\n",
              "\n",
              "    .dataframe tbody tr th {\n",
              "        vertical-align: top;\n",
              "    }\n",
              "\n",
              "    .dataframe thead th {\n",
              "        text-align: right;\n",
              "    }\n",
              "</style>\n",
              "<table border=\"1\" class=\"dataframe\">\n",
              "  <thead>\n",
              "    <tr style=\"text-align: right;\">\n",
              "      <th></th>\n",
              "      <th>path</th>\n",
              "      <th>label</th>\n",
              "    </tr>\n",
              "  </thead>\n",
              "  <tbody>\n",
              "    <tr>\n",
              "      <th>1091</th>\n",
              "      <td>dataCov/ViralPnuemonia/Viral Pneumonia (1175).png</td>\n",
              "      <td>2</td>\n",
              "    </tr>\n",
              "    <tr>\n",
              "      <th>757</th>\n",
              "      <td>dataCov/Normal/NORMAL (263).png</td>\n",
              "      <td>0</td>\n",
              "    </tr>\n",
              "    <tr>\n",
              "      <th>809</th>\n",
              "      <td>dataCov/Normal/NORMAL (356).png</td>\n",
              "      <td>0</td>\n",
              "    </tr>\n",
              "    <tr>\n",
              "      <th>1438</th>\n",
              "      <td>dataCov/ViralPnuemonia/Viral Pneumonia (556).png</td>\n",
              "      <td>2</td>\n",
              "    </tr>\n",
              "    <tr>\n",
              "      <th>1109</th>\n",
              "      <td>dataCov/ViralPnuemonia/Viral Pneumonia (121).png</td>\n",
              "      <td>2</td>\n",
              "    </tr>\n",
              "    <tr>\n",
              "      <th>...</th>\n",
              "      <td>...</td>\n",
              "      <td>...</td>\n",
              "    </tr>\n",
              "    <tr>\n",
              "      <th>559</th>\n",
              "      <td>dataCov/Normal/NORMAL (1137).png</td>\n",
              "      <td>0</td>\n",
              "    </tr>\n",
              "    <tr>\n",
              "      <th>1293</th>\n",
              "      <td>dataCov/ViralPnuemonia/Viral Pneumonia (316).png</td>\n",
              "      <td>2</td>\n",
              "    </tr>\n",
              "    <tr>\n",
              "      <th>339</th>\n",
              "      <td>dataCov/Covid/nejmoa2001191_f4.jpeg</td>\n",
              "      <td>1</td>\n",
              "    </tr>\n",
              "    <tr>\n",
              "      <th>1012</th>\n",
              "      <td>dataCov/ViralPnuemonia/Viral Pneumonia (1044).png</td>\n",
              "      <td>2</td>\n",
              "    </tr>\n",
              "    <tr>\n",
              "      <th>1187</th>\n",
              "      <td>dataCov/ViralPnuemonia/Viral Pneumonia (144).png</td>\n",
              "      <td>2</td>\n",
              "    </tr>\n",
              "  </tbody>\n",
              "</table>\n",
              "<p>1483 rows × 2 columns</p>\n",
              "</div>"
            ],
            "text/plain": [
              "                                                   path  label\n",
              "1091  dataCov/ViralPnuemonia/Viral Pneumonia (1175).png      2\n",
              "757                     dataCov/Normal/NORMAL (263).png      0\n",
              "809                     dataCov/Normal/NORMAL (356).png      0\n",
              "1438   dataCov/ViralPnuemonia/Viral Pneumonia (556).png      2\n",
              "1109   dataCov/ViralPnuemonia/Viral Pneumonia (121).png      2\n",
              "...                                                 ...    ...\n",
              "559                    dataCov/Normal/NORMAL (1137).png      0\n",
              "1293   dataCov/ViralPnuemonia/Viral Pneumonia (316).png      2\n",
              "339                 dataCov/Covid/nejmoa2001191_f4.jpeg      1\n",
              "1012  dataCov/ViralPnuemonia/Viral Pneumonia (1044).png      2\n",
              "1187   dataCov/ViralPnuemonia/Viral Pneumonia (144).png      2\n",
              "\n",
              "[1483 rows x 2 columns]"
            ]
          },
          "metadata": {
            "tags": []
          },
          "execution_count": 14
        }
      ]
    },
    {
      "cell_type": "code",
      "metadata": {
        "id": "uAWxj3dHy6iC",
        "colab_type": "code",
        "colab": {}
      },
      "source": [
        "from sklearn.model_selection import train_test_split\n",
        "dfTrain,dfTest=train_test_split(df, shuffle=False,test_size=0.15, random_state=42)"
      ],
      "execution_count": 0,
      "outputs": []
    },
    {
      "cell_type": "code",
      "metadata": {
        "id": "KOYldva_y9GT",
        "colab_type": "code",
        "colab": {}
      },
      "source": [
        "bs =16\n",
        "sz=224\n",
        "tfms = get_transforms(do_flip=True,flip_vert=True,max_lighting=0.2,max_zoom=1.1)\n",
        "src = (ImageList.from_df(df=dfTrain,path='',cols='path') #get dataset from dataset\n",
        "        .split_by_rand_pct(0.2) #Splitting the dataset\n",
        "        .label_from_df(cols='label') #obtain labels from the level column\n",
        "      )\n",
        "data= (src.transform(tfms,size=224,padding_mode='zeros') #Data augmentation\n",
        "        .databunch(bs=bs,num_workers=4) #DataBunch\n",
        "        .normalize(imagenet_stats) #Normalize     \n",
        "       )"
      ],
      "execution_count": 0,
      "outputs": []
    },
    {
      "cell_type": "code",
      "metadata": {
        "id": "_rZCrxoVy_QG",
        "colab_type": "code",
        "outputId": "009da3d6-a374-4cc7-8cd4-a4e71e87dcbd",
        "colab": {
          "base_uri": "https://localhost:8080/",
          "height": 83,
          "referenced_widgets": [
            "71e028fbdbc74fe8802dcff98cba38ad",
            "6d03712e56554c918a6ea86dd4ba1405",
            "39714764143548d7a0afb59dec465a06",
            "ccc323a3683e4123ae1472153d349fc2",
            "906fa01019094ab082f728f30a2d7385",
            "4cdc6604133d4aaabc29e43acdc72a06",
            "9ad2c546609a4fe09464eccf9092651c",
            "09de92c98caf4aa684ebb35640b8990c"
          ]
        }
      },
      "source": [
        "\n",
        "import torch \n",
        "import torchvision\n",
        "model = torchvision.models.mobilenet_v2(pretrained=True)"
      ],
      "execution_count": 0,
      "outputs": [
        {
          "output_type": "stream",
          "text": [
            "Downloading: \"https://download.pytorch.org/models/mobilenet_v2-b0353104.pth\" to /root/.cache/torch/checkpoints/mobilenet_v2-b0353104.pth\n"
          ],
          "name": "stderr"
        },
        {
          "output_type": "display_data",
          "data": {
            "application/vnd.jupyter.widget-view+json": {
              "model_id": "71e028fbdbc74fe8802dcff98cba38ad",
              "version_minor": 0,
              "version_major": 2
            },
            "text/plain": [
              "HBox(children=(FloatProgress(value=0.0, max=14212972.0), HTML(value='')))"
            ]
          },
          "metadata": {
            "tags": []
          }
        },
        {
          "output_type": "stream",
          "text": [
            "\n"
          ],
          "name": "stdout"
        }
      ]
    },
    {
      "cell_type": "code",
      "metadata": {
        "id": "JWIruLa0w98c",
        "colab_type": "code",
        "outputId": "fc9a9435-8b14-4f7a-eb56-55a13ab9958d",
        "colab": {
          "base_uri": "https://localhost:8080/",
          "height": 1000
        }
      },
      "source": [
        "model"
      ],
      "execution_count": 0,
      "outputs": [
        {
          "output_type": "execute_result",
          "data": {
            "text/plain": [
              "MobileNetV2(\n",
              "  (features): Sequential(\n",
              "    (0): ConvBNReLU(\n",
              "      (0): Conv2d(3, 32, kernel_size=(3, 3), stride=(2, 2), padding=(1, 1), bias=False)\n",
              "      (1): BatchNorm2d(32, eps=1e-05, momentum=0.1, affine=True, track_running_stats=True)\n",
              "      (2): ReLU6(inplace=True)\n",
              "    )\n",
              "    (1): InvertedResidual(\n",
              "      (conv): Sequential(\n",
              "        (0): ConvBNReLU(\n",
              "          (0): Conv2d(32, 32, kernel_size=(3, 3), stride=(1, 1), padding=(1, 1), groups=32, bias=False)\n",
              "          (1): BatchNorm2d(32, eps=1e-05, momentum=0.1, affine=True, track_running_stats=True)\n",
              "          (2): ReLU6(inplace=True)\n",
              "        )\n",
              "        (1): Conv2d(32, 16, kernel_size=(1, 1), stride=(1, 1), bias=False)\n",
              "        (2): BatchNorm2d(16, eps=1e-05, momentum=0.1, affine=True, track_running_stats=True)\n",
              "      )\n",
              "    )\n",
              "    (2): InvertedResidual(\n",
              "      (conv): Sequential(\n",
              "        (0): ConvBNReLU(\n",
              "          (0): Conv2d(16, 96, kernel_size=(1, 1), stride=(1, 1), bias=False)\n",
              "          (1): BatchNorm2d(96, eps=1e-05, momentum=0.1, affine=True, track_running_stats=True)\n",
              "          (2): ReLU6(inplace=True)\n",
              "        )\n",
              "        (1): ConvBNReLU(\n",
              "          (0): Conv2d(96, 96, kernel_size=(3, 3), stride=(2, 2), padding=(1, 1), groups=96, bias=False)\n",
              "          (1): BatchNorm2d(96, eps=1e-05, momentum=0.1, affine=True, track_running_stats=True)\n",
              "          (2): ReLU6(inplace=True)\n",
              "        )\n",
              "        (2): Conv2d(96, 24, kernel_size=(1, 1), stride=(1, 1), bias=False)\n",
              "        (3): BatchNorm2d(24, eps=1e-05, momentum=0.1, affine=True, track_running_stats=True)\n",
              "      )\n",
              "    )\n",
              "    (3): InvertedResidual(\n",
              "      (conv): Sequential(\n",
              "        (0): ConvBNReLU(\n",
              "          (0): Conv2d(24, 144, kernel_size=(1, 1), stride=(1, 1), bias=False)\n",
              "          (1): BatchNorm2d(144, eps=1e-05, momentum=0.1, affine=True, track_running_stats=True)\n",
              "          (2): ReLU6(inplace=True)\n",
              "        )\n",
              "        (1): ConvBNReLU(\n",
              "          (0): Conv2d(144, 144, kernel_size=(3, 3), stride=(1, 1), padding=(1, 1), groups=144, bias=False)\n",
              "          (1): BatchNorm2d(144, eps=1e-05, momentum=0.1, affine=True, track_running_stats=True)\n",
              "          (2): ReLU6(inplace=True)\n",
              "        )\n",
              "        (2): Conv2d(144, 24, kernel_size=(1, 1), stride=(1, 1), bias=False)\n",
              "        (3): BatchNorm2d(24, eps=1e-05, momentum=0.1, affine=True, track_running_stats=True)\n",
              "      )\n",
              "    )\n",
              "    (4): InvertedResidual(\n",
              "      (conv): Sequential(\n",
              "        (0): ConvBNReLU(\n",
              "          (0): Conv2d(24, 144, kernel_size=(1, 1), stride=(1, 1), bias=False)\n",
              "          (1): BatchNorm2d(144, eps=1e-05, momentum=0.1, affine=True, track_running_stats=True)\n",
              "          (2): ReLU6(inplace=True)\n",
              "        )\n",
              "        (1): ConvBNReLU(\n",
              "          (0): Conv2d(144, 144, kernel_size=(3, 3), stride=(2, 2), padding=(1, 1), groups=144, bias=False)\n",
              "          (1): BatchNorm2d(144, eps=1e-05, momentum=0.1, affine=True, track_running_stats=True)\n",
              "          (2): ReLU6(inplace=True)\n",
              "        )\n",
              "        (2): Conv2d(144, 32, kernel_size=(1, 1), stride=(1, 1), bias=False)\n",
              "        (3): BatchNorm2d(32, eps=1e-05, momentum=0.1, affine=True, track_running_stats=True)\n",
              "      )\n",
              "    )\n",
              "    (5): InvertedResidual(\n",
              "      (conv): Sequential(\n",
              "        (0): ConvBNReLU(\n",
              "          (0): Conv2d(32, 192, kernel_size=(1, 1), stride=(1, 1), bias=False)\n",
              "          (1): BatchNorm2d(192, eps=1e-05, momentum=0.1, affine=True, track_running_stats=True)\n",
              "          (2): ReLU6(inplace=True)\n",
              "        )\n",
              "        (1): ConvBNReLU(\n",
              "          (0): Conv2d(192, 192, kernel_size=(3, 3), stride=(1, 1), padding=(1, 1), groups=192, bias=False)\n",
              "          (1): BatchNorm2d(192, eps=1e-05, momentum=0.1, affine=True, track_running_stats=True)\n",
              "          (2): ReLU6(inplace=True)\n",
              "        )\n",
              "        (2): Conv2d(192, 32, kernel_size=(1, 1), stride=(1, 1), bias=False)\n",
              "        (3): BatchNorm2d(32, eps=1e-05, momentum=0.1, affine=True, track_running_stats=True)\n",
              "      )\n",
              "    )\n",
              "    (6): InvertedResidual(\n",
              "      (conv): Sequential(\n",
              "        (0): ConvBNReLU(\n",
              "          (0): Conv2d(32, 192, kernel_size=(1, 1), stride=(1, 1), bias=False)\n",
              "          (1): BatchNorm2d(192, eps=1e-05, momentum=0.1, affine=True, track_running_stats=True)\n",
              "          (2): ReLU6(inplace=True)\n",
              "        )\n",
              "        (1): ConvBNReLU(\n",
              "          (0): Conv2d(192, 192, kernel_size=(3, 3), stride=(1, 1), padding=(1, 1), groups=192, bias=False)\n",
              "          (1): BatchNorm2d(192, eps=1e-05, momentum=0.1, affine=True, track_running_stats=True)\n",
              "          (2): ReLU6(inplace=True)\n",
              "        )\n",
              "        (2): Conv2d(192, 32, kernel_size=(1, 1), stride=(1, 1), bias=False)\n",
              "        (3): BatchNorm2d(32, eps=1e-05, momentum=0.1, affine=True, track_running_stats=True)\n",
              "      )\n",
              "    )\n",
              "    (7): InvertedResidual(\n",
              "      (conv): Sequential(\n",
              "        (0): ConvBNReLU(\n",
              "          (0): Conv2d(32, 192, kernel_size=(1, 1), stride=(1, 1), bias=False)\n",
              "          (1): BatchNorm2d(192, eps=1e-05, momentum=0.1, affine=True, track_running_stats=True)\n",
              "          (2): ReLU6(inplace=True)\n",
              "        )\n",
              "        (1): ConvBNReLU(\n",
              "          (0): Conv2d(192, 192, kernel_size=(3, 3), stride=(2, 2), padding=(1, 1), groups=192, bias=False)\n",
              "          (1): BatchNorm2d(192, eps=1e-05, momentum=0.1, affine=True, track_running_stats=True)\n",
              "          (2): ReLU6(inplace=True)\n",
              "        )\n",
              "        (2): Conv2d(192, 64, kernel_size=(1, 1), stride=(1, 1), bias=False)\n",
              "        (3): BatchNorm2d(64, eps=1e-05, momentum=0.1, affine=True, track_running_stats=True)\n",
              "      )\n",
              "    )\n",
              "    (8): InvertedResidual(\n",
              "      (conv): Sequential(\n",
              "        (0): ConvBNReLU(\n",
              "          (0): Conv2d(64, 384, kernel_size=(1, 1), stride=(1, 1), bias=False)\n",
              "          (1): BatchNorm2d(384, eps=1e-05, momentum=0.1, affine=True, track_running_stats=True)\n",
              "          (2): ReLU6(inplace=True)\n",
              "        )\n",
              "        (1): ConvBNReLU(\n",
              "          (0): Conv2d(384, 384, kernel_size=(3, 3), stride=(1, 1), padding=(1, 1), groups=384, bias=False)\n",
              "          (1): BatchNorm2d(384, eps=1e-05, momentum=0.1, affine=True, track_running_stats=True)\n",
              "          (2): ReLU6(inplace=True)\n",
              "        )\n",
              "        (2): Conv2d(384, 64, kernel_size=(1, 1), stride=(1, 1), bias=False)\n",
              "        (3): BatchNorm2d(64, eps=1e-05, momentum=0.1, affine=True, track_running_stats=True)\n",
              "      )\n",
              "    )\n",
              "    (9): InvertedResidual(\n",
              "      (conv): Sequential(\n",
              "        (0): ConvBNReLU(\n",
              "          (0): Conv2d(64, 384, kernel_size=(1, 1), stride=(1, 1), bias=False)\n",
              "          (1): BatchNorm2d(384, eps=1e-05, momentum=0.1, affine=True, track_running_stats=True)\n",
              "          (2): ReLU6(inplace=True)\n",
              "        )\n",
              "        (1): ConvBNReLU(\n",
              "          (0): Conv2d(384, 384, kernel_size=(3, 3), stride=(1, 1), padding=(1, 1), groups=384, bias=False)\n",
              "          (1): BatchNorm2d(384, eps=1e-05, momentum=0.1, affine=True, track_running_stats=True)\n",
              "          (2): ReLU6(inplace=True)\n",
              "        )\n",
              "        (2): Conv2d(384, 64, kernel_size=(1, 1), stride=(1, 1), bias=False)\n",
              "        (3): BatchNorm2d(64, eps=1e-05, momentum=0.1, affine=True, track_running_stats=True)\n",
              "      )\n",
              "    )\n",
              "    (10): InvertedResidual(\n",
              "      (conv): Sequential(\n",
              "        (0): ConvBNReLU(\n",
              "          (0): Conv2d(64, 384, kernel_size=(1, 1), stride=(1, 1), bias=False)\n",
              "          (1): BatchNorm2d(384, eps=1e-05, momentum=0.1, affine=True, track_running_stats=True)\n",
              "          (2): ReLU6(inplace=True)\n",
              "        )\n",
              "        (1): ConvBNReLU(\n",
              "          (0): Conv2d(384, 384, kernel_size=(3, 3), stride=(1, 1), padding=(1, 1), groups=384, bias=False)\n",
              "          (1): BatchNorm2d(384, eps=1e-05, momentum=0.1, affine=True, track_running_stats=True)\n",
              "          (2): ReLU6(inplace=True)\n",
              "        )\n",
              "        (2): Conv2d(384, 64, kernel_size=(1, 1), stride=(1, 1), bias=False)\n",
              "        (3): BatchNorm2d(64, eps=1e-05, momentum=0.1, affine=True, track_running_stats=True)\n",
              "      )\n",
              "    )\n",
              "    (11): InvertedResidual(\n",
              "      (conv): Sequential(\n",
              "        (0): ConvBNReLU(\n",
              "          (0): Conv2d(64, 384, kernel_size=(1, 1), stride=(1, 1), bias=False)\n",
              "          (1): BatchNorm2d(384, eps=1e-05, momentum=0.1, affine=True, track_running_stats=True)\n",
              "          (2): ReLU6(inplace=True)\n",
              "        )\n",
              "        (1): ConvBNReLU(\n",
              "          (0): Conv2d(384, 384, kernel_size=(3, 3), stride=(1, 1), padding=(1, 1), groups=384, bias=False)\n",
              "          (1): BatchNorm2d(384, eps=1e-05, momentum=0.1, affine=True, track_running_stats=True)\n",
              "          (2): ReLU6(inplace=True)\n",
              "        )\n",
              "        (2): Conv2d(384, 96, kernel_size=(1, 1), stride=(1, 1), bias=False)\n",
              "        (3): BatchNorm2d(96, eps=1e-05, momentum=0.1, affine=True, track_running_stats=True)\n",
              "      )\n",
              "    )\n",
              "    (12): InvertedResidual(\n",
              "      (conv): Sequential(\n",
              "        (0): ConvBNReLU(\n",
              "          (0): Conv2d(96, 576, kernel_size=(1, 1), stride=(1, 1), bias=False)\n",
              "          (1): BatchNorm2d(576, eps=1e-05, momentum=0.1, affine=True, track_running_stats=True)\n",
              "          (2): ReLU6(inplace=True)\n",
              "        )\n",
              "        (1): ConvBNReLU(\n",
              "          (0): Conv2d(576, 576, kernel_size=(3, 3), stride=(1, 1), padding=(1, 1), groups=576, bias=False)\n",
              "          (1): BatchNorm2d(576, eps=1e-05, momentum=0.1, affine=True, track_running_stats=True)\n",
              "          (2): ReLU6(inplace=True)\n",
              "        )\n",
              "        (2): Conv2d(576, 96, kernel_size=(1, 1), stride=(1, 1), bias=False)\n",
              "        (3): BatchNorm2d(96, eps=1e-05, momentum=0.1, affine=True, track_running_stats=True)\n",
              "      )\n",
              "    )\n",
              "    (13): InvertedResidual(\n",
              "      (conv): Sequential(\n",
              "        (0): ConvBNReLU(\n",
              "          (0): Conv2d(96, 576, kernel_size=(1, 1), stride=(1, 1), bias=False)\n",
              "          (1): BatchNorm2d(576, eps=1e-05, momentum=0.1, affine=True, track_running_stats=True)\n",
              "          (2): ReLU6(inplace=True)\n",
              "        )\n",
              "        (1): ConvBNReLU(\n",
              "          (0): Conv2d(576, 576, kernel_size=(3, 3), stride=(1, 1), padding=(1, 1), groups=576, bias=False)\n",
              "          (1): BatchNorm2d(576, eps=1e-05, momentum=0.1, affine=True, track_running_stats=True)\n",
              "          (2): ReLU6(inplace=True)\n",
              "        )\n",
              "        (2): Conv2d(576, 96, kernel_size=(1, 1), stride=(1, 1), bias=False)\n",
              "        (3): BatchNorm2d(96, eps=1e-05, momentum=0.1, affine=True, track_running_stats=True)\n",
              "      )\n",
              "    )\n",
              "    (14): InvertedResidual(\n",
              "      (conv): Sequential(\n",
              "        (0): ConvBNReLU(\n",
              "          (0): Conv2d(96, 576, kernel_size=(1, 1), stride=(1, 1), bias=False)\n",
              "          (1): BatchNorm2d(576, eps=1e-05, momentum=0.1, affine=True, track_running_stats=True)\n",
              "          (2): ReLU6(inplace=True)\n",
              "        )\n",
              "        (1): ConvBNReLU(\n",
              "          (0): Conv2d(576, 576, kernel_size=(3, 3), stride=(2, 2), padding=(1, 1), groups=576, bias=False)\n",
              "          (1): BatchNorm2d(576, eps=1e-05, momentum=0.1, affine=True, track_running_stats=True)\n",
              "          (2): ReLU6(inplace=True)\n",
              "        )\n",
              "        (2): Conv2d(576, 160, kernel_size=(1, 1), stride=(1, 1), bias=False)\n",
              "        (3): BatchNorm2d(160, eps=1e-05, momentum=0.1, affine=True, track_running_stats=True)\n",
              "      )\n",
              "    )\n",
              "    (15): InvertedResidual(\n",
              "      (conv): Sequential(\n",
              "        (0): ConvBNReLU(\n",
              "          (0): Conv2d(160, 960, kernel_size=(1, 1), stride=(1, 1), bias=False)\n",
              "          (1): BatchNorm2d(960, eps=1e-05, momentum=0.1, affine=True, track_running_stats=True)\n",
              "          (2): ReLU6(inplace=True)\n",
              "        )\n",
              "        (1): ConvBNReLU(\n",
              "          (0): Conv2d(960, 960, kernel_size=(3, 3), stride=(1, 1), padding=(1, 1), groups=960, bias=False)\n",
              "          (1): BatchNorm2d(960, eps=1e-05, momentum=0.1, affine=True, track_running_stats=True)\n",
              "          (2): ReLU6(inplace=True)\n",
              "        )\n",
              "        (2): Conv2d(960, 160, kernel_size=(1, 1), stride=(1, 1), bias=False)\n",
              "        (3): BatchNorm2d(160, eps=1e-05, momentum=0.1, affine=True, track_running_stats=True)\n",
              "      )\n",
              "    )\n",
              "    (16): InvertedResidual(\n",
              "      (conv): Sequential(\n",
              "        (0): ConvBNReLU(\n",
              "          (0): Conv2d(160, 960, kernel_size=(1, 1), stride=(1, 1), bias=False)\n",
              "          (1): BatchNorm2d(960, eps=1e-05, momentum=0.1, affine=True, track_running_stats=True)\n",
              "          (2): ReLU6(inplace=True)\n",
              "        )\n",
              "        (1): ConvBNReLU(\n",
              "          (0): Conv2d(960, 960, kernel_size=(3, 3), stride=(1, 1), padding=(1, 1), groups=960, bias=False)\n",
              "          (1): BatchNorm2d(960, eps=1e-05, momentum=0.1, affine=True, track_running_stats=True)\n",
              "          (2): ReLU6(inplace=True)\n",
              "        )\n",
              "        (2): Conv2d(960, 160, kernel_size=(1, 1), stride=(1, 1), bias=False)\n",
              "        (3): BatchNorm2d(160, eps=1e-05, momentum=0.1, affine=True, track_running_stats=True)\n",
              "      )\n",
              "    )\n",
              "    (17): InvertedResidual(\n",
              "      (conv): Sequential(\n",
              "        (0): ConvBNReLU(\n",
              "          (0): Conv2d(160, 960, kernel_size=(1, 1), stride=(1, 1), bias=False)\n",
              "          (1): BatchNorm2d(960, eps=1e-05, momentum=0.1, affine=True, track_running_stats=True)\n",
              "          (2): ReLU6(inplace=True)\n",
              "        )\n",
              "        (1): ConvBNReLU(\n",
              "          (0): Conv2d(960, 960, kernel_size=(3, 3), stride=(1, 1), padding=(1, 1), groups=960, bias=False)\n",
              "          (1): BatchNorm2d(960, eps=1e-05, momentum=0.1, affine=True, track_running_stats=True)\n",
              "          (2): ReLU6(inplace=True)\n",
              "        )\n",
              "        (2): Conv2d(960, 320, kernel_size=(1, 1), stride=(1, 1), bias=False)\n",
              "        (3): BatchNorm2d(320, eps=1e-05, momentum=0.1, affine=True, track_running_stats=True)\n",
              "      )\n",
              "    )\n",
              "    (18): ConvBNReLU(\n",
              "      (0): Conv2d(320, 1280, kernel_size=(1, 1), stride=(1, 1), bias=False)\n",
              "      (1): BatchNorm2d(1280, eps=1e-05, momentum=0.1, affine=True, track_running_stats=True)\n",
              "      (2): ReLU6(inplace=True)\n",
              "    )\n",
              "  )\n",
              "  (classifier): Sequential(\n",
              "    (0): Dropout(p=0.2, inplace=False)\n",
              "    (1): Linear(in_features=1280, out_features=1000, bias=True)\n",
              "  )\n",
              ")"
            ]
          },
          "metadata": {
            "tags": []
          },
          "execution_count": 18
        }
      ]
    },
    {
      "cell_type": "code",
      "metadata": {
        "id": "pVfcUQvUzAUR",
        "colab_type": "code",
        "colab": {}
      },
      "source": [
        "num_ftrs = 1280\n",
        "model.classifier=nn.Sequential(\n",
        "    nn.Dropout(0.5),\n",
        "    nn.Linear(num_ftrs, len(data.classes)),\n",
        "    \n",
        ")"
      ],
      "execution_count": 0,
      "outputs": []
    },
    {
      "cell_type": "code",
      "metadata": {
        "id": "SqSpAo6tzCBP",
        "colab_type": "code",
        "colab": {}
      },
      "source": [
        "model=model.cuda()"
      ],
      "execution_count": 0,
      "outputs": []
    },
    {
      "cell_type": "code",
      "metadata": {
        "id": "hL3yiOLwzDsm",
        "colab_type": "code",
        "colab": {}
      },
      "source": [
        "from fastai.callbacks import *\n",
        "\n",
        "learn = Learner(data, model, metrics=[error_rate, accuracy])"
      ],
      "execution_count": 0,
      "outputs": []
    },
    {
      "cell_type": "code",
      "metadata": {
        "id": "ZQqQhFS3zNnr",
        "colab_type": "code",
        "outputId": "77049721-00d6-4ae4-bab1-d2f0fdd5f27d",
        "colab": {
          "base_uri": "https://localhost:8080/",
          "height": 369
        }
      },
      "source": [
        "data.show_batch(rows=3, figsize=(5,5))"
      ],
      "execution_count": 0,
      "outputs": [
        {
          "output_type": "display_data",
          "data": {
            "image/png": "[encoded data removed]",
            "text/plain": [
              "<Figure size 360x360 with 9 Axes>"
            ]
          },
          "metadata": {
            "tags": [],
            "needs_background": "light"
          }
        }
      ]
    },
    {
      "cell_type": "code",
      "metadata": {
        "id": "nv2tMfYMzPTU",
        "colab_type": "code",
        "outputId": "b46b4f5f-bbe5-406c-956a-334b4cb10ce7",
        "colab": {
          "base_uri": "https://localhost:8080/",
          "height": 266
        }
      },
      "source": [
        "learn.unfreeze()\n",
        "learn.fit(7,1e-4,wd=0.9)"
      ],
      "execution_count": 0,
      "outputs": [
        {
          "output_type": "display_data",
          "data": {
            "text/html": [
              "<table border=\"1\" class=\"dataframe\">\n",
              "  <thead>\n",
              "    <tr style=\"text-align: left;\">\n",
              "      <th>epoch</th>\n",
              "      <th>train_loss</th>\n",
              "      <th>valid_loss</th>\n",
              "      <th>error_rate</th>\n",
              "      <th>accuracy</th>\n",
              "      <th>time</th>\n",
              "    </tr>\n",
              "  </thead>\n",
              "  <tbody>\n",
              "    <tr>\n",
              "      <td>0</td>\n",
              "      <td>0.387902</td>\n",
              "      <td>0.214940</td>\n",
              "      <td>0.083333</td>\n",
              "      <td>0.916667</td>\n",
              "      <td>01:05</td>\n",
              "    </tr>\n",
              "    <tr>\n",
              "      <td>1</td>\n",
              "      <td>0.245323</td>\n",
              "      <td>0.182040</td>\n",
              "      <td>0.063492</td>\n",
              "      <td>0.936508</td>\n",
              "      <td>01:05</td>\n",
              "    </tr>\n",
              "    <tr>\n",
              "      <td>2</td>\n",
              "      <td>0.196573</td>\n",
              "      <td>0.125020</td>\n",
              "      <td>0.035714</td>\n",
              "      <td>0.964286</td>\n",
              "      <td>01:03</td>\n",
              "    </tr>\n",
              "    <tr>\n",
              "      <td>3</td>\n",
              "      <td>0.177096</td>\n",
              "      <td>0.158737</td>\n",
              "      <td>0.047619</td>\n",
              "      <td>0.952381</td>\n",
              "      <td>01:04</td>\n",
              "    </tr>\n",
              "    <tr>\n",
              "      <td>4</td>\n",
              "      <td>0.143518</td>\n",
              "      <td>0.139894</td>\n",
              "      <td>0.027778</td>\n",
              "      <td>0.972222</td>\n",
              "      <td>01:04</td>\n",
              "    </tr>\n",
              "    <tr>\n",
              "      <td>5</td>\n",
              "      <td>0.156676</td>\n",
              "      <td>0.131163</td>\n",
              "      <td>0.047619</td>\n",
              "      <td>0.952381</td>\n",
              "      <td>01:03</td>\n",
              "    </tr>\n",
              "    <tr>\n",
              "      <td>6</td>\n",
              "      <td>0.153102</td>\n",
              "      <td>0.176189</td>\n",
              "      <td>0.067460</td>\n",
              "      <td>0.932540</td>\n",
              "      <td>01:02</td>\n",
              "    </tr>\n",
              "  </tbody>\n",
              "</table>"
            ],
            "text/plain": [
              "<IPython.core.display.HTML object>"
            ]
          },
          "metadata": {
            "tags": []
          }
        }
      ]
    },
    {
      "cell_type": "code",
      "metadata": {
        "id": "zU_d6qaLzdZU",
        "colab_type": "code",
        "colab": {}
      },
      "source": [
        ""
      ],
      "execution_count": 0,
      "outputs": []
    },
    {
      "cell_type": "code",
      "metadata": {
        "id": "qVaaAmy61rAB",
        "colab_type": "code",
        "colab": {}
      },
      "source": [
        ""
      ],
      "execution_count": 0,
      "outputs": []
    },
    {
      "cell_type": "code",
      "metadata": {
        "id": "uywmyA5tPKIi",
        "colab_type": "code",
        "colab": {}
      },
      "source": [
        "bs =8\n",
        "sz=224\n",
        "tfms = get_transforms(do_flip=True,flip_vert=True,max_lighting=0.4,max_zoom=1.1)\n",
        "src = (ImageList.from_df(df=dfTest,path='',cols='path') #get dataset from dataset\n",
        "        .split_by_rand_pct(0.0) #Splitting the dataset\n",
        "        .label_from_df(cols='label') #obtain labels from the level column\n",
        "      )\n",
        "data= (src.transform(tfms,size=224,padding_mode='zeros') #Data augmentation\n",
        "        .databunch(bs=bs,num_workers=4) #DataBunch\n",
        "        .normalize(imagenet_stats) #Normalize     \n",
        "       )"
      ],
      "execution_count": 0,
      "outputs": []
    },
    {
      "cell_type": "code",
      "metadata": {
        "id": "2z9iZLYaNUoJ",
        "colab_type": "code",
        "outputId": "792b3c02-e918-4864-8569-6980a2f40517",
        "colab": {
          "base_uri": "https://localhost:8080/",
          "height": 17
        }
      },
      "source": [
        "preds,y, loss = learn.get_preds(with_loss=True)"
      ],
      "execution_count": 0,
      "outputs": [
        {
          "output_type": "display_data",
          "data": {
            "text/html": [
              ""
            ],
            "text/plain": [
              "<IPython.core.display.HTML object>"
            ]
          },
          "metadata": {
            "tags": []
          }
        }
      ]
    },
    {
      "cell_type": "code",
      "metadata": {
        "id": "JK5qfQmOOIKl",
        "colab_type": "code",
        "outputId": "f3f2dd5d-12d2-4ef5-c453-d203748da1eb",
        "colab": {
          "base_uri": "https://localhost:8080/",
          "height": 311
        }
      },
      "source": [
        "from sklearn.metrics import f1_score\n",
        "interp = ClassificationInterpretation.from_learner(learn)\n",
        "interp.plot_confusion_matrix()\n",
        "conf=interp.confusion_matrix()\n"
      ],
      "execution_count": 0,
      "outputs": [
        {
          "output_type": "display_data",
          "data": {
            "text/html": [
              ""
            ],
            "text/plain": [
              "<IPython.core.display.HTML object>"
            ]
          },
          "metadata": {
            "tags": []
          }
        },
        {
          "output_type": "display_data",
          "data": {
            "image/png": "[encoded data removed]",
            "text/plain": [
              "<Figure size 432x288 with 1 Axes>"
            ]
          },
          "metadata": {
            "tags": [],
            "needs_background": "light"
          }
        }
      ]
    },
    {
      "cell_type": "code",
      "metadata": {
        "id": "9On5voSsC6_H",
        "colab_type": "code",
        "outputId": "5255085e-1d2b-4afd-d11b-e8d553372f63",
        "colab": {
          "base_uri": "https://localhost:8080/",
          "height": 345
        }
      },
      "source": [
        "\n",
        "interp = ClassificationInterpretation.from_learner(learn)\n",
        "interp.plot_confusion_matrix()\n",
        "conf=interp.confusion_matrix()\n",
        "TrueNagitive=conf[0][0]\n",
        "FalseNegative=conf[0][1]\n",
        "TruePositive=conf[1][1]\n",
        "FalsePositive=conf[1][0]\n",
        "recal=TruePositive/(TruePositive+FalseNegative)\n",
        "precision=TruePositive/(TruePositive+FalsePositive)\n",
        "print(\"Precision of Model =\",precision,\"Recall of Model \", recal)\n",
        "f1=2*((precision*recal)/(precision+recal))\n",
        "print('F1 Score of Model =',f1)"
      ],
      "execution_count": 0,
      "outputs": [
        {
          "output_type": "display_data",
          "data": {
            "text/html": [
              ""
            ],
            "text/plain": [
              "<IPython.core.display.HTML object>"
            ]
          },
          "metadata": {
            "tags": []
          }
        },
        {
          "output_type": "stream",
          "text": [
            "Precision of Model = 1.0 Recall of Model  1.0\n",
            "F1 Score of Model = 1.0\n"
          ],
          "name": "stdout"
        },
        {
          "output_type": "display_data",
          "data": {
            "image/png": "[encoded data removed]",
            "text/plain": [
              "<Figure size 432x288 with 1 Axes>"
            ]
          },
          "metadata": {
            "tags": [],
            "needs_background": "light"
          }
        }
      ]
    },
    {
      "cell_type": "code",
      "metadata": {
        "id": "nB0toJs03Vek",
        "colab_type": "code",
        "colab": {}
      },
      "source": [
        ""
      ],
      "execution_count": 0,
      "outputs": []
    },
    {
      "cell_type": "code",
      "metadata": {
        "id": "093K--G3ERBY",
        "colab_type": "code",
        "outputId": "42dd525a-f13a-4dc9-830c-9596737fd4b5",
        "colab": {
          "base_uri": "https://localhost:8080/",
          "height": 34
        }
      },
      "source": [
        "from sklearn.metrics import roc_curve, auc\n",
        "# probs from log preds\n",
        "probs = np.exp(preds[:,1])\n",
        "# Compute ROC curve\"\n",
        "fpr, tpr, thresholds = roc_curve(y, probs, pos_label=1)\n",
        "\n",
        "# Compute ROC area\n",
        "roc_auc = auc(fpr, tpr)\n",
        "print('ROC area is {0}'.format(roc_auc))"
      ],
      "execution_count": 0,
      "outputs": [
        {
          "output_type": "stream",
          "text": [
            "ROC area is 0.9995797142056598\n"
          ],
          "name": "stdout"
        }
      ]
    },
    {
      "cell_type": "code",
      "metadata": {
        "id": "_L8_muwbEfYR",
        "colab_type": "code",
        "outputId": "264912b2-e08e-48e6-fe1a-221cee77502f",
        "colab": {
          "base_uri": "https://localhost:8080/",
          "height": 312
        }
      },
      "source": [
        "plt.figure()\n",
        "plt.plot(fpr, tpr, color='darkorange', label='ROC curve (area = %0.5f)' % roc_auc)\n",
        "plt.plot([0, 1], [0, 1], color='navy', linestyle='--')\n",
        "plt.xlim([-0.01, 1.0])\n",
        "plt.ylim([0.0, 1.01])\n",
        "plt.xlabel('False Positive Rate')\n",
        "plt.ylabel('True Positive Rate')\n",
        "plt.title('Receiver operating characteristic')\n",
        "plt.legend(loc=\"lower right\")"
      ],
      "execution_count": 0,
      "outputs": [
        {
          "output_type": "execute_result",
          "data": {
            "text/plain": [
              "<matplotlib.legend.Legend at 0x7ff084c7a278>"
            ]
          },
          "metadata": {
            "tags": []
          },
          "execution_count": 29
        },
        {
          "output_type": "display_data",
          "data": {
            "image/png": "[encoded data removed]",
            "text/plain": [
              "<Figure size 432x288 with 1 Axes>"
            ]
          },
          "metadata": {
            "tags": [],
            "needs_background": "light"
          }
        }
      ]
    },
    {
      "cell_type": "code",
      "metadata": {
        "id": "gibHcijE1Igz",
        "colab_type": "code",
        "colab": {}
      },
      "source": [
        ""
      ],
      "execution_count": 0,
      "outputs": []
    }
  ]
}